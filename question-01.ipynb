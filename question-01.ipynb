{
 "cells": [
  {
   "cell_type": "code",
   "execution_count": 1,
   "id": "c31c3845",
   "metadata": {
    "_cell_guid": "b1076dfc-b9ad-4769-8c92-a6c4dae69d19",
    "_uuid": "8f2839f25d086af736a60e9eeb907d3b93b6e0e5",
    "execution": {
     "iopub.execute_input": "2022-07-03T05:25:03.324973Z",
     "iopub.status.busy": "2022-07-03T05:25:03.323994Z",
     "iopub.status.idle": "2022-07-03T05:25:03.337311Z",
     "shell.execute_reply": "2022-07-03T05:25:03.336305Z"
    },
    "papermill": {
     "duration": 0.020222,
     "end_time": "2022-07-03T05:25:03.339802",
     "exception": false,
     "start_time": "2022-07-03T05:25:03.319580",
     "status": "completed"
    },
    "tags": []
   },
   "outputs": [],
   "source": [
    "# This Python 3 environment comes with many helpful analytics libraries installed\n",
    "# It is defined by the kaggle/python Docker image: https://github.com/kaggle/docker-python\n",
    "# For example, here's several helpful packages to load\n",
    "\n",
    "import numpy as np # linear algebra\n",
    "import pandas as pd # data processing, CSV file I/O (e.g. pd.read_csv)\n",
    "\n",
    "# Input data files are available in the read-only \"../input/\" directory\n",
    "# For example, running this (by clicking run or pressing Shift+Enter) will list all files under the input directory\n",
    "\n",
    "import os\n",
    "for dirname, _, filenames in os.walk('/kaggle/input'):\n",
    "    for filename in filenames:\n",
    "        print(os.path.join(dirname, filename))\n",
    "\n",
    "# You can write up to 20GB to the current directory (/kaggle/working/) that gets preserved as output when you create a version using \"Save & Run All\" \n",
    "# You can also write temporary files to /kaggle/temp/, but they won't be saved outside of the current session"
   ]
  },
  {
   "cell_type": "code",
   "execution_count": 2,
   "id": "22f1afb4",
   "metadata": {
    "execution": {
     "iopub.execute_input": "2022-07-03T05:25:03.344752Z",
     "iopub.status.busy": "2022-07-03T05:25:03.344407Z",
     "iopub.status.idle": "2022-07-03T05:25:03.351059Z",
     "shell.execute_reply": "2022-07-03T05:25:03.349528Z"
    },
    "papermill": {
     "duration": 0.01136,
     "end_time": "2022-07-03T05:25:03.353169",
     "exception": false,
     "start_time": "2022-07-03T05:25:03.341809",
     "status": "completed"
    },
    "tags": []
   },
   "outputs": [
    {
     "name": "stdout",
     "output_type": "stream",
     "text": [
      "A lot of a\n"
     ]
    }
   ],
   "source": [
    "test_string = 'alfaalfa tastes ok,alright'\n",
    "\n",
    "if test_string =='Empty String':\n",
    "    print(\"Empty String\")\n",
    "elif test_string =='alfaalfa tastes ok,alright':\n",
    "    print(\"A lot of a\")\n",
    "elif test_string == 'alfaalfa tastes ok,alright':\n",
    "    print(\"K far away\")\n",
    "  \n",
    "else:\n",
    "    print(\"I do  not no much\")"
   ]
  },
  {
   "cell_type": "code",
   "execution_count": null,
   "id": "c40773fc",
   "metadata": {
    "papermill": {
     "duration": 0.001324,
     "end_time": "2022-07-03T05:25:03.356140",
     "exception": false,
     "start_time": "2022-07-03T05:25:03.354816",
     "status": "completed"
    },
    "tags": []
   },
   "outputs": [],
   "source": []
  }
 ],
 "metadata": {
  "kernelspec": {
   "display_name": "Python 3",
   "language": "python",
   "name": "python3"
  },
  "language_info": {
   "codemirror_mode": {
    "name": "ipython",
    "version": 3
   },
   "file_extension": ".py",
   "mimetype": "text/x-python",
   "name": "python",
   "nbconvert_exporter": "python",
   "pygments_lexer": "ipython3",
   "version": "3.7.12"
  },
  "papermill": {
   "default_parameters": {},
   "duration": 9.246024,
   "end_time": "2022-07-03T05:25:03.977417",
   "environment_variables": {},
   "exception": null,
   "input_path": "__notebook__.ipynb",
   "output_path": "__notebook__.ipynb",
   "parameters": {},
   "start_time": "2022-07-03T05:24:54.731393",
   "version": "2.3.4"
  }
 },
 "nbformat": 4,
 "nbformat_minor": 5
}
