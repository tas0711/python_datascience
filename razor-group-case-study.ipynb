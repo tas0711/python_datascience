{
 "cells": [
  {
   "cell_type": "code",
   "execution_count": 1,
   "id": "5bc99fc6",
   "metadata": {
    "_cell_guid": "b1076dfc-b9ad-4769-8c92-a6c4dae69d19",
    "_uuid": "8f2839f25d086af736a60e9eeb907d3b93b6e0e5",
    "execution": {
     "iopub.execute_input": "2022-07-20T00:44:02.976497Z",
     "iopub.status.busy": "2022-07-20T00:44:02.975544Z",
     "iopub.status.idle": "2022-07-20T00:44:02.994929Z",
     "shell.execute_reply": "2022-07-20T00:44:02.993664Z"
    },
    "papermill": {
     "duration": 0.050529,
     "end_time": "2022-07-20T00:44:02.998751",
     "exception": false,
     "start_time": "2022-07-20T00:44:02.948222",
     "status": "completed"
    },
    "tags": []
   },
   "outputs": [
    {
     "name": "stdout",
     "output_type": "stream",
     "text": [
      "/kaggle/input/sample-lodistic/Sample_Longlist_Data (2).xlsx\n"
     ]
    }
   ],
   "source": [
    "# This Python 3 environment comes with many helpful analytics libraries installed\n",
    "# It is defined by the kaggle/python Docker image: https://github.com/kaggle/docker-python\n",
    "# For example, here's several helpful packages to load\n",
    "\n",
    "import numpy as np # linear algebra\n",
    "import pandas as pd # data processing, CSV file I/O (e.g. pd.read_csv)\n",
    "\n",
    "# Input data files are available in the read-only \"../input/\" directory\n",
    "# For example, running this (by clicking run or pressing Shift+Enter) will list all files under the input directory\n",
    "\n",
    "import os\n",
    "for dirname, _, filenames in os.walk('/kaggle/input'):\n",
    "    for filename in filenames:\n",
    "        print(os.path.join(dirname, filename))\n",
    "\n",
    "# You can write up to 20GB to the current directory (/kaggle/working/) that gets preserved as output when you create a version using \"Save & Run All\" \n",
    "# You can also write temporary files to /kaggle/temp/, but they won't be saved outside of the current session"
   ]
  },
  {
   "cell_type": "markdown",
   "id": "4ec4a7e1",
   "metadata": {
    "papermill": {
     "duration": 0.021879,
     "end_time": "2022-07-20T00:44:03.043821",
     "exception": false,
     "start_time": "2022-07-20T00:44:03.021942",
     "status": "completed"
    },
    "tags": []
   },
   "source": [
    "# THE TASK: ## Identification of promising e-commerce acquisition targets\n",
    "\n",
    "### *Your task is to sanitize and analyze the data to profile the sellers present and develop selection criteria to identify the best or most promising sellers in this dataset, that the Acquisitions team at Razor should reach out to, and acquire* ##"
   ]
  },
  {
   "cell_type": "markdown",
   "id": "61e3b8e1",
   "metadata": {
    "execution": {
     "iopub.execute_input": "2022-07-13T16:20:35.461942Z",
     "iopub.status.busy": "2022-07-13T16:20:35.461562Z",
     "iopub.status.idle": "2022-07-13T16:20:35.466587Z",
     "shell.execute_reply": "2022-07-13T16:20:35.465601Z",
     "shell.execute_reply.started": "2022-07-13T16:20:35.461913Z"
    },
    "papermill": {
     "duration": 0.02172,
     "end_time": "2022-07-20T00:44:03.087420",
     "exception": false,
     "start_time": "2022-07-20T00:44:03.065700",
     "status": "completed"
    },
    "tags": []
   },
   "source": [
    "# Import the dataset and take a peek"
   ]
  },
  {
   "cell_type": "code",
   "execution_count": 2,
   "id": "624fcdda",
   "metadata": {
    "execution": {
     "iopub.execute_input": "2022-07-20T00:44:03.131659Z",
     "iopub.status.busy": "2022-07-20T00:44:03.131290Z",
     "iopub.status.idle": "2022-07-20T00:44:17.605731Z",
     "shell.execute_reply": "2022-07-20T00:44:17.604367Z"
    },
    "papermill": {
     "duration": 14.499489,
     "end_time": "2022-07-20T00:44:17.608218",
     "exception": false,
     "start_time": "2022-07-20T00:44:03.108729",
     "status": "completed"
    },
    "tags": []
   },
   "outputs": [
    {
     "name": "stdout",
     "output_type": "stream",
     "text": [
      "Collecting openpyxl\r\n",
      "  Downloading openpyxl-3.0.10-py2.py3-none-any.whl (242 kB)\r\n",
      "\u001b[2K     \u001b[90m━━━━━━━━━━━━━━━━━━━━━━━━━━━━━━━━━━━━━━━\u001b[0m \u001b[32m242.1/242.1 kB\u001b[0m \u001b[31m1.0 MB/s\u001b[0m eta \u001b[36m0:00:00\u001b[0m\r\n",
      "\u001b[?25hCollecting et-xmlfile\r\n",
      "  Downloading et_xmlfile-1.1.0-py3-none-any.whl (4.7 kB)\r\n",
      "Installing collected packages: et-xmlfile, openpyxl\r\n",
      "Successfully installed et-xmlfile-1.1.0 openpyxl-3.0.10\r\n",
      "\u001b[33mWARNING: Running pip as the 'root' user can result in broken permissions and conflicting behaviour with the system package manager. It is recommended to use a virtual environment instead: https://pip.pypa.io/warnings/venv\u001b[0m\u001b[33m\r\n",
      "\u001b[0mNote: you may need to restart the kernel to use updated packages.\n"
     ]
    }
   ],
   "source": [
    "pip install openpyxl"
   ]
  },
  {
   "cell_type": "code",
   "execution_count": 3,
   "id": "3051075f",
   "metadata": {
    "execution": {
     "iopub.execute_input": "2022-07-20T00:44:17.657086Z",
     "iopub.status.busy": "2022-07-20T00:44:17.656584Z",
     "iopub.status.idle": "2022-07-20T00:44:19.021607Z",
     "shell.execute_reply": "2022-07-20T00:44:19.020456Z"
    },
    "papermill": {
     "duration": 1.392616,
     "end_time": "2022-07-20T00:44:19.024275",
     "exception": false,
     "start_time": "2022-07-20T00:44:17.631659",
     "status": "completed"
    },
    "tags": []
   },
   "outputs": [
    {
     "data": {
      "text/html": [
       "<div>\n",
       "<style scoped>\n",
       "    .dataframe tbody tr th:only-of-type {\n",
       "        vertical-align: middle;\n",
       "    }\n",
       "\n",
       "    .dataframe tbody tr th {\n",
       "        vertical-align: top;\n",
       "    }\n",
       "\n",
       "    .dataframe thead th {\n",
       "        text-align: right;\n",
       "    }\n",
       "</style>\n",
       "<table border=\"1\" class=\"dataframe\">\n",
       "  <thead>\n",
       "    <tr style=\"text-align: right;\">\n",
       "      <th></th>\n",
       "      <th>Date Added</th>\n",
       "      <th>category</th>\n",
       "      <th>sellerlink</th>\n",
       "      <th>sellerlink-url</th>\n",
       "      <th>sellerstorefront-url</th>\n",
       "      <th>sellerproductcount</th>\n",
       "      <th>sellerratings</th>\n",
       "      <th>sellerdetails</th>\n",
       "      <th>seller business name</th>\n",
       "      <th>businessaddress</th>\n",
       "      <th>Count of seller brands</th>\n",
       "      <th>Max % of negative seller ratings - last 30 days</th>\n",
       "      <th>Max % of negative seller ratings - last 90 days</th>\n",
       "      <th>Max % of negative seller ratings - last 12 months</th>\n",
       "      <th>Hero Product 1 #ratings</th>\n",
       "      <th>Hero Product 2 #ratings</th>\n",
       "      <th>Sample brand name</th>\n",
       "      <th>Sample Brand URL</th>\n",
       "    </tr>\n",
       "  </thead>\n",
       "  <tbody>\n",
       "    <tr>\n",
       "      <th>0</th>\n",
       "      <td>2020-11-15</td>\n",
       "      <td>Garden</td>\n",
       "      <td>Seller 1</td>\n",
       "      <td>Seller 1-link</td>\n",
       "      <td>Seller 1-storefrontlink</td>\n",
       "      <td>1-16 of over 100,000 results</td>\n",
       "      <td>88% positive in the last 12 months (118 ratings)</td>\n",
       "      <td>Lohas Living Inc James Mazzello US 845 3RD Ave...</td>\n",
       "      <td>Business Name:Lohas Living Inc</td>\n",
       "      <td>411 THEODORE FREMD AVESTE 206 SOUTHRyeNY10580-...</td>\n",
       "      <td>16</td>\n",
       "      <td>17</td>\n",
       "      <td>11</td>\n",
       "      <td>12</td>\n",
       "      <td>5873</td>\n",
       "      <td>4957</td>\n",
       "      <td>Visit the YAMAZAKI Store</td>\n",
       "      <td>https://www.amazon.de/-/en/stores/YAMAZAKI/pag...</td>\n",
       "    </tr>\n",
       "    <tr>\n",
       "      <th>1</th>\n",
       "      <td>2020-11-15</td>\n",
       "      <td>Garden</td>\n",
       "      <td>Seller 2</td>\n",
       "      <td>Seller 2-link</td>\n",
       "      <td>Seller 2-storefrontlink</td>\n",
       "      <td>NaN</td>\n",
       "      <td>90% positive in the last 12 months (566 ratings)</td>\n",
       "      <td>Herzlich Willkommen im Amazon Shop von 1a-Hand...</td>\n",
       "      <td>Business Name:1a-Handelsagentur</td>\n",
       "      <td>1a HandelsagenturLindenallee 2MalchowMecklenbu...</td>\n",
       "      <td>0</td>\n",
       "      <td>2</td>\n",
       "      <td>2</td>\n",
       "      <td>9</td>\n",
       "      <td>0</td>\n",
       "      <td>0</td>\n",
       "      <td>Visit the tesa Store</td>\n",
       "      <td>https://www.amazon.de/-/en/stores/tesa/page/12...</td>\n",
       "    </tr>\n",
       "    <tr>\n",
       "      <th>2</th>\n",
       "      <td>2020-11-15</td>\n",
       "      <td>Garden</td>\n",
       "      <td>Seller 3</td>\n",
       "      <td>Seller 3-link</td>\n",
       "      <td>Seller 3-storefrontlink</td>\n",
       "      <td>1-16 of over 2,000 results</td>\n",
       "      <td>85% positive in the last 12 months (75 ratings)</td>\n",
       "      <td>67878u6i7 is committed to providing each custo...</td>\n",
       "      <td>Business Name:nantongaohuanfangzhipinyouxiango...</td>\n",
       "      <td>zhongnanshijicheng27zhuang1410haochongchuanqun...</td>\n",
       "      <td>15</td>\n",
       "      <td>0</td>\n",
       "      <td>25</td>\n",
       "      <td>12</td>\n",
       "      <td>164</td>\n",
       "      <td>162</td>\n",
       "      <td>TXYFYP</td>\n",
       "      <td>https://www.amazon.de/-/en/s/ref=bl_dp_s_web_0...</td>\n",
       "    </tr>\n",
       "    <tr>\n",
       "      <th>3</th>\n",
       "      <td>2020-11-15</td>\n",
       "      <td>Garden</td>\n",
       "      <td>Seller 4</td>\n",
       "      <td>Seller 4-link</td>\n",
       "      <td>Seller 4-storefrontlink</td>\n",
       "      <td>1-16 of 123 results</td>\n",
       "      <td>NaN</td>\n",
       "      <td>7 days home life supermarket is committed to p...</td>\n",
       "      <td>Business Name:Zhengzhou Yaoqiong Trading Company</td>\n",
       "      <td>河南省中兴南路福禄街自贸试验区郑州片区（郑东）河南商会大厦1901室450000CN</td>\n",
       "      <td>1</td>\n",
       "      <td>0</td>\n",
       "      <td>0</td>\n",
       "      <td>0</td>\n",
       "      <td>0</td>\n",
       "      <td>0</td>\n",
       "      <td>SHIFENG</td>\n",
       "      <td>https://www.amazon.de/-/en/s/ref=bl_dp_s_web_0...</td>\n",
       "    </tr>\n",
       "    <tr>\n",
       "      <th>4</th>\n",
       "      <td>2020-11-15</td>\n",
       "      <td>Garden</td>\n",
       "      <td>Seller 5</td>\n",
       "      <td>Seller 5-link</td>\n",
       "      <td>Seller 5-storefrontlink</td>\n",
       "      <td>1-16 of over 1,000 results</td>\n",
       "      <td>81% positive in the last 12 months (52 ratings)</td>\n",
       "      <td>78 68yui678 is committed to providing each cus...</td>\n",
       "      <td>Business Name:shenzhenfeichangshangmeimaoyiyou...</td>\n",
       "      <td>minzhidadaoshaxialaocun94dongA901longhuaxinqus...</td>\n",
       "      <td>16</td>\n",
       "      <td>0</td>\n",
       "      <td>31</td>\n",
       "      <td>15</td>\n",
       "      <td>224</td>\n",
       "      <td>113</td>\n",
       "      <td>YUOKI99</td>\n",
       "      <td>https://www.amazon.de/-/en/s/ref=bl_dp_s_web_0...</td>\n",
       "    </tr>\n",
       "  </tbody>\n",
       "</table>\n",
       "</div>"
      ],
      "text/plain": [
       "  Date Added category sellerlink sellerlink-url     sellerstorefront-url  \\\n",
       "0 2020-11-15   Garden   Seller 1  Seller 1-link  Seller 1-storefrontlink   \n",
       "1 2020-11-15   Garden   Seller 2  Seller 2-link  Seller 2-storefrontlink   \n",
       "2 2020-11-15   Garden   Seller 3  Seller 3-link  Seller 3-storefrontlink   \n",
       "3 2020-11-15   Garden   Seller 4  Seller 4-link  Seller 4-storefrontlink   \n",
       "4 2020-11-15   Garden   Seller 5  Seller 5-link  Seller 5-storefrontlink   \n",
       "\n",
       "             sellerproductcount  \\\n",
       "0  1-16 of over 100,000 results   \n",
       "1                           NaN   \n",
       "2    1-16 of over 2,000 results   \n",
       "3           1-16 of 123 results   \n",
       "4    1-16 of over 1,000 results   \n",
       "\n",
       "                                      sellerratings  \\\n",
       "0  88% positive in the last 12 months (118 ratings)   \n",
       "1  90% positive in the last 12 months (566 ratings)   \n",
       "2   85% positive in the last 12 months (75 ratings)   \n",
       "3                                               NaN   \n",
       "4   81% positive in the last 12 months (52 ratings)   \n",
       "\n",
       "                                       sellerdetails  \\\n",
       "0  Lohas Living Inc James Mazzello US 845 3RD Ave...   \n",
       "1  Herzlich Willkommen im Amazon Shop von 1a-Hand...   \n",
       "2  67878u6i7 is committed to providing each custo...   \n",
       "3  7 days home life supermarket is committed to p...   \n",
       "4  78 68yui678 is committed to providing each cus...   \n",
       "\n",
       "                                seller business name  \\\n",
       "0                     Business Name:Lohas Living Inc   \n",
       "1                    Business Name:1a-Handelsagentur   \n",
       "2  Business Name:nantongaohuanfangzhipinyouxiango...   \n",
       "3   Business Name:Zhengzhou Yaoqiong Trading Company   \n",
       "4  Business Name:shenzhenfeichangshangmeimaoyiyou...   \n",
       "\n",
       "                                     businessaddress  Count of seller brands  \\\n",
       "0  411 THEODORE FREMD AVESTE 206 SOUTHRyeNY10580-...                      16   \n",
       "1  1a HandelsagenturLindenallee 2MalchowMecklenbu...                       0   \n",
       "2  zhongnanshijicheng27zhuang1410haochongchuanqun...                      15   \n",
       "3         河南省中兴南路福禄街自贸试验区郑州片区（郑东）河南商会大厦1901室450000CN                       1   \n",
       "4  minzhidadaoshaxialaocun94dongA901longhuaxinqus...                      16   \n",
       "\n",
       "   Max % of negative seller ratings - last 30 days  \\\n",
       "0                                               17   \n",
       "1                                                2   \n",
       "2                                                0   \n",
       "3                                                0   \n",
       "4                                                0   \n",
       "\n",
       "   Max % of negative seller ratings - last 90 days  \\\n",
       "0                                               11   \n",
       "1                                                2   \n",
       "2                                               25   \n",
       "3                                                0   \n",
       "4                                               31   \n",
       "\n",
       "   Max % of negative seller ratings - last 12 months  Hero Product 1 #ratings  \\\n",
       "0                                                 12                     5873   \n",
       "1                                                  9                        0   \n",
       "2                                                 12                      164   \n",
       "3                                                  0                        0   \n",
       "4                                                 15                      224   \n",
       "\n",
       "   Hero Product 2 #ratings         Sample brand name  \\\n",
       "0                     4957  Visit the YAMAZAKI Store   \n",
       "1                        0      Visit the tesa Store   \n",
       "2                      162                    TXYFYP   \n",
       "3                        0                   SHIFENG   \n",
       "4                      113                   YUOKI99   \n",
       "\n",
       "                                    Sample Brand URL  \n",
       "0  https://www.amazon.de/-/en/stores/YAMAZAKI/pag...  \n",
       "1  https://www.amazon.de/-/en/stores/tesa/page/12...  \n",
       "2  https://www.amazon.de/-/en/s/ref=bl_dp_s_web_0...  \n",
       "3  https://www.amazon.de/-/en/s/ref=bl_dp_s_web_0...  \n",
       "4  https://www.amazon.de/-/en/s/ref=bl_dp_s_web_0...  "
      ]
     },
     "execution_count": 3,
     "metadata": {},
     "output_type": "execute_result"
    }
   ],
   "source": [
    "data = pd.read_excel('../input/sample-lodistic/Sample_Longlist_Data (2).xlsx')\n",
    "\n",
    "data.head()"
   ]
  },
  {
   "cell_type": "code",
   "execution_count": 4,
   "id": "80930129",
   "metadata": {
    "execution": {
     "iopub.execute_input": "2022-07-20T00:44:19.071462Z",
     "iopub.status.busy": "2022-07-20T00:44:19.071080Z",
     "iopub.status.idle": "2022-07-20T00:44:19.078239Z",
     "shell.execute_reply": "2022-07-20T00:44:19.077079Z"
    },
    "papermill": {
     "duration": 0.033469,
     "end_time": "2022-07-20T00:44:19.080588",
     "exception": false,
     "start_time": "2022-07-20T00:44:19.047119",
     "status": "completed"
    },
    "tags": []
   },
   "outputs": [
    {
     "data": {
      "text/plain": [
       "(1839, 18)"
      ]
     },
     "execution_count": 4,
     "metadata": {},
     "output_type": "execute_result"
    }
   ],
   "source": [
    "data.shape"
   ]
  },
  {
   "cell_type": "markdown",
   "id": "ae592de2",
   "metadata": {
    "execution": {
     "iopub.execute_input": "2022-07-19T22:25:11.863968Z",
     "iopub.status.busy": "2022-07-19T22:25:11.863422Z",
     "iopub.status.idle": "2022-07-19T22:25:11.872713Z",
     "shell.execute_reply": "2022-07-19T22:25:11.871544Z",
     "shell.execute_reply.started": "2022-07-19T22:25:11.863925Z"
    },
    "papermill": {
     "duration": 0.024299,
     "end_time": "2022-07-20T00:44:19.127663",
     "exception": false,
     "start_time": "2022-07-20T00:44:19.103364",
     "status": "completed"
    },
    "tags": []
   },
   "source": [
    "# 2. Filter out the sellers from China"
   ]
  },
  {
   "cell_type": "code",
   "execution_count": 5,
   "id": "d200cf96",
   "metadata": {
    "execution": {
     "iopub.execute_input": "2022-07-20T00:44:19.175595Z",
     "iopub.status.busy": "2022-07-20T00:44:19.175212Z",
     "iopub.status.idle": "2022-07-20T00:44:19.184365Z",
     "shell.execute_reply": "2022-07-20T00:44:19.183163Z"
    },
    "papermill": {
     "duration": 0.035688,
     "end_time": "2022-07-20T00:44:19.186573",
     "exception": false,
     "start_time": "2022-07-20T00:44:19.150885",
     "status": "completed"
    },
    "tags": []
   },
   "outputs": [],
   "source": [
    "business_loc = data['businessaddress']"
   ]
  },
  {
   "cell_type": "code",
   "execution_count": 6,
   "id": "d4ac35cd",
   "metadata": {
    "execution": {
     "iopub.execute_input": "2022-07-20T00:44:19.234146Z",
     "iopub.status.busy": "2022-07-20T00:44:19.233720Z",
     "iopub.status.idle": "2022-07-20T00:44:19.239905Z",
     "shell.execute_reply": "2022-07-20T00:44:19.238636Z"
    },
    "papermill": {
     "duration": 0.032577,
     "end_time": "2022-07-20T00:44:19.241991",
     "exception": false,
     "start_time": "2022-07-20T00:44:19.209414",
     "status": "completed"
    },
    "tags": []
   },
   "outputs": [],
   "source": [
    "business_loc.fillna('CN', inplace=True)"
   ]
  },
  {
   "cell_type": "code",
   "execution_count": 7,
   "id": "7449cc0f",
   "metadata": {
    "execution": {
     "iopub.execute_input": "2022-07-20T00:44:19.289170Z",
     "iopub.status.busy": "2022-07-20T00:44:19.288790Z",
     "iopub.status.idle": "2022-07-20T00:44:19.297959Z",
     "shell.execute_reply": "2022-07-20T00:44:19.296874Z"
    },
    "papermill": {
     "duration": 0.035402,
     "end_time": "2022-07-20T00:44:19.300082",
     "exception": false,
     "start_time": "2022-07-20T00:44:19.264680",
     "status": "completed"
    },
    "tags": []
   },
   "outputs": [
    {
     "data": {
      "text/plain": [
       "0       411 THEODORE FREMD AVESTE 206 SOUTHRyeNY10580-...\n",
       "1       1a HandelsagenturLindenallee 2MalchowMecklenbu...\n",
       "2       zhongnanshijicheng27zhuang1410haochongchuanqun...\n",
       "3              河南省中兴南路福禄街自贸试验区郑州片区（郑东）河南商会大厦1901室450000CN\n",
       "4       minzhidadaoshaxialaocun94dongA901longhuaxinqus...\n",
       "                              ...                        \n",
       "1834    Longhuaxinqu Longhuajiedao YousongDiergongyequ...\n",
       "1835    hebeishengshijiazhuangshiwujixiangaotouxiangxi...\n",
       "1836    lankaoxianzhangjunmuzhenzhengzhuangcunerzukaif...\n",
       "1837    bei san huan da ming gong jian cai shi changba...\n",
       "1838    honggutanxinquhuanandongerlu99haolongxiangyuan...\n",
       "Name: businessaddress, Length: 1839, dtype: object"
      ]
     },
     "execution_count": 7,
     "metadata": {},
     "output_type": "execute_result"
    }
   ],
   "source": [
    "business_loc"
   ]
  },
  {
   "cell_type": "code",
   "execution_count": 8,
   "id": "5fe7fc86",
   "metadata": {
    "execution": {
     "iopub.execute_input": "2022-07-20T00:44:19.347891Z",
     "iopub.status.busy": "2022-07-20T00:44:19.347482Z",
     "iopub.status.idle": "2022-07-20T00:44:19.358204Z",
     "shell.execute_reply": "2022-07-20T00:44:19.356953Z"
    },
    "papermill": {
     "duration": 0.03755,
     "end_time": "2022-07-20T00:44:19.360534",
     "exception": false,
     "start_time": "2022-07-20T00:44:19.322984",
     "status": "completed"
    },
    "tags": []
   },
   "outputs": [
    {
     "data": {
      "text/plain": [
       "0        True\n",
       "1        True\n",
       "2       False\n",
       "3       False\n",
       "4       False\n",
       "        ...  \n",
       "1834    False\n",
       "1835    False\n",
       "1836    False\n",
       "1837    False\n",
       "1838    False\n",
       "Name: businessaddress, Length: 1839, dtype: bool"
      ]
     },
     "execution_count": 8,
     "metadata": {},
     "output_type": "execute_result"
    }
   ],
   "source": [
    "chinese_sellers = business_loc.apply(lambda x: 'CN' not in x)\n",
    "chinese_sellers"
   ]
  },
  {
   "cell_type": "code",
   "execution_count": 9,
   "id": "93d1be9c",
   "metadata": {
    "execution": {
     "iopub.execute_input": "2022-07-20T00:44:19.409760Z",
     "iopub.status.busy": "2022-07-20T00:44:19.409350Z",
     "iopub.status.idle": "2022-07-20T00:44:19.419208Z",
     "shell.execute_reply": "2022-07-20T00:44:19.417832Z"
    },
    "papermill": {
     "duration": 0.037091,
     "end_time": "2022-07-20T00:44:19.421560",
     "exception": false,
     "start_time": "2022-07-20T00:44:19.384469",
     "status": "completed"
    },
    "tags": []
   },
   "outputs": [],
   "source": [
    "data = data[chinese_sellers]"
   ]
  },
  {
   "cell_type": "code",
   "execution_count": 10,
   "id": "9a74ee59",
   "metadata": {
    "execution": {
     "iopub.execute_input": "2022-07-20T00:44:19.470346Z",
     "iopub.status.busy": "2022-07-20T00:44:19.469938Z",
     "iopub.status.idle": "2022-07-20T00:44:19.491952Z",
     "shell.execute_reply": "2022-07-20T00:44:19.490991Z"
    },
    "papermill": {
     "duration": 0.049223,
     "end_time": "2022-07-20T00:44:19.494206",
     "exception": false,
     "start_time": "2022-07-20T00:44:19.444983",
     "status": "completed"
    },
    "tags": []
   },
   "outputs": [
    {
     "data": {
      "text/html": [
       "<div>\n",
       "<style scoped>\n",
       "    .dataframe tbody tr th:only-of-type {\n",
       "        vertical-align: middle;\n",
       "    }\n",
       "\n",
       "    .dataframe tbody tr th {\n",
       "        vertical-align: top;\n",
       "    }\n",
       "\n",
       "    .dataframe thead th {\n",
       "        text-align: right;\n",
       "    }\n",
       "</style>\n",
       "<table border=\"1\" class=\"dataframe\">\n",
       "  <thead>\n",
       "    <tr style=\"text-align: right;\">\n",
       "      <th></th>\n",
       "      <th>Date Added</th>\n",
       "      <th>category</th>\n",
       "      <th>sellerlink</th>\n",
       "      <th>sellerlink-url</th>\n",
       "      <th>sellerstorefront-url</th>\n",
       "      <th>sellerproductcount</th>\n",
       "      <th>sellerratings</th>\n",
       "      <th>sellerdetails</th>\n",
       "      <th>seller business name</th>\n",
       "      <th>businessaddress</th>\n",
       "      <th>Count of seller brands</th>\n",
       "      <th>Max % of negative seller ratings - last 30 days</th>\n",
       "      <th>Max % of negative seller ratings - last 90 days</th>\n",
       "      <th>Max % of negative seller ratings - last 12 months</th>\n",
       "      <th>Hero Product 1 #ratings</th>\n",
       "      <th>Hero Product 2 #ratings</th>\n",
       "      <th>Sample brand name</th>\n",
       "      <th>Sample Brand URL</th>\n",
       "    </tr>\n",
       "  </thead>\n",
       "  <tbody>\n",
       "    <tr>\n",
       "      <th>0</th>\n",
       "      <td>2020-11-15</td>\n",
       "      <td>Garden</td>\n",
       "      <td>Seller 1</td>\n",
       "      <td>Seller 1-link</td>\n",
       "      <td>Seller 1-storefrontlink</td>\n",
       "      <td>1-16 of over 100,000 results</td>\n",
       "      <td>88% positive in the last 12 months (118 ratings)</td>\n",
       "      <td>Lohas Living Inc James Mazzello US 845 3RD Ave...</td>\n",
       "      <td>Business Name:Lohas Living Inc</td>\n",
       "      <td>411 THEODORE FREMD AVESTE 206 SOUTHRyeNY10580-...</td>\n",
       "      <td>16</td>\n",
       "      <td>17</td>\n",
       "      <td>11</td>\n",
       "      <td>12</td>\n",
       "      <td>5873</td>\n",
       "      <td>4957</td>\n",
       "      <td>Visit the YAMAZAKI Store</td>\n",
       "      <td>https://www.amazon.de/-/en/stores/YAMAZAKI/pag...</td>\n",
       "    </tr>\n",
       "    <tr>\n",
       "      <th>1</th>\n",
       "      <td>2020-11-15</td>\n",
       "      <td>Garden</td>\n",
       "      <td>Seller 2</td>\n",
       "      <td>Seller 2-link</td>\n",
       "      <td>Seller 2-storefrontlink</td>\n",
       "      <td>NaN</td>\n",
       "      <td>90% positive in the last 12 months (566 ratings)</td>\n",
       "      <td>Herzlich Willkommen im Amazon Shop von 1a-Hand...</td>\n",
       "      <td>Business Name:1a-Handelsagentur</td>\n",
       "      <td>1a HandelsagenturLindenallee 2MalchowMecklenbu...</td>\n",
       "      <td>0</td>\n",
       "      <td>2</td>\n",
       "      <td>2</td>\n",
       "      <td>9</td>\n",
       "      <td>0</td>\n",
       "      <td>0</td>\n",
       "      <td>Visit the tesa Store</td>\n",
       "      <td>https://www.amazon.de/-/en/stores/tesa/page/12...</td>\n",
       "    </tr>\n",
       "    <tr>\n",
       "      <th>14</th>\n",
       "      <td>2020-11-15</td>\n",
       "      <td>Garden</td>\n",
       "      <td>Seller 15</td>\n",
       "      <td>Seller 15-link</td>\n",
       "      <td>Seller 15-storefrontlink</td>\n",
       "      <td>1-16 of 919 results</td>\n",
       "      <td>97% positive in the last 12 months (116 ratings)</td>\n",
       "      <td>Impressum\\n \\n Gesetzliche Anbieterkennung:\\n ...</td>\n",
       "      <td>Business Name:Oliver Mills</td>\n",
       "      <td>Kaiserstr.12Borgholzhausen33829DE</td>\n",
       "      <td>15</td>\n",
       "      <td>0</td>\n",
       "      <td>0</td>\n",
       "      <td>3</td>\n",
       "      <td>1446</td>\n",
       "      <td>921</td>\n",
       "      <td>Unbekannt</td>\n",
       "      <td>https://www.amazon.de/-/en/Unbekannt/b/ref=bl_...</td>\n",
       "    </tr>\n",
       "    <tr>\n",
       "      <th>19</th>\n",
       "      <td>2020-11-15</td>\n",
       "      <td>Garden</td>\n",
       "      <td>Seller 20</td>\n",
       "      <td>Seller 20-link</td>\n",
       "      <td>Seller 20-storefrontlink</td>\n",
       "      <td>NaN</td>\n",
       "      <td>76% positive in the last 12 months (3721 ratings)</td>\n",
       "      <td>Impressum: ABC-Schnäppchenmarkt GmbH \\n Jösser...</td>\n",
       "      <td>Business Name:ABC-Schnäppchenmarkt GmbH</td>\n",
       "      <td>Jösser Weg10Petershagen32469DE</td>\n",
       "      <td>0</td>\n",
       "      <td>18</td>\n",
       "      <td>20</td>\n",
       "      <td>20</td>\n",
       "      <td>0</td>\n",
       "      <td>0</td>\n",
       "      <td>Visit the TFA Dostmann Store</td>\n",
       "      <td>https://www.amazon.de/-/en/stores/TFA+Dostmann...</td>\n",
       "    </tr>\n",
       "    <tr>\n",
       "      <th>20</th>\n",
       "      <td>2020-11-15</td>\n",
       "      <td>Garden</td>\n",
       "      <td>Seller 21</td>\n",
       "      <td>Seller 21-link</td>\n",
       "      <td>Seller 21-storefrontlink</td>\n",
       "      <td>1-16 of 123 results</td>\n",
       "      <td>NaN</td>\n",
       "      <td>AllSparesEire is committed to providing each c...</td>\n",
       "      <td>Business Name:All Terrain Ireland</td>\n",
       "      <td>WEXFORDGOREY46 MAIN STY25T2N4IE</td>\n",
       "      <td>14</td>\n",
       "      <td>0</td>\n",
       "      <td>0</td>\n",
       "      <td>0</td>\n",
       "      <td>837</td>\n",
       "      <td>787</td>\n",
       "      <td>Mountfield Outdoor Spares</td>\n",
       "      <td>https://www.amazon.de/-/en/Mountfield-Outdoor-...</td>\n",
       "    </tr>\n",
       "  </tbody>\n",
       "</table>\n",
       "</div>"
      ],
      "text/plain": [
       "   Date Added category sellerlink  sellerlink-url      sellerstorefront-url  \\\n",
       "0  2020-11-15   Garden   Seller 1   Seller 1-link   Seller 1-storefrontlink   \n",
       "1  2020-11-15   Garden   Seller 2   Seller 2-link   Seller 2-storefrontlink   \n",
       "14 2020-11-15   Garden  Seller 15  Seller 15-link  Seller 15-storefrontlink   \n",
       "19 2020-11-15   Garden  Seller 20  Seller 20-link  Seller 20-storefrontlink   \n",
       "20 2020-11-15   Garden  Seller 21  Seller 21-link  Seller 21-storefrontlink   \n",
       "\n",
       "              sellerproductcount  \\\n",
       "0   1-16 of over 100,000 results   \n",
       "1                            NaN   \n",
       "14           1-16 of 919 results   \n",
       "19                           NaN   \n",
       "20           1-16 of 123 results   \n",
       "\n",
       "                                        sellerratings  \\\n",
       "0    88% positive in the last 12 months (118 ratings)   \n",
       "1    90% positive in the last 12 months (566 ratings)   \n",
       "14   97% positive in the last 12 months (116 ratings)   \n",
       "19  76% positive in the last 12 months (3721 ratings)   \n",
       "20                                                NaN   \n",
       "\n",
       "                                        sellerdetails  \\\n",
       "0   Lohas Living Inc James Mazzello US 845 3RD Ave...   \n",
       "1   Herzlich Willkommen im Amazon Shop von 1a-Hand...   \n",
       "14  Impressum\\n \\n Gesetzliche Anbieterkennung:\\n ...   \n",
       "19  Impressum: ABC-Schnäppchenmarkt GmbH \\n Jösser...   \n",
       "20  AllSparesEire is committed to providing each c...   \n",
       "\n",
       "                       seller business name  \\\n",
       "0            Business Name:Lohas Living Inc   \n",
       "1           Business Name:1a-Handelsagentur   \n",
       "14               Business Name:Oliver Mills   \n",
       "19  Business Name:ABC-Schnäppchenmarkt GmbH   \n",
       "20        Business Name:All Terrain Ireland   \n",
       "\n",
       "                                      businessaddress  Count of seller brands  \\\n",
       "0   411 THEODORE FREMD AVESTE 206 SOUTHRyeNY10580-...                      16   \n",
       "1   1a HandelsagenturLindenallee 2MalchowMecklenbu...                       0   \n",
       "14                  Kaiserstr.12Borgholzhausen33829DE                      15   \n",
       "19                     Jösser Weg10Petershagen32469DE                       0   \n",
       "20                    WEXFORDGOREY46 MAIN STY25T2N4IE                      14   \n",
       "\n",
       "    Max % of negative seller ratings - last 30 days  \\\n",
       "0                                                17   \n",
       "1                                                 2   \n",
       "14                                                0   \n",
       "19                                               18   \n",
       "20                                                0   \n",
       "\n",
       "    Max % of negative seller ratings - last 90 days  \\\n",
       "0                                                11   \n",
       "1                                                 2   \n",
       "14                                                0   \n",
       "19                                               20   \n",
       "20                                                0   \n",
       "\n",
       "    Max % of negative seller ratings - last 12 months  \\\n",
       "0                                                  12   \n",
       "1                                                   9   \n",
       "14                                                  3   \n",
       "19                                                 20   \n",
       "20                                                  0   \n",
       "\n",
       "    Hero Product 1 #ratings  Hero Product 2 #ratings  \\\n",
       "0                      5873                     4957   \n",
       "1                         0                        0   \n",
       "14                     1446                      921   \n",
       "19                        0                        0   \n",
       "20                      837                      787   \n",
       "\n",
       "               Sample brand name  \\\n",
       "0       Visit the YAMAZAKI Store   \n",
       "1           Visit the tesa Store   \n",
       "14                     Unbekannt   \n",
       "19  Visit the TFA Dostmann Store   \n",
       "20     Mountfield Outdoor Spares   \n",
       "\n",
       "                                     Sample Brand URL  \n",
       "0   https://www.amazon.de/-/en/stores/YAMAZAKI/pag...  \n",
       "1   https://www.amazon.de/-/en/stores/tesa/page/12...  \n",
       "14  https://www.amazon.de/-/en/Unbekannt/b/ref=bl_...  \n",
       "19  https://www.amazon.de/-/en/stores/TFA+Dostmann...  \n",
       "20  https://www.amazon.de/-/en/Mountfield-Outdoor-...  "
      ]
     },
     "execution_count": 10,
     "metadata": {},
     "output_type": "execute_result"
    }
   ],
   "source": [
    "data.head()"
   ]
  },
  {
   "cell_type": "code",
   "execution_count": 11,
   "id": "c31d7b93",
   "metadata": {
    "execution": {
     "iopub.execute_input": "2022-07-20T00:44:19.544659Z",
     "iopub.status.busy": "2022-07-20T00:44:19.544233Z",
     "iopub.status.idle": "2022-07-20T00:44:19.551635Z",
     "shell.execute_reply": "2022-07-20T00:44:19.550363Z"
    },
    "papermill": {
     "duration": 0.035775,
     "end_time": "2022-07-20T00:44:19.553927",
     "exception": false,
     "start_time": "2022-07-20T00:44:19.518152",
     "status": "completed"
    },
    "tags": []
   },
   "outputs": [
    {
     "data": {
      "text/plain": [
       "(525, 18)"
      ]
     },
     "execution_count": 11,
     "metadata": {},
     "output_type": "execute_result"
    }
   ],
   "source": [
    "data.shape"
   ]
  },
  {
   "cell_type": "markdown",
   "id": "fbe8d7ba",
   "metadata": {
    "execution": {
     "iopub.execute_input": "2022-07-19T22:25:11.991144Z",
     "iopub.status.busy": "2022-07-19T22:25:11.99053Z",
     "iopub.status.idle": "2022-07-19T22:25:12.00382Z",
     "shell.execute_reply": "2022-07-19T22:25:12.002732Z",
     "shell.execute_reply.started": "2022-07-19T22:25:11.991103Z"
    },
    "papermill": {
     "duration": 0.023575,
     "end_time": "2022-07-20T00:44:19.602112",
     "exception": false,
     "start_time": "2022-07-20T00:44:19.578537",
     "status": "completed"
    },
    "tags": []
   },
   "source": [
    "# 3. Make a dataframe with relevant columns for seller selection exercise"
   ]
  },
  {
   "cell_type": "code",
   "execution_count": 12,
   "id": "52ce8e72",
   "metadata": {
    "execution": {
     "iopub.execute_input": "2022-07-20T00:44:19.655864Z",
     "iopub.status.busy": "2022-07-20T00:44:19.655437Z",
     "iopub.status.idle": "2022-07-20T00:44:19.664094Z",
     "shell.execute_reply": "2022-07-20T00:44:19.662502Z"
    },
    "papermill": {
     "duration": 0.039858,
     "end_time": "2022-07-20T00:44:19.666849",
     "exception": false,
     "start_time": "2022-07-20T00:44:19.626991",
     "status": "completed"
    },
    "tags": []
   },
   "outputs": [],
   "source": [
    "data_analysis = data[['sellerproductcount', 'sellerratings', 'Count of seller brands', 'Max % of negative seller ratings - last 12 months', 'Hero Product 1 #ratings', 'Hero Product 2 #ratings', 'sellerdetails']]"
   ]
  },
  {
   "cell_type": "code",
   "execution_count": 13,
   "id": "3a35454a",
   "metadata": {
    "execution": {
     "iopub.execute_input": "2022-07-20T00:44:19.720107Z",
     "iopub.status.busy": "2022-07-20T00:44:19.718257Z",
     "iopub.status.idle": "2022-07-20T00:44:19.736629Z",
     "shell.execute_reply": "2022-07-20T00:44:19.735551Z"
    },
    "papermill": {
     "duration": 0.046144,
     "end_time": "2022-07-20T00:44:19.738775",
     "exception": false,
     "start_time": "2022-07-20T00:44:19.692631",
     "status": "completed"
    },
    "tags": []
   },
   "outputs": [
    {
     "data": {
      "text/html": [
       "<div>\n",
       "<style scoped>\n",
       "    .dataframe tbody tr th:only-of-type {\n",
       "        vertical-align: middle;\n",
       "    }\n",
       "\n",
       "    .dataframe tbody tr th {\n",
       "        vertical-align: top;\n",
       "    }\n",
       "\n",
       "    .dataframe thead th {\n",
       "        text-align: right;\n",
       "    }\n",
       "</style>\n",
       "<table border=\"1\" class=\"dataframe\">\n",
       "  <thead>\n",
       "    <tr style=\"text-align: right;\">\n",
       "      <th></th>\n",
       "      <th>sellerproductcount</th>\n",
       "      <th>sellerratings</th>\n",
       "      <th>Count of seller brands</th>\n",
       "      <th>Max % of negative seller ratings - last 12 months</th>\n",
       "      <th>Hero Product 1 #ratings</th>\n",
       "      <th>Hero Product 2 #ratings</th>\n",
       "      <th>sellerdetails</th>\n",
       "    </tr>\n",
       "  </thead>\n",
       "  <tbody>\n",
       "    <tr>\n",
       "      <th>0</th>\n",
       "      <td>1-16 of over 100,000 results</td>\n",
       "      <td>88% positive in the last 12 months (118 ratings)</td>\n",
       "      <td>16</td>\n",
       "      <td>12</td>\n",
       "      <td>5873</td>\n",
       "      <td>4957</td>\n",
       "      <td>Lohas Living Inc James Mazzello US 845 3RD Ave...</td>\n",
       "    </tr>\n",
       "    <tr>\n",
       "      <th>1</th>\n",
       "      <td>NaN</td>\n",
       "      <td>90% positive in the last 12 months (566 ratings)</td>\n",
       "      <td>0</td>\n",
       "      <td>9</td>\n",
       "      <td>0</td>\n",
       "      <td>0</td>\n",
       "      <td>Herzlich Willkommen im Amazon Shop von 1a-Hand...</td>\n",
       "    </tr>\n",
       "    <tr>\n",
       "      <th>14</th>\n",
       "      <td>1-16 of 919 results</td>\n",
       "      <td>97% positive in the last 12 months (116 ratings)</td>\n",
       "      <td>15</td>\n",
       "      <td>3</td>\n",
       "      <td>1446</td>\n",
       "      <td>921</td>\n",
       "      <td>Impressum\\n \\n Gesetzliche Anbieterkennung:\\n ...</td>\n",
       "    </tr>\n",
       "    <tr>\n",
       "      <th>19</th>\n",
       "      <td>NaN</td>\n",
       "      <td>76% positive in the last 12 months (3721 ratings)</td>\n",
       "      <td>0</td>\n",
       "      <td>20</td>\n",
       "      <td>0</td>\n",
       "      <td>0</td>\n",
       "      <td>Impressum: ABC-Schnäppchenmarkt GmbH \\n Jösser...</td>\n",
       "    </tr>\n",
       "    <tr>\n",
       "      <th>20</th>\n",
       "      <td>1-16 of 123 results</td>\n",
       "      <td>NaN</td>\n",
       "      <td>14</td>\n",
       "      <td>0</td>\n",
       "      <td>837</td>\n",
       "      <td>787</td>\n",
       "      <td>AllSparesEire is committed to providing each c...</td>\n",
       "    </tr>\n",
       "  </tbody>\n",
       "</table>\n",
       "</div>"
      ],
      "text/plain": [
       "              sellerproductcount  \\\n",
       "0   1-16 of over 100,000 results   \n",
       "1                            NaN   \n",
       "14           1-16 of 919 results   \n",
       "19                           NaN   \n",
       "20           1-16 of 123 results   \n",
       "\n",
       "                                        sellerratings  Count of seller brands  \\\n",
       "0    88% positive in the last 12 months (118 ratings)                      16   \n",
       "1    90% positive in the last 12 months (566 ratings)                       0   \n",
       "14   97% positive in the last 12 months (116 ratings)                      15   \n",
       "19  76% positive in the last 12 months (3721 ratings)                       0   \n",
       "20                                                NaN                      14   \n",
       "\n",
       "    Max % of negative seller ratings - last 12 months  \\\n",
       "0                                                  12   \n",
       "1                                                   9   \n",
       "14                                                  3   \n",
       "19                                                 20   \n",
       "20                                                  0   \n",
       "\n",
       "    Hero Product 1 #ratings  Hero Product 2 #ratings  \\\n",
       "0                      5873                     4957   \n",
       "1                         0                        0   \n",
       "14                     1446                      921   \n",
       "19                        0                        0   \n",
       "20                      837                      787   \n",
       "\n",
       "                                        sellerdetails  \n",
       "0   Lohas Living Inc James Mazzello US 845 3RD Ave...  \n",
       "1   Herzlich Willkommen im Amazon Shop von 1a-Hand...  \n",
       "14  Impressum\\n \\n Gesetzliche Anbieterkennung:\\n ...  \n",
       "19  Impressum: ABC-Schnäppchenmarkt GmbH \\n Jösser...  \n",
       "20  AllSparesEire is committed to providing each c...  "
      ]
     },
     "execution_count": 13,
     "metadata": {},
     "output_type": "execute_result"
    }
   ],
   "source": [
    "data_analysis.head()"
   ]
  },
  {
   "cell_type": "markdown",
   "id": "7835488d",
   "metadata": {
    "execution": {
     "iopub.execute_input": "2022-07-19T22:25:12.043602Z",
     "iopub.status.busy": "2022-07-19T22:25:12.041194Z",
     "iopub.status.idle": "2022-07-19T22:25:12.047881Z",
     "shell.execute_reply": "2022-07-19T22:25:12.04711Z",
     "shell.execute_reply.started": "2022-07-19T22:25:12.043558Z"
    },
    "papermill": {
     "duration": 0.024213,
     "end_time": "2022-07-20T00:44:19.792461",
     "exception": false,
     "start_time": "2022-07-20T00:44:19.768248",
     "status": "completed"
    },
    "tags": []
   },
   "source": [
    "# 4. Check for NaN values and drop those rows"
   ]
  },
  {
   "cell_type": "code",
   "execution_count": 14,
   "id": "b63f6d29",
   "metadata": {
    "execution": {
     "iopub.execute_input": "2022-07-20T00:44:19.843819Z",
     "iopub.status.busy": "2022-07-20T00:44:19.842919Z",
     "iopub.status.idle": "2022-07-20T00:44:19.855316Z",
     "shell.execute_reply": "2022-07-20T00:44:19.854291Z"
    },
    "papermill": {
     "duration": 0.040609,
     "end_time": "2022-07-20T00:44:19.857899",
     "exception": false,
     "start_time": "2022-07-20T00:44:19.817290",
     "status": "completed"
    },
    "tags": []
   },
   "outputs": [
    {
     "data": {
      "text/plain": [
       "sellerproductcount                                   89\n",
       "sellerratings                                         6\n",
       "Count of seller brands                                0\n",
       "Max % of negative seller ratings - last 12 months     0\n",
       "Hero Product 1 #ratings                               0\n",
       "Hero Product 2 #ratings                               0\n",
       "sellerdetails                                         2\n",
       "dtype: int64"
      ]
     },
     "execution_count": 14,
     "metadata": {},
     "output_type": "execute_result"
    }
   ],
   "source": [
    "data_analysis.isna().sum()"
   ]
  },
  {
   "cell_type": "code",
   "execution_count": 15,
   "id": "55bf0822",
   "metadata": {
    "execution": {
     "iopub.execute_input": "2022-07-20T00:44:19.914748Z",
     "iopub.status.busy": "2022-07-20T00:44:19.914305Z",
     "iopub.status.idle": "2022-07-20T00:44:19.927892Z",
     "shell.execute_reply": "2022-07-20T00:44:19.926235Z"
    },
    "papermill": {
     "duration": 0.044073,
     "end_time": "2022-07-20T00:44:19.930213",
     "exception": false,
     "start_time": "2022-07-20T00:44:19.886140",
     "status": "completed"
    },
    "tags": []
   },
   "outputs": [
    {
     "name": "stderr",
     "output_type": "stream",
     "text": [
      "/opt/conda/lib/python3.7/site-packages/pandas/util/_decorators.py:311: SettingWithCopyWarning: \n",
      "A value is trying to be set on a copy of a slice from a DataFrame\n",
      "\n",
      "See the caveats in the documentation: https://pandas.pydata.org/pandas-docs/stable/user_guide/indexing.html#returning-a-view-versus-a-copy\n",
      "  return func(*args, **kwargs)\n"
     ]
    }
   ],
   "source": [
    "data_analysis.dropna(inplace=True)"
   ]
  },
  {
   "cell_type": "code",
   "execution_count": 16,
   "id": "fad53297",
   "metadata": {
    "execution": {
     "iopub.execute_input": "2022-07-20T00:44:19.989038Z",
     "iopub.status.busy": "2022-07-20T00:44:19.988185Z",
     "iopub.status.idle": "2022-07-20T00:44:20.004274Z",
     "shell.execute_reply": "2022-07-20T00:44:20.002697Z"
    },
    "papermill": {
     "duration": 0.053139,
     "end_time": "2022-07-20T00:44:20.007898",
     "exception": false,
     "start_time": "2022-07-20T00:44:19.954759",
     "status": "completed"
    },
    "tags": []
   },
   "outputs": [
    {
     "data": {
      "text/html": [
       "<div>\n",
       "<style scoped>\n",
       "    .dataframe tbody tr th:only-of-type {\n",
       "        vertical-align: middle;\n",
       "    }\n",
       "\n",
       "    .dataframe tbody tr th {\n",
       "        vertical-align: top;\n",
       "    }\n",
       "\n",
       "    .dataframe thead th {\n",
       "        text-align: right;\n",
       "    }\n",
       "</style>\n",
       "<table border=\"1\" class=\"dataframe\">\n",
       "  <thead>\n",
       "    <tr style=\"text-align: right;\">\n",
       "      <th></th>\n",
       "      <th>sellerproductcount</th>\n",
       "      <th>sellerratings</th>\n",
       "      <th>Count of seller brands</th>\n",
       "      <th>Max % of negative seller ratings - last 12 months</th>\n",
       "      <th>Hero Product 1 #ratings</th>\n",
       "      <th>Hero Product 2 #ratings</th>\n",
       "      <th>sellerdetails</th>\n",
       "    </tr>\n",
       "  </thead>\n",
       "  <tbody>\n",
       "    <tr>\n",
       "      <th>0</th>\n",
       "      <td>1-16 of over 100,000 results</td>\n",
       "      <td>88% positive in the last 12 months (118 ratings)</td>\n",
       "      <td>16</td>\n",
       "      <td>12</td>\n",
       "      <td>5873</td>\n",
       "      <td>4957</td>\n",
       "      <td>Lohas Living Inc James Mazzello US 845 3RD Ave...</td>\n",
       "    </tr>\n",
       "    <tr>\n",
       "      <th>14</th>\n",
       "      <td>1-16 of 919 results</td>\n",
       "      <td>97% positive in the last 12 months (116 ratings)</td>\n",
       "      <td>15</td>\n",
       "      <td>3</td>\n",
       "      <td>1446</td>\n",
       "      <td>921</td>\n",
       "      <td>Impressum\\n \\n Gesetzliche Anbieterkennung:\\n ...</td>\n",
       "    </tr>\n",
       "    <tr>\n",
       "      <th>22</th>\n",
       "      <td>1-16 of over 40,000 results</td>\n",
       "      <td>100% positive in the last 12 months (10 ratings)</td>\n",
       "      <td>16</td>\n",
       "      <td>0</td>\n",
       "      <td>10538</td>\n",
       "      <td>8293</td>\n",
       "      <td>Bestof Floral is committed to providing each c...</td>\n",
       "    </tr>\n",
       "    <tr>\n",
       "      <th>23</th>\n",
       "      <td>1-16 of over 100,000 results</td>\n",
       "      <td>88% positive in the last 12 months (3134 ratings)</td>\n",
       "      <td>15</td>\n",
       "      <td>10</td>\n",
       "      <td>30139</td>\n",
       "      <td>11182</td>\n",
       "      <td>Blumenbecker Industriebedarf GmbH Sudhoferweg ...</td>\n",
       "    </tr>\n",
       "    <tr>\n",
       "      <th>24</th>\n",
       "      <td>1-16 of over 3,000 results</td>\n",
       "      <td>97% positive in the last 12 months (610 ratings)</td>\n",
       "      <td>15</td>\n",
       "      <td>2</td>\n",
       "      <td>3286</td>\n",
       "      <td>3079</td>\n",
       "      <td>Herzlich willkommen auf unserer Internetpräsen...</td>\n",
       "    </tr>\n",
       "  </tbody>\n",
       "</table>\n",
       "</div>"
      ],
      "text/plain": [
       "              sellerproductcount  \\\n",
       "0   1-16 of over 100,000 results   \n",
       "14           1-16 of 919 results   \n",
       "22   1-16 of over 40,000 results   \n",
       "23  1-16 of over 100,000 results   \n",
       "24    1-16 of over 3,000 results   \n",
       "\n",
       "                                        sellerratings  Count of seller brands  \\\n",
       "0    88% positive in the last 12 months (118 ratings)                      16   \n",
       "14   97% positive in the last 12 months (116 ratings)                      15   \n",
       "22   100% positive in the last 12 months (10 ratings)                      16   \n",
       "23  88% positive in the last 12 months (3134 ratings)                      15   \n",
       "24   97% positive in the last 12 months (610 ratings)                      15   \n",
       "\n",
       "    Max % of negative seller ratings - last 12 months  \\\n",
       "0                                                  12   \n",
       "14                                                  3   \n",
       "22                                                  0   \n",
       "23                                                 10   \n",
       "24                                                  2   \n",
       "\n",
       "    Hero Product 1 #ratings  Hero Product 2 #ratings  \\\n",
       "0                      5873                     4957   \n",
       "14                     1446                      921   \n",
       "22                    10538                     8293   \n",
       "23                    30139                    11182   \n",
       "24                     3286                     3079   \n",
       "\n",
       "                                        sellerdetails  \n",
       "0   Lohas Living Inc James Mazzello US 845 3RD Ave...  \n",
       "14  Impressum\\n \\n Gesetzliche Anbieterkennung:\\n ...  \n",
       "22  Bestof Floral is committed to providing each c...  \n",
       "23  Blumenbecker Industriebedarf GmbH Sudhoferweg ...  \n",
       "24  Herzlich willkommen auf unserer Internetpräsen...  "
      ]
     },
     "execution_count": 16,
     "metadata": {},
     "output_type": "execute_result"
    }
   ],
   "source": [
    "data_analysis.head()"
   ]
  },
  {
   "cell_type": "code",
   "execution_count": 17,
   "id": "2eaab0f6",
   "metadata": {
    "execution": {
     "iopub.execute_input": "2022-07-20T00:44:20.072513Z",
     "iopub.status.busy": "2022-07-20T00:44:20.072065Z",
     "iopub.status.idle": "2022-07-20T00:44:20.079381Z",
     "shell.execute_reply": "2022-07-20T00:44:20.078241Z"
    },
    "papermill": {
     "duration": 0.038119,
     "end_time": "2022-07-20T00:44:20.081771",
     "exception": false,
     "start_time": "2022-07-20T00:44:20.043652",
     "status": "completed"
    },
    "tags": []
   },
   "outputs": [
    {
     "data": {
      "text/plain": [
       "(431, 7)"
      ]
     },
     "execution_count": 17,
     "metadata": {},
     "output_type": "execute_result"
    }
   ],
   "source": [
    "data_analysis.shape"
   ]
  },
  {
   "cell_type": "markdown",
   "id": "d5b3e8a7",
   "metadata": {
    "execution": {
     "iopub.execute_input": "2022-07-19T22:25:12.107856Z",
     "iopub.status.busy": "2022-07-19T22:25:12.107362Z",
     "iopub.status.idle": "2022-07-19T22:25:12.119776Z",
     "shell.execute_reply": "2022-07-19T22:25:12.118699Z",
     "shell.execute_reply.started": "2022-07-19T22:25:12.107827Z"
    },
    "papermill": {
     "duration": 0.024646,
     "end_time": "2022-07-20T00:44:20.131468",
     "exception": false,
     "start_time": "2022-07-20T00:44:20.106822",
     "status": "completed"
    },
    "tags": []
   },
   "source": [
    "# 5. Use Regular Expressions to parse out useful numeric values from the sellerproductcount and sellerratings columns"
   ]
  },
  {
   "cell_type": "code",
   "execution_count": 18,
   "id": "283e8ae8",
   "metadata": {
    "execution": {
     "iopub.execute_input": "2022-07-20T00:44:20.183610Z",
     "iopub.status.busy": "2022-07-20T00:44:20.182428Z",
     "iopub.status.idle": "2022-07-20T00:44:20.220098Z",
     "shell.execute_reply": "2022-07-20T00:44:20.218805Z"
    },
    "papermill": {
     "duration": 0.066525,
     "end_time": "2022-07-20T00:44:20.222762",
     "exception": false,
     "start_time": "2022-07-20T00:44:20.156237",
     "status": "completed"
    },
    "tags": []
   },
   "outputs": [],
   "source": [
    "import regex as re"
   ]
  },
  {
   "cell_type": "code",
   "execution_count": 19,
   "id": "6b182846",
   "metadata": {
    "execution": {
     "iopub.execute_input": "2022-07-20T00:44:20.275312Z",
     "iopub.status.busy": "2022-07-20T00:44:20.274787Z",
     "iopub.status.idle": "2022-07-20T00:44:20.282800Z",
     "shell.execute_reply": "2022-07-20T00:44:20.281617Z"
    },
    "papermill": {
     "duration": 0.036971,
     "end_time": "2022-07-20T00:44:20.285014",
     "exception": false,
     "start_time": "2022-07-20T00:44:20.248043",
     "status": "completed"
    },
    "tags": []
   },
   "outputs": [
    {
     "data": {
      "text/plain": [
       "'1-16 of over 100,000 results'"
      ]
     },
     "execution_count": 19,
     "metadata": {},
     "output_type": "execute_result"
    }
   ],
   "source": [
    "string1 =  '1-16 of over 100,000 results'\n",
    "string1"
   ]
  },
  {
   "cell_type": "markdown",
   "id": "9c7db6ba",
   "metadata": {
    "execution": {
     "iopub.execute_input": "2022-07-19T22:25:12.174125Z",
     "iopub.status.busy": "2022-07-19T22:25:12.172986Z",
     "iopub.status.idle": "2022-07-19T22:25:12.185134Z",
     "shell.execute_reply": "2022-07-19T22:25:12.183937Z",
     "shell.execute_reply.started": "2022-07-19T22:25:12.17408Z"
    },
    "papermill": {
     "duration": 0.024508,
     "end_time": "2022-07-20T00:44:20.334587",
     "exception": false,
     "start_time": "2022-07-20T00:44:20.310079",
     "status": "completed"
    },
    "tags": []
   },
   "source": [
    "#### Here we will extract the total product count"
   ]
  },
  {
   "cell_type": "code",
   "execution_count": 20,
   "id": "9d16c0d8",
   "metadata": {
    "execution": {
     "iopub.execute_input": "2022-07-20T00:44:20.386673Z",
     "iopub.status.busy": "2022-07-20T00:44:20.386288Z",
     "iopub.status.idle": "2022-07-20T00:44:20.396121Z",
     "shell.execute_reply": "2022-07-20T00:44:20.395052Z"
    },
    "papermill": {
     "duration": 0.038959,
     "end_time": "2022-07-20T00:44:20.398511",
     "exception": false,
     "start_time": "2022-07-20T00:44:20.359552",
     "status": "completed"
    },
    "tags": []
   },
   "outputs": [
    {
     "data": {
      "text/plain": [
       "['100,000']"
      ]
     },
     "execution_count": 20,
     "metadata": {},
     "output_type": "execute_result"
    }
   ],
   "source": [
    "match = re.findall(r' (\\d*.\\d+) results', string1)\n",
    "match"
   ]
  },
  {
   "cell_type": "code",
   "execution_count": 21,
   "id": "e6c9e643",
   "metadata": {
    "execution": {
     "iopub.execute_input": "2022-07-20T00:44:20.458940Z",
     "iopub.status.busy": "2022-07-20T00:44:20.458408Z",
     "iopub.status.idle": "2022-07-20T00:44:20.472338Z",
     "shell.execute_reply": "2022-07-20T00:44:20.471211Z"
    },
    "papermill": {
     "duration": 0.051634,
     "end_time": "2022-07-20T00:44:20.475456",
     "exception": false,
     "start_time": "2022-07-20T00:44:20.423822",
     "status": "completed"
    },
    "tags": []
   },
   "outputs": [
    {
     "name": "stderr",
     "output_type": "stream",
     "text": [
      "/opt/conda/lib/python3.7/site-packages/ipykernel_launcher.py:1: SettingWithCopyWarning: \n",
      "A value is trying to be set on a copy of a slice from a DataFrame.\n",
      "Try using .loc[row_indexer,col_indexer] = value instead\n",
      "\n",
      "See the caveats in the documentation: https://pandas.pydata.org/pandas-docs/stable/user_guide/indexing.html#returning-a-view-versus-a-copy\n",
      "  \"\"\"Entry point for launching an IPython kernel.\n"
     ]
    }
   ],
   "source": [
    "data_analysis['sellerproductcount'] = data_analysis['sellerproductcount'].apply(lambda x: ''.join(re.findall(r' (\\d*.\\d+) results', x)))"
   ]
  },
  {
   "cell_type": "markdown",
   "id": "1b377a6f",
   "metadata": {
    "execution": {
     "iopub.execute_input": "2022-07-19T22:25:12.223027Z",
     "iopub.status.busy": "2022-07-19T22:25:12.222048Z",
     "iopub.status.idle": "2022-07-19T22:25:12.229405Z",
     "shell.execute_reply": "2022-07-19T22:25:12.227941Z",
     "shell.execute_reply.started": "2022-07-19T22:25:12.222977Z"
    },
    "papermill": {
     "duration": 0.025314,
     "end_time": "2022-07-20T00:44:20.530208",
     "exception": false,
     "start_time": "2022-07-20T00:44:20.504894",
     "status": "completed"
    },
    "tags": []
   },
   "source": [
    "#### Check the result"
   ]
  },
  {
   "cell_type": "code",
   "execution_count": 22,
   "id": "bcaeff20",
   "metadata": {
    "execution": {
     "iopub.execute_input": "2022-07-20T00:44:20.585140Z",
     "iopub.status.busy": "2022-07-20T00:44:20.584726Z",
     "iopub.status.idle": "2022-07-20T00:44:20.594070Z",
     "shell.execute_reply": "2022-07-20T00:44:20.592850Z"
    },
    "papermill": {
     "duration": 0.038344,
     "end_time": "2022-07-20T00:44:20.596493",
     "exception": false,
     "start_time": "2022-07-20T00:44:20.558149",
     "status": "completed"
    },
    "tags": []
   },
   "outputs": [
    {
     "data": {
      "text/plain": [
       "0       100,000\n",
       "14          919\n",
       "22       40,000\n",
       "23      100,000\n",
       "24        3,000\n",
       "         ...   \n",
       "1784    100,000\n",
       "1785        285\n",
       "1808         52\n",
       "1814      1,000\n",
       "1815      2,000\n",
       "Name: sellerproductcount, Length: 431, dtype: object"
      ]
     },
     "execution_count": 22,
     "metadata": {},
     "output_type": "execute_result"
    }
   ],
   "source": [
    "data_analysis['sellerproductcount']"
   ]
  },
  {
   "cell_type": "code",
   "execution_count": 23,
   "id": "8fc26f96",
   "metadata": {
    "execution": {
     "iopub.execute_input": "2022-07-20T00:44:20.648388Z",
     "iopub.status.busy": "2022-07-20T00:44:20.648020Z",
     "iopub.status.idle": "2022-07-20T00:44:20.655418Z",
     "shell.execute_reply": "2022-07-20T00:44:20.654258Z"
    },
    "papermill": {
     "duration": 0.036323,
     "end_time": "2022-07-20T00:44:20.657836",
     "exception": false,
     "start_time": "2022-07-20T00:44:20.621513",
     "status": "completed"
    },
    "tags": []
   },
   "outputs": [
    {
     "name": "stderr",
     "output_type": "stream",
     "text": [
      "/opt/conda/lib/python3.7/site-packages/ipykernel_launcher.py:1: SettingWithCopyWarning: \n",
      "A value is trying to be set on a copy of a slice from a DataFrame.\n",
      "Try using .loc[row_indexer,col_indexer] = value instead\n",
      "\n",
      "See the caveats in the documentation: https://pandas.pydata.org/pandas-docs/stable/user_guide/indexing.html#returning-a-view-versus-a-copy\n",
      "  \"\"\"Entry point for launching an IPython kernel.\n"
     ]
    }
   ],
   "source": [
    "data_analysis['sellerproductcount'] = data_analysis['sellerproductcount'].apply(lambda x: x.replace(',',''))"
   ]
  },
  {
   "cell_type": "markdown",
   "id": "19d8a093",
   "metadata": {
    "execution": {
     "iopub.execute_input": "2022-07-19T22:25:12.26708Z",
     "iopub.status.busy": "2022-07-19T22:25:12.266352Z",
     "iopub.status.idle": "2022-07-19T22:25:12.276601Z",
     "shell.execute_reply": "2022-07-19T22:25:12.275294Z",
     "shell.execute_reply.started": "2022-07-19T22:25:12.267038Z"
    },
    "papermill": {
     "duration": 0.0246,
     "end_time": "2022-07-20T00:44:20.707457",
     "exception": false,
     "start_time": "2022-07-20T00:44:20.682857",
     "status": "completed"
    },
    "tags": []
   },
   "source": [
    "##### The below function will help make the strings into numeric values"
   ]
  },
  {
   "cell_type": "code",
   "execution_count": 24,
   "id": "4c7c50cd",
   "metadata": {
    "execution": {
     "iopub.execute_input": "2022-07-20T00:44:20.761166Z",
     "iopub.status.busy": "2022-07-20T00:44:20.760729Z",
     "iopub.status.idle": "2022-07-20T00:44:20.766488Z",
     "shell.execute_reply": "2022-07-20T00:44:20.765314Z"
    },
    "papermill": {
     "duration": 0.036546,
     "end_time": "2022-07-20T00:44:20.768905",
     "exception": false,
     "start_time": "2022-07-20T00:44:20.732359",
     "status": "completed"
    },
    "tags": []
   },
   "outputs": [],
   "source": [
    "def num(x):\n",
    "    try:\n",
    "        return int(x)\n",
    "    except:\n",
    "        return 0"
   ]
  },
  {
   "cell_type": "code",
   "execution_count": 25,
   "id": "ddfa32bb",
   "metadata": {
    "execution": {
     "iopub.execute_input": "2022-07-20T00:44:20.823441Z",
     "iopub.status.busy": "2022-07-20T00:44:20.823048Z",
     "iopub.status.idle": "2022-07-20T00:44:20.830026Z",
     "shell.execute_reply": "2022-07-20T00:44:20.829225Z"
    },
    "papermill": {
     "duration": 0.036296,
     "end_time": "2022-07-20T00:44:20.832293",
     "exception": false,
     "start_time": "2022-07-20T00:44:20.795997",
     "status": "completed"
    },
    "tags": []
   },
   "outputs": [
    {
     "name": "stderr",
     "output_type": "stream",
     "text": [
      "/opt/conda/lib/python3.7/site-packages/ipykernel_launcher.py:1: SettingWithCopyWarning: \n",
      "A value is trying to be set on a copy of a slice from a DataFrame.\n",
      "Try using .loc[row_indexer,col_indexer] = value instead\n",
      "\n",
      "See the caveats in the documentation: https://pandas.pydata.org/pandas-docs/stable/user_guide/indexing.html#returning-a-view-versus-a-copy\n",
      "  \"\"\"Entry point for launching an IPython kernel.\n"
     ]
    }
   ],
   "source": [
    "data_analysis['sellerproductcount'] = data_analysis['sellerproductcount'].apply(num)"
   ]
  },
  {
   "cell_type": "markdown",
   "id": "c461c08d",
   "metadata": {
    "execution": {
     "iopub.execute_input": "2022-07-19T22:25:12.306066Z",
     "iopub.status.busy": "2022-07-19T22:25:12.305144Z",
     "iopub.status.idle": "2022-07-19T22:25:12.312737Z",
     "shell.execute_reply": "2022-07-19T22:25:12.31136Z",
     "shell.execute_reply.started": "2022-07-19T22:25:12.306021Z"
    },
    "papermill": {
     "duration": 0.025535,
     "end_time": "2022-07-20T00:44:20.884213",
     "exception": false,
     "start_time": "2022-07-20T00:44:20.858678",
     "status": "completed"
    },
    "tags": []
   },
   "source": [
    "#### Check the result"
   ]
  },
  {
   "cell_type": "code",
   "execution_count": 26,
   "id": "51fed2d9",
   "metadata": {
    "execution": {
     "iopub.execute_input": "2022-07-20T00:44:20.938385Z",
     "iopub.status.busy": "2022-07-20T00:44:20.937963Z",
     "iopub.status.idle": "2022-07-20T00:44:20.944789Z",
     "shell.execute_reply": "2022-07-20T00:44:20.943971Z"
    },
    "papermill": {
     "duration": 0.036084,
     "end_time": "2022-07-20T00:44:20.946648",
     "exception": false,
     "start_time": "2022-07-20T00:44:20.910564",
     "status": "completed"
    },
    "tags": []
   },
   "outputs": [
    {
     "data": {
      "text/plain": [
       "1730     40000\n",
       "1761      2000\n",
       "1762       284\n",
       "1765       184\n",
       "1766      2000\n",
       "1767       643\n",
       "1770       347\n",
       "1771      1000\n",
       "1773      4000\n",
       "1775       235\n",
       "1776       442\n",
       "1778        33\n",
       "1779       211\n",
       "1780      1000\n",
       "1781       400\n",
       "1784    100000\n",
       "1785       285\n",
       "1808        52\n",
       "1814      1000\n",
       "1815      2000\n",
       "Name: sellerproductcount, dtype: int64"
      ]
     },
     "execution_count": 26,
     "metadata": {},
     "output_type": "execute_result"
    }
   ],
   "source": [
    "data_analysis['sellerproductcount'].tail(20)"
   ]
  },
  {
   "cell_type": "markdown",
   "id": "0ac0a3ae",
   "metadata": {
    "execution": {
     "iopub.execute_input": "2022-07-19T22:25:12.333313Z",
     "iopub.status.busy": "2022-07-19T22:25:12.332471Z",
     "iopub.status.idle": "2022-07-19T22:25:12.339392Z",
     "shell.execute_reply": "2022-07-19T22:25:12.338332Z",
     "shell.execute_reply.started": "2022-07-19T22:25:12.333242Z"
    },
    "papermill": {
     "duration": 0.026078,
     "end_time": "2022-07-20T00:44:20.998776",
     "exception": false,
     "start_time": "2022-07-20T00:44:20.972698",
     "status": "completed"
    },
    "tags": []
   },
   "source": [
    "#### Peek the dataframe"
   ]
  },
  {
   "cell_type": "code",
   "execution_count": 27,
   "id": "0bcc0d24",
   "metadata": {
    "execution": {
     "iopub.execute_input": "2022-07-20T00:44:21.053583Z",
     "iopub.status.busy": "2022-07-20T00:44:21.053198Z",
     "iopub.status.idle": "2022-07-20T00:44:21.066128Z",
     "shell.execute_reply": "2022-07-20T00:44:21.064906Z"
    },
    "papermill": {
     "duration": 0.043183,
     "end_time": "2022-07-20T00:44:21.068502",
     "exception": false,
     "start_time": "2022-07-20T00:44:21.025319",
     "status": "completed"
    },
    "tags": []
   },
   "outputs": [
    {
     "data": {
      "text/html": [
       "<div>\n",
       "<style scoped>\n",
       "    .dataframe tbody tr th:only-of-type {\n",
       "        vertical-align: middle;\n",
       "    }\n",
       "\n",
       "    .dataframe tbody tr th {\n",
       "        vertical-align: top;\n",
       "    }\n",
       "\n",
       "    .dataframe thead th {\n",
       "        text-align: right;\n",
       "    }\n",
       "</style>\n",
       "<table border=\"1\" class=\"dataframe\">\n",
       "  <thead>\n",
       "    <tr style=\"text-align: right;\">\n",
       "      <th></th>\n",
       "      <th>sellerproductcount</th>\n",
       "      <th>sellerratings</th>\n",
       "      <th>Count of seller brands</th>\n",
       "      <th>Max % of negative seller ratings - last 12 months</th>\n",
       "      <th>Hero Product 1 #ratings</th>\n",
       "      <th>Hero Product 2 #ratings</th>\n",
       "      <th>sellerdetails</th>\n",
       "    </tr>\n",
       "  </thead>\n",
       "  <tbody>\n",
       "    <tr>\n",
       "      <th>0</th>\n",
       "      <td>100000</td>\n",
       "      <td>88% positive in the last 12 months (118 ratings)</td>\n",
       "      <td>16</td>\n",
       "      <td>12</td>\n",
       "      <td>5873</td>\n",
       "      <td>4957</td>\n",
       "      <td>Lohas Living Inc James Mazzello US 845 3RD Ave...</td>\n",
       "    </tr>\n",
       "    <tr>\n",
       "      <th>14</th>\n",
       "      <td>919</td>\n",
       "      <td>97% positive in the last 12 months (116 ratings)</td>\n",
       "      <td>15</td>\n",
       "      <td>3</td>\n",
       "      <td>1446</td>\n",
       "      <td>921</td>\n",
       "      <td>Impressum\\n \\n Gesetzliche Anbieterkennung:\\n ...</td>\n",
       "    </tr>\n",
       "    <tr>\n",
       "      <th>22</th>\n",
       "      <td>40000</td>\n",
       "      <td>100% positive in the last 12 months (10 ratings)</td>\n",
       "      <td>16</td>\n",
       "      <td>0</td>\n",
       "      <td>10538</td>\n",
       "      <td>8293</td>\n",
       "      <td>Bestof Floral is committed to providing each c...</td>\n",
       "    </tr>\n",
       "    <tr>\n",
       "      <th>23</th>\n",
       "      <td>100000</td>\n",
       "      <td>88% positive in the last 12 months (3134 ratings)</td>\n",
       "      <td>15</td>\n",
       "      <td>10</td>\n",
       "      <td>30139</td>\n",
       "      <td>11182</td>\n",
       "      <td>Blumenbecker Industriebedarf GmbH Sudhoferweg ...</td>\n",
       "    </tr>\n",
       "    <tr>\n",
       "      <th>24</th>\n",
       "      <td>3000</td>\n",
       "      <td>97% positive in the last 12 months (610 ratings)</td>\n",
       "      <td>15</td>\n",
       "      <td>2</td>\n",
       "      <td>3286</td>\n",
       "      <td>3079</td>\n",
       "      <td>Herzlich willkommen auf unserer Internetpräsen...</td>\n",
       "    </tr>\n",
       "  </tbody>\n",
       "</table>\n",
       "</div>"
      ],
      "text/plain": [
       "    sellerproductcount                                      sellerratings  \\\n",
       "0               100000   88% positive in the last 12 months (118 ratings)   \n",
       "14                 919   97% positive in the last 12 months (116 ratings)   \n",
       "22               40000   100% positive in the last 12 months (10 ratings)   \n",
       "23              100000  88% positive in the last 12 months (3134 ratings)   \n",
       "24                3000   97% positive in the last 12 months (610 ratings)   \n",
       "\n",
       "    Count of seller brands  Max % of negative seller ratings - last 12 months  \\\n",
       "0                       16                                                 12   \n",
       "14                      15                                                  3   \n",
       "22                      16                                                  0   \n",
       "23                      15                                                 10   \n",
       "24                      15                                                  2   \n",
       "\n",
       "    Hero Product 1 #ratings  Hero Product 2 #ratings  \\\n",
       "0                      5873                     4957   \n",
       "14                     1446                      921   \n",
       "22                    10538                     8293   \n",
       "23                    30139                    11182   \n",
       "24                     3286                     3079   \n",
       "\n",
       "                                        sellerdetails  \n",
       "0   Lohas Living Inc James Mazzello US 845 3RD Ave...  \n",
       "14  Impressum\\n \\n Gesetzliche Anbieterkennung:\\n ...  \n",
       "22  Bestof Floral is committed to providing each c...  \n",
       "23  Blumenbecker Industriebedarf GmbH Sudhoferweg ...  \n",
       "24  Herzlich willkommen auf unserer Internetpräsen...  "
      ]
     },
     "execution_count": 27,
     "metadata": {},
     "output_type": "execute_result"
    }
   ],
   "source": [
    "data_analysis.head()"
   ]
  },
  {
   "cell_type": "code",
   "execution_count": 28,
   "id": "587ace4a",
   "metadata": {
    "execution": {
     "iopub.execute_input": "2022-07-20T00:44:21.123691Z",
     "iopub.status.busy": "2022-07-20T00:44:21.123288Z",
     "iopub.status.idle": "2022-07-20T00:44:21.129613Z",
     "shell.execute_reply": "2022-07-20T00:44:21.128869Z"
    },
    "papermill": {
     "duration": 0.036414,
     "end_time": "2022-07-20T00:44:21.131669",
     "exception": false,
     "start_time": "2022-07-20T00:44:21.095255",
     "status": "completed"
    },
    "tags": []
   },
   "outputs": [
    {
     "data": {
      "text/plain": [
       "'88% positive in the last 12 months (31374 ratings)'"
      ]
     },
     "execution_count": 28,
     "metadata": {},
     "output_type": "execute_result"
    }
   ],
   "source": [
    "string2 = '88% positive in the last 12 months (31374 ratings)'\n",
    "string2"
   ]
  },
  {
   "cell_type": "markdown",
   "id": "7759d0a3",
   "metadata": {
    "papermill": {
     "duration": 0.02526,
     "end_time": "2022-07-20T00:44:21.182475",
     "exception": false,
     "start_time": "2022-07-20T00:44:21.157215",
     "status": "completed"
    },
    "tags": []
   },
   "source": [
    "#### Here we will extract the percent positive rating"
   ]
  },
  {
   "cell_type": "code",
   "execution_count": 29,
   "id": "0af36c1f",
   "metadata": {
    "execution": {
     "iopub.execute_input": "2022-07-20T00:44:21.237650Z",
     "iopub.status.busy": "2022-07-20T00:44:21.237236Z",
     "iopub.status.idle": "2022-07-20T00:44:21.244427Z",
     "shell.execute_reply": "2022-07-20T00:44:21.243575Z"
    },
    "papermill": {
     "duration": 0.037709,
     "end_time": "2022-07-20T00:44:21.246619",
     "exception": false,
     "start_time": "2022-07-20T00:44:21.208910",
     "status": "completed"
    },
    "tags": []
   },
   "outputs": [
    {
     "data": {
      "text/plain": [
       "['88']"
      ]
     },
     "execution_count": 29,
     "metadata": {},
     "output_type": "execute_result"
    }
   ],
   "source": [
    "re.findall(r'(\\d+)%', string2)"
   ]
  },
  {
   "cell_type": "code",
   "execution_count": 30,
   "id": "6a7ec620",
   "metadata": {
    "execution": {
     "iopub.execute_input": "2022-07-20T00:44:21.302002Z",
     "iopub.status.busy": "2022-07-20T00:44:21.301569Z",
     "iopub.status.idle": "2022-07-20T00:44:21.308654Z",
     "shell.execute_reply": "2022-07-20T00:44:21.307828Z"
    },
    "papermill": {
     "duration": 0.038248,
     "end_time": "2022-07-20T00:44:21.310796",
     "exception": false,
     "start_time": "2022-07-20T00:44:21.272548",
     "status": "completed"
    },
    "tags": []
   },
   "outputs": [
    {
     "data": {
      "text/plain": [
       "['31374']"
      ]
     },
     "execution_count": 30,
     "metadata": {},
     "output_type": "execute_result"
    }
   ],
   "source": [
    "re.findall(r'(\\d+) ratings', string2)"
   ]
  },
  {
   "cell_type": "code",
   "execution_count": 31,
   "id": "7d895b68",
   "metadata": {
    "execution": {
     "iopub.execute_input": "2022-07-20T00:44:21.365722Z",
     "iopub.status.busy": "2022-07-20T00:44:21.365343Z",
     "iopub.status.idle": "2022-07-20T00:44:21.376813Z",
     "shell.execute_reply": "2022-07-20T00:44:21.375469Z"
    },
    "papermill": {
     "duration": 0.042223,
     "end_time": "2022-07-20T00:44:21.379046",
     "exception": false,
     "start_time": "2022-07-20T00:44:21.336823",
     "status": "completed"
    },
    "tags": []
   },
   "outputs": [
    {
     "name": "stderr",
     "output_type": "stream",
     "text": [
      "/opt/conda/lib/python3.7/site-packages/ipykernel_launcher.py:1: SettingWithCopyWarning: \n",
      "A value is trying to be set on a copy of a slice from a DataFrame.\n",
      "Try using .loc[row_indexer,col_indexer] = value instead\n",
      "\n",
      "See the caveats in the documentation: https://pandas.pydata.org/pandas-docs/stable/user_guide/indexing.html#returning-a-view-versus-a-copy\n",
      "  \"\"\"Entry point for launching an IPython kernel.\n"
     ]
    }
   ],
   "source": [
    "data_analysis['sellerratings%positive'] = data_analysis['sellerratings'].apply(lambda x: int(re.findall(r'(\\d+)%', x)[0]))"
   ]
  },
  {
   "cell_type": "code",
   "execution_count": 32,
   "id": "cc2d6283",
   "metadata": {
    "execution": {
     "iopub.execute_input": "2022-07-20T00:44:21.434641Z",
     "iopub.status.busy": "2022-07-20T00:44:21.433488Z",
     "iopub.status.idle": "2022-07-20T00:44:21.445316Z",
     "shell.execute_reply": "2022-07-20T00:44:21.443720Z"
    },
    "papermill": {
     "duration": 0.041768,
     "end_time": "2022-07-20T00:44:21.447708",
     "exception": false,
     "start_time": "2022-07-20T00:44:21.405940",
     "status": "completed"
    },
    "tags": []
   },
   "outputs": [
    {
     "name": "stderr",
     "output_type": "stream",
     "text": [
      "/opt/conda/lib/python3.7/site-packages/ipykernel_launcher.py:1: SettingWithCopyWarning: \n",
      "A value is trying to be set on a copy of a slice from a DataFrame.\n",
      "Try using .loc[row_indexer,col_indexer] = value instead\n",
      "\n",
      "See the caveats in the documentation: https://pandas.pydata.org/pandas-docs/stable/user_guide/indexing.html#returning-a-view-versus-a-copy\n",
      "  \"\"\"Entry point for launching an IPython kernel.\n"
     ]
    }
   ],
   "source": [
    "data_analysis['sellerratingstotalcount'] = data_analysis['sellerratings'].apply(lambda x: int(re.findall(r'\\((\\d+)', x)[0]))"
   ]
  },
  {
   "cell_type": "markdown",
   "id": "f258290e",
   "metadata": {
    "execution": {
     "iopub.execute_input": "2022-07-19T22:25:12.438576Z",
     "iopub.status.busy": "2022-07-19T22:25:12.437755Z",
     "iopub.status.idle": "2022-07-19T22:25:12.443466Z",
     "shell.execute_reply": "2022-07-19T22:25:12.442362Z",
     "shell.execute_reply.started": "2022-07-19T22:25:12.438521Z"
    },
    "papermill": {
     "duration": 0.026004,
     "end_time": "2022-07-20T00:44:21.500513",
     "exception": false,
     "start_time": "2022-07-20T00:44:21.474509",
     "status": "completed"
    },
    "tags": []
   },
   "source": [
    "#### Peek the data"
   ]
  },
  {
   "cell_type": "code",
   "execution_count": 33,
   "id": "e6afa072",
   "metadata": {
    "execution": {
     "iopub.execute_input": "2022-07-20T00:44:21.555410Z",
     "iopub.status.busy": "2022-07-20T00:44:21.554732Z",
     "iopub.status.idle": "2022-07-20T00:44:21.568561Z",
     "shell.execute_reply": "2022-07-20T00:44:21.567436Z"
    },
    "papermill": {
     "duration": 0.04386,
     "end_time": "2022-07-20T00:44:21.570837",
     "exception": false,
     "start_time": "2022-07-20T00:44:21.526977",
     "status": "completed"
    },
    "tags": []
   },
   "outputs": [
    {
     "data": {
      "text/html": [
       "<div>\n",
       "<style scoped>\n",
       "    .dataframe tbody tr th:only-of-type {\n",
       "        vertical-align: middle;\n",
       "    }\n",
       "\n",
       "    .dataframe tbody tr th {\n",
       "        vertical-align: top;\n",
       "    }\n",
       "\n",
       "    .dataframe thead th {\n",
       "        text-align: right;\n",
       "    }\n",
       "</style>\n",
       "<table border=\"1\" class=\"dataframe\">\n",
       "  <thead>\n",
       "    <tr style=\"text-align: right;\">\n",
       "      <th></th>\n",
       "      <th>sellerproductcount</th>\n",
       "      <th>sellerratings</th>\n",
       "      <th>Count of seller brands</th>\n",
       "      <th>Max % of negative seller ratings - last 12 months</th>\n",
       "      <th>Hero Product 1 #ratings</th>\n",
       "      <th>Hero Product 2 #ratings</th>\n",
       "      <th>sellerdetails</th>\n",
       "      <th>sellerratings%positive</th>\n",
       "      <th>sellerratingstotalcount</th>\n",
       "    </tr>\n",
       "  </thead>\n",
       "  <tbody>\n",
       "    <tr>\n",
       "      <th>0</th>\n",
       "      <td>100000</td>\n",
       "      <td>88% positive in the last 12 months (118 ratings)</td>\n",
       "      <td>16</td>\n",
       "      <td>12</td>\n",
       "      <td>5873</td>\n",
       "      <td>4957</td>\n",
       "      <td>Lohas Living Inc James Mazzello US 845 3RD Ave...</td>\n",
       "      <td>88</td>\n",
       "      <td>118</td>\n",
       "    </tr>\n",
       "    <tr>\n",
       "      <th>14</th>\n",
       "      <td>919</td>\n",
       "      <td>97% positive in the last 12 months (116 ratings)</td>\n",
       "      <td>15</td>\n",
       "      <td>3</td>\n",
       "      <td>1446</td>\n",
       "      <td>921</td>\n",
       "      <td>Impressum\\n \\n Gesetzliche Anbieterkennung:\\n ...</td>\n",
       "      <td>97</td>\n",
       "      <td>116</td>\n",
       "    </tr>\n",
       "    <tr>\n",
       "      <th>22</th>\n",
       "      <td>40000</td>\n",
       "      <td>100% positive in the last 12 months (10 ratings)</td>\n",
       "      <td>16</td>\n",
       "      <td>0</td>\n",
       "      <td>10538</td>\n",
       "      <td>8293</td>\n",
       "      <td>Bestof Floral is committed to providing each c...</td>\n",
       "      <td>100</td>\n",
       "      <td>10</td>\n",
       "    </tr>\n",
       "    <tr>\n",
       "      <th>23</th>\n",
       "      <td>100000</td>\n",
       "      <td>88% positive in the last 12 months (3134 ratings)</td>\n",
       "      <td>15</td>\n",
       "      <td>10</td>\n",
       "      <td>30139</td>\n",
       "      <td>11182</td>\n",
       "      <td>Blumenbecker Industriebedarf GmbH Sudhoferweg ...</td>\n",
       "      <td>88</td>\n",
       "      <td>3134</td>\n",
       "    </tr>\n",
       "    <tr>\n",
       "      <th>24</th>\n",
       "      <td>3000</td>\n",
       "      <td>97% positive in the last 12 months (610 ratings)</td>\n",
       "      <td>15</td>\n",
       "      <td>2</td>\n",
       "      <td>3286</td>\n",
       "      <td>3079</td>\n",
       "      <td>Herzlich willkommen auf unserer Internetpräsen...</td>\n",
       "      <td>97</td>\n",
       "      <td>610</td>\n",
       "    </tr>\n",
       "  </tbody>\n",
       "</table>\n",
       "</div>"
      ],
      "text/plain": [
       "    sellerproductcount                                      sellerratings  \\\n",
       "0               100000   88% positive in the last 12 months (118 ratings)   \n",
       "14                 919   97% positive in the last 12 months (116 ratings)   \n",
       "22               40000   100% positive in the last 12 months (10 ratings)   \n",
       "23              100000  88% positive in the last 12 months (3134 ratings)   \n",
       "24                3000   97% positive in the last 12 months (610 ratings)   \n",
       "\n",
       "    Count of seller brands  Max % of negative seller ratings - last 12 months  \\\n",
       "0                       16                                                 12   \n",
       "14                      15                                                  3   \n",
       "22                      16                                                  0   \n",
       "23                      15                                                 10   \n",
       "24                      15                                                  2   \n",
       "\n",
       "    Hero Product 1 #ratings  Hero Product 2 #ratings  \\\n",
       "0                      5873                     4957   \n",
       "14                     1446                      921   \n",
       "22                    10538                     8293   \n",
       "23                    30139                    11182   \n",
       "24                     3286                     3079   \n",
       "\n",
       "                                        sellerdetails  sellerratings%positive  \\\n",
       "0   Lohas Living Inc James Mazzello US 845 3RD Ave...                      88   \n",
       "14  Impressum\\n \\n Gesetzliche Anbieterkennung:\\n ...                      97   \n",
       "22  Bestof Floral is committed to providing each c...                     100   \n",
       "23  Blumenbecker Industriebedarf GmbH Sudhoferweg ...                      88   \n",
       "24  Herzlich willkommen auf unserer Internetpräsen...                      97   \n",
       "\n",
       "    sellerratingstotalcount  \n",
       "0                       118  \n",
       "14                      116  \n",
       "22                       10  \n",
       "23                     3134  \n",
       "24                      610  "
      ]
     },
     "execution_count": 33,
     "metadata": {},
     "output_type": "execute_result"
    }
   ],
   "source": [
    "data_analysis.head()"
   ]
  },
  {
   "cell_type": "markdown",
   "id": "a55a4156",
   "metadata": {
    "execution": {
     "iopub.execute_input": "2022-07-19T22:25:12.470269Z",
     "iopub.status.busy": "2022-07-19T22:25:12.469558Z",
     "iopub.status.idle": "2022-07-19T22:25:12.475165Z",
     "shell.execute_reply": "2022-07-19T22:25:12.474022Z",
     "shell.execute_reply.started": "2022-07-19T22:25:12.470226Z"
    },
    "papermill": {
     "duration": 0.026294,
     "end_time": "2022-07-20T00:44:21.623787",
     "exception": false,
     "start_time": "2022-07-20T00:44:21.597493",
     "status": "completed"
    },
    "tags": []
   },
   "source": [
    "#### Now drop the sellerratings column as we have extracted useful information into new columns"
   ]
  },
  {
   "cell_type": "code",
   "execution_count": 34,
   "id": "cd0742ee",
   "metadata": {
    "execution": {
     "iopub.execute_input": "2022-07-20T00:44:21.679700Z",
     "iopub.status.busy": "2022-07-20T00:44:21.679269Z",
     "iopub.status.idle": "2022-07-20T00:44:21.693343Z",
     "shell.execute_reply": "2022-07-20T00:44:21.691956Z"
    },
    "papermill": {
     "duration": 0.045043,
     "end_time": "2022-07-20T00:44:21.695710",
     "exception": false,
     "start_time": "2022-07-20T00:44:21.650667",
     "status": "completed"
    },
    "tags": []
   },
   "outputs": [
    {
     "name": "stderr",
     "output_type": "stream",
     "text": [
      "/opt/conda/lib/python3.7/site-packages/pandas/core/frame.py:4913: SettingWithCopyWarning: \n",
      "A value is trying to be set on a copy of a slice from a DataFrame\n",
      "\n",
      "See the caveats in the documentation: https://pandas.pydata.org/pandas-docs/stable/user_guide/indexing.html#returning-a-view-versus-a-copy\n",
      "  errors=errors,\n"
     ]
    }
   ],
   "source": [
    "data_analysis.drop('sellerratings', axis=1, inplace=True)"
   ]
  },
  {
   "cell_type": "markdown",
   "id": "f5da07e7",
   "metadata": {
    "execution": {
     "iopub.execute_input": "2022-07-19T22:25:12.497223Z",
     "iopub.status.busy": "2022-07-19T22:25:12.495999Z",
     "iopub.status.idle": "2022-07-19T22:25:12.501809Z",
     "shell.execute_reply": "2022-07-19T22:25:12.500694Z",
     "shell.execute_reply.started": "2022-07-19T22:25:12.497179Z"
    },
    "papermill": {
     "duration": 0.026277,
     "end_time": "2022-07-20T00:44:21.748863",
     "exception": false,
     "start_time": "2022-07-20T00:44:21.722586",
     "status": "completed"
    },
    "tags": []
   },
   "source": [
    "#### Take a peek again"
   ]
  },
  {
   "cell_type": "code",
   "execution_count": 35,
   "id": "96746450",
   "metadata": {
    "execution": {
     "iopub.execute_input": "2022-07-20T00:44:21.803937Z",
     "iopub.status.busy": "2022-07-20T00:44:21.803517Z",
     "iopub.status.idle": "2022-07-20T00:44:21.816029Z",
     "shell.execute_reply": "2022-07-20T00:44:21.815171Z"
    },
    "papermill": {
     "duration": 0.042842,
     "end_time": "2022-07-20T00:44:21.818262",
     "exception": false,
     "start_time": "2022-07-20T00:44:21.775420",
     "status": "completed"
    },
    "tags": []
   },
   "outputs": [
    {
     "data": {
      "text/html": [
       "<div>\n",
       "<style scoped>\n",
       "    .dataframe tbody tr th:only-of-type {\n",
       "        vertical-align: middle;\n",
       "    }\n",
       "\n",
       "    .dataframe tbody tr th {\n",
       "        vertical-align: top;\n",
       "    }\n",
       "\n",
       "    .dataframe thead th {\n",
       "        text-align: right;\n",
       "    }\n",
       "</style>\n",
       "<table border=\"1\" class=\"dataframe\">\n",
       "  <thead>\n",
       "    <tr style=\"text-align: right;\">\n",
       "      <th></th>\n",
       "      <th>sellerproductcount</th>\n",
       "      <th>Count of seller brands</th>\n",
       "      <th>Max % of negative seller ratings - last 12 months</th>\n",
       "      <th>Hero Product 1 #ratings</th>\n",
       "      <th>Hero Product 2 #ratings</th>\n",
       "      <th>sellerdetails</th>\n",
       "      <th>sellerratings%positive</th>\n",
       "      <th>sellerratingstotalcount</th>\n",
       "    </tr>\n",
       "  </thead>\n",
       "  <tbody>\n",
       "    <tr>\n",
       "      <th>0</th>\n",
       "      <td>100000</td>\n",
       "      <td>16</td>\n",
       "      <td>12</td>\n",
       "      <td>5873</td>\n",
       "      <td>4957</td>\n",
       "      <td>Lohas Living Inc James Mazzello US 845 3RD Ave...</td>\n",
       "      <td>88</td>\n",
       "      <td>118</td>\n",
       "    </tr>\n",
       "    <tr>\n",
       "      <th>14</th>\n",
       "      <td>919</td>\n",
       "      <td>15</td>\n",
       "      <td>3</td>\n",
       "      <td>1446</td>\n",
       "      <td>921</td>\n",
       "      <td>Impressum\\n \\n Gesetzliche Anbieterkennung:\\n ...</td>\n",
       "      <td>97</td>\n",
       "      <td>116</td>\n",
       "    </tr>\n",
       "    <tr>\n",
       "      <th>22</th>\n",
       "      <td>40000</td>\n",
       "      <td>16</td>\n",
       "      <td>0</td>\n",
       "      <td>10538</td>\n",
       "      <td>8293</td>\n",
       "      <td>Bestof Floral is committed to providing each c...</td>\n",
       "      <td>100</td>\n",
       "      <td>10</td>\n",
       "    </tr>\n",
       "    <tr>\n",
       "      <th>23</th>\n",
       "      <td>100000</td>\n",
       "      <td>15</td>\n",
       "      <td>10</td>\n",
       "      <td>30139</td>\n",
       "      <td>11182</td>\n",
       "      <td>Blumenbecker Industriebedarf GmbH Sudhoferweg ...</td>\n",
       "      <td>88</td>\n",
       "      <td>3134</td>\n",
       "    </tr>\n",
       "    <tr>\n",
       "      <th>24</th>\n",
       "      <td>3000</td>\n",
       "      <td>15</td>\n",
       "      <td>2</td>\n",
       "      <td>3286</td>\n",
       "      <td>3079</td>\n",
       "      <td>Herzlich willkommen auf unserer Internetpräsen...</td>\n",
       "      <td>97</td>\n",
       "      <td>610</td>\n",
       "    </tr>\n",
       "  </tbody>\n",
       "</table>\n",
       "</div>"
      ],
      "text/plain": [
       "    sellerproductcount  Count of seller brands  \\\n",
       "0               100000                      16   \n",
       "14                 919                      15   \n",
       "22               40000                      16   \n",
       "23              100000                      15   \n",
       "24                3000                      15   \n",
       "\n",
       "    Max % of negative seller ratings - last 12 months  \\\n",
       "0                                                  12   \n",
       "14                                                  3   \n",
       "22                                                  0   \n",
       "23                                                 10   \n",
       "24                                                  2   \n",
       "\n",
       "    Hero Product 1 #ratings  Hero Product 2 #ratings  \\\n",
       "0                      5873                     4957   \n",
       "14                     1446                      921   \n",
       "22                    10538                     8293   \n",
       "23                    30139                    11182   \n",
       "24                     3286                     3079   \n",
       "\n",
       "                                        sellerdetails  sellerratings%positive  \\\n",
       "0   Lohas Living Inc James Mazzello US 845 3RD Ave...                      88   \n",
       "14  Impressum\\n \\n Gesetzliche Anbieterkennung:\\n ...                      97   \n",
       "22  Bestof Floral is committed to providing each c...                     100   \n",
       "23  Blumenbecker Industriebedarf GmbH Sudhoferweg ...                      88   \n",
       "24  Herzlich willkommen auf unserer Internetpräsen...                      97   \n",
       "\n",
       "    sellerratingstotalcount  \n",
       "0                       118  \n",
       "14                      116  \n",
       "22                       10  \n",
       "23                     3134  \n",
       "24                      610  "
      ]
     },
     "execution_count": 35,
     "metadata": {},
     "output_type": "execute_result"
    }
   ],
   "source": [
    "data_analysis.head()"
   ]
  },
  {
   "cell_type": "code",
   "execution_count": 36,
   "id": "86bbdbb5",
   "metadata": {
    "execution": {
     "iopub.execute_input": "2022-07-20T00:44:21.873898Z",
     "iopub.status.busy": "2022-07-20T00:44:21.872791Z",
     "iopub.status.idle": "2022-07-20T00:44:21.880759Z",
     "shell.execute_reply": "2022-07-20T00:44:21.879979Z"
    },
    "papermill": {
     "duration": 0.037739,
     "end_time": "2022-07-20T00:44:21.882714",
     "exception": false,
     "start_time": "2022-07-20T00:44:21.844975",
     "status": "completed"
    },
    "tags": []
   },
   "outputs": [
    {
     "data": {
      "text/plain": [
       "sellerproductcount                                    int64\n",
       "Count of seller brands                                int64\n",
       "Max % of negative seller ratings - last 12 months     int64\n",
       "Hero Product 1 #ratings                               int64\n",
       "Hero Product 2 #ratings                               int64\n",
       "sellerdetails                                        object\n",
       "sellerratings%positive                                int64\n",
       "sellerratingstotalcount                               int64\n",
       "dtype: object"
      ]
     },
     "execution_count": 36,
     "metadata": {},
     "output_type": "execute_result"
    }
   ],
   "source": [
    "data_analysis.dtypes"
   ]
  },
  {
   "cell_type": "markdown",
   "id": "2af97a14",
   "metadata": {
    "execution": {
     "iopub.execute_input": "2022-07-19T22:25:12.533782Z",
     "iopub.status.busy": "2022-07-19T22:25:12.533157Z",
     "iopub.status.idle": "2022-07-19T22:25:12.542995Z",
     "shell.execute_reply": "2022-07-19T22:25:12.541741Z",
     "shell.execute_reply.started": "2022-07-19T22:25:12.53375Z"
    },
    "papermill": {
     "duration": 0.026961,
     "end_time": "2022-07-20T00:44:21.936452",
     "exception": false,
     "start_time": "2022-07-20T00:44:21.909491",
     "status": "completed"
    },
    "tags": []
   },
   "source": [
    "# 6. Data Manipulation to calculate seller total score with which we will rank them"
   ]
  },
  {
   "cell_type": "markdown",
   "id": "1e0139b1",
   "metadata": {
    "execution": {
     "iopub.execute_input": "2022-07-19T22:25:12.549185Z",
     "iopub.status.busy": "2022-07-19T22:25:12.547322Z",
     "iopub.status.idle": "2022-07-19T22:25:12.558161Z",
     "shell.execute_reply": "2022-07-19T22:25:12.556564Z",
     "shell.execute_reply.started": "2022-07-19T22:25:12.549133Z"
    },
    "papermill": {
     "duration": 0.02656,
     "end_time": "2022-07-20T00:44:21.989933",
     "exception": false,
     "start_time": "2022-07-20T00:44:21.963373",
     "status": "completed"
    },
    "tags": []
   },
   "source": [
    "#### The Max % Negative ratings can be converted to a positive attribute using 100 - % value"
   ]
  },
  {
   "cell_type": "code",
   "execution_count": 37,
   "id": "a0d1d715",
   "metadata": {
    "execution": {
     "iopub.execute_input": "2022-07-20T00:44:22.046074Z",
     "iopub.status.busy": "2022-07-20T00:44:22.045010Z",
     "iopub.status.idle": "2022-07-20T00:44:22.051082Z",
     "shell.execute_reply": "2022-07-20T00:44:22.050269Z"
    },
    "papermill": {
     "duration": 0.036441,
     "end_time": "2022-07-20T00:44:22.053293",
     "exception": false,
     "start_time": "2022-07-20T00:44:22.016852",
     "status": "completed"
    },
    "tags": []
   },
   "outputs": [
    {
     "name": "stderr",
     "output_type": "stream",
     "text": [
      "/opt/conda/lib/python3.7/site-packages/ipykernel_launcher.py:1: SettingWithCopyWarning: \n",
      "A value is trying to be set on a copy of a slice from a DataFrame.\n",
      "Try using .loc[row_indexer,col_indexer] = value instead\n",
      "\n",
      "See the caveats in the documentation: https://pandas.pydata.org/pandas-docs/stable/user_guide/indexing.html#returning-a-view-versus-a-copy\n",
      "  \"\"\"Entry point for launching an IPython kernel.\n"
     ]
    }
   ],
   "source": [
    "data_analysis['Max % of negative seller ratings - last 12 months'] = 100 - data_analysis['Max % of negative seller ratings - last 12 months']"
   ]
  },
  {
   "cell_type": "markdown",
   "id": "6595973d",
   "metadata": {
    "execution": {
     "iopub.execute_input": "2022-07-19T22:25:12.575003Z",
     "iopub.status.busy": "2022-07-19T22:25:12.574544Z",
     "iopub.status.idle": "2022-07-19T22:25:12.587143Z",
     "shell.execute_reply": "2022-07-19T22:25:12.585801Z",
     "shell.execute_reply.started": "2022-07-19T22:25:12.574958Z"
    },
    "papermill": {
     "duration": 0.026979,
     "end_time": "2022-07-20T00:44:22.107050",
     "exception": false,
     "start_time": "2022-07-20T00:44:22.080071",
     "status": "completed"
    },
    "tags": []
   },
   "source": [
    "#### Take a peek again"
   ]
  },
  {
   "cell_type": "code",
   "execution_count": 38,
   "id": "8e367f6a",
   "metadata": {
    "execution": {
     "iopub.execute_input": "2022-07-20T00:44:22.163560Z",
     "iopub.status.busy": "2022-07-20T00:44:22.162674Z",
     "iopub.status.idle": "2022-07-20T00:44:22.175756Z",
     "shell.execute_reply": "2022-07-20T00:44:22.174510Z"
    },
    "papermill": {
     "duration": 0.044395,
     "end_time": "2022-07-20T00:44:22.178548",
     "exception": false,
     "start_time": "2022-07-20T00:44:22.134153",
     "status": "completed"
    },
    "tags": []
   },
   "outputs": [
    {
     "data": {
      "text/html": [
       "<div>\n",
       "<style scoped>\n",
       "    .dataframe tbody tr th:only-of-type {\n",
       "        vertical-align: middle;\n",
       "    }\n",
       "\n",
       "    .dataframe tbody tr th {\n",
       "        vertical-align: top;\n",
       "    }\n",
       "\n",
       "    .dataframe thead th {\n",
       "        text-align: right;\n",
       "    }\n",
       "</style>\n",
       "<table border=\"1\" class=\"dataframe\">\n",
       "  <thead>\n",
       "    <tr style=\"text-align: right;\">\n",
       "      <th></th>\n",
       "      <th>sellerproductcount</th>\n",
       "      <th>Count of seller brands</th>\n",
       "      <th>Max % of negative seller ratings - last 12 months</th>\n",
       "      <th>Hero Product 1 #ratings</th>\n",
       "      <th>Hero Product 2 #ratings</th>\n",
       "      <th>sellerdetails</th>\n",
       "      <th>sellerratings%positive</th>\n",
       "      <th>sellerratingstotalcount</th>\n",
       "    </tr>\n",
       "  </thead>\n",
       "  <tbody>\n",
       "    <tr>\n",
       "      <th>0</th>\n",
       "      <td>100000</td>\n",
       "      <td>16</td>\n",
       "      <td>88</td>\n",
       "      <td>5873</td>\n",
       "      <td>4957</td>\n",
       "      <td>Lohas Living Inc James Mazzello US 845 3RD Ave...</td>\n",
       "      <td>88</td>\n",
       "      <td>118</td>\n",
       "    </tr>\n",
       "    <tr>\n",
       "      <th>14</th>\n",
       "      <td>919</td>\n",
       "      <td>15</td>\n",
       "      <td>97</td>\n",
       "      <td>1446</td>\n",
       "      <td>921</td>\n",
       "      <td>Impressum\\n \\n Gesetzliche Anbieterkennung:\\n ...</td>\n",
       "      <td>97</td>\n",
       "      <td>116</td>\n",
       "    </tr>\n",
       "    <tr>\n",
       "      <th>22</th>\n",
       "      <td>40000</td>\n",
       "      <td>16</td>\n",
       "      <td>100</td>\n",
       "      <td>10538</td>\n",
       "      <td>8293</td>\n",
       "      <td>Bestof Floral is committed to providing each c...</td>\n",
       "      <td>100</td>\n",
       "      <td>10</td>\n",
       "    </tr>\n",
       "    <tr>\n",
       "      <th>23</th>\n",
       "      <td>100000</td>\n",
       "      <td>15</td>\n",
       "      <td>90</td>\n",
       "      <td>30139</td>\n",
       "      <td>11182</td>\n",
       "      <td>Blumenbecker Industriebedarf GmbH Sudhoferweg ...</td>\n",
       "      <td>88</td>\n",
       "      <td>3134</td>\n",
       "    </tr>\n",
       "    <tr>\n",
       "      <th>24</th>\n",
       "      <td>3000</td>\n",
       "      <td>15</td>\n",
       "      <td>98</td>\n",
       "      <td>3286</td>\n",
       "      <td>3079</td>\n",
       "      <td>Herzlich willkommen auf unserer Internetpräsen...</td>\n",
       "      <td>97</td>\n",
       "      <td>610</td>\n",
       "    </tr>\n",
       "  </tbody>\n",
       "</table>\n",
       "</div>"
      ],
      "text/plain": [
       "    sellerproductcount  Count of seller brands  \\\n",
       "0               100000                      16   \n",
       "14                 919                      15   \n",
       "22               40000                      16   \n",
       "23              100000                      15   \n",
       "24                3000                      15   \n",
       "\n",
       "    Max % of negative seller ratings - last 12 months  \\\n",
       "0                                                  88   \n",
       "14                                                 97   \n",
       "22                                                100   \n",
       "23                                                 90   \n",
       "24                                                 98   \n",
       "\n",
       "    Hero Product 1 #ratings  Hero Product 2 #ratings  \\\n",
       "0                      5873                     4957   \n",
       "14                     1446                      921   \n",
       "22                    10538                     8293   \n",
       "23                    30139                    11182   \n",
       "24                     3286                     3079   \n",
       "\n",
       "                                        sellerdetails  sellerratings%positive  \\\n",
       "0   Lohas Living Inc James Mazzello US 845 3RD Ave...                      88   \n",
       "14  Impressum\\n \\n Gesetzliche Anbieterkennung:\\n ...                      97   \n",
       "22  Bestof Floral is committed to providing each c...                     100   \n",
       "23  Blumenbecker Industriebedarf GmbH Sudhoferweg ...                      88   \n",
       "24  Herzlich willkommen auf unserer Internetpräsen...                      97   \n",
       "\n",
       "    sellerratingstotalcount  \n",
       "0                       118  \n",
       "14                      116  \n",
       "22                       10  \n",
       "23                     3134  \n",
       "24                      610  "
      ]
     },
     "execution_count": 38,
     "metadata": {},
     "output_type": "execute_result"
    }
   ],
   "source": [
    "data_analysis.head()"
   ]
  },
  {
   "cell_type": "code",
   "execution_count": 39,
   "id": "dbdc60ff",
   "metadata": {
    "execution": {
     "iopub.execute_input": "2022-07-20T00:44:22.235839Z",
     "iopub.status.busy": "2022-07-20T00:44:22.235430Z",
     "iopub.status.idle": "2022-07-20T00:44:22.242275Z",
     "shell.execute_reply": "2022-07-20T00:44:22.241111Z"
    },
    "papermill": {
     "duration": 0.038172,
     "end_time": "2022-07-20T00:44:22.244604",
     "exception": false,
     "start_time": "2022-07-20T00:44:22.206432",
     "status": "completed"
    },
    "tags": []
   },
   "outputs": [
    {
     "data": {
      "text/plain": [
       "Index(['sellerproductcount', 'Count of seller brands',\n",
       "       'Max % of negative seller ratings - last 12 months',\n",
       "       'Hero Product 1 #ratings', 'Hero Product 2 #ratings', 'sellerdetails',\n",
       "       'sellerratings%positive', 'sellerratingstotalcount'],\n",
       "      dtype='object')"
      ]
     },
     "execution_count": 39,
     "metadata": {},
     "output_type": "execute_result"
    }
   ],
   "source": [
    "data_analysis.columns"
   ]
  },
  {
   "cell_type": "markdown",
   "id": "3f567493",
   "metadata": {
    "execution": {
     "iopub.execute_input": "2022-07-19T22:25:12.621404Z",
     "iopub.status.busy": "2022-07-19T22:25:12.620844Z",
     "iopub.status.idle": "2022-07-19T22:25:12.637349Z",
     "shell.execute_reply": "2022-07-19T22:25:12.636301Z",
     "shell.execute_reply.started": "2022-07-19T22:25:12.621372Z"
    },
    "papermill": {
     "duration": 0.027202,
     "end_time": "2022-07-20T00:44:22.299245",
     "exception": false,
     "start_time": "2022-07-20T00:44:22.272043",
     "status": "completed"
    },
    "tags": []
   },
   "source": [
    "#### We will scale the columns so that the score there values are between 0 and 1 and all columns are given equal importance in seller selection"
   ]
  },
  {
   "cell_type": "code",
   "execution_count": 40,
   "id": "4a7c4c22",
   "metadata": {
    "execution": {
     "iopub.execute_input": "2022-07-20T00:44:22.356123Z",
     "iopub.status.busy": "2022-07-20T00:44:22.355727Z",
     "iopub.status.idle": "2022-07-20T00:44:23.362094Z",
     "shell.execute_reply": "2022-07-20T00:44:23.360705Z"
    },
    "papermill": {
     "duration": 1.038892,
     "end_time": "2022-07-20T00:44:23.365237",
     "exception": false,
     "start_time": "2022-07-20T00:44:22.326345",
     "status": "completed"
    },
    "tags": []
   },
   "outputs": [],
   "source": [
    "from sklearn.preprocessing import MinMaxScaler"
   ]
  },
  {
   "cell_type": "code",
   "execution_count": 41,
   "id": "2f8f145f",
   "metadata": {
    "execution": {
     "iopub.execute_input": "2022-07-20T00:44:23.423542Z",
     "iopub.status.busy": "2022-07-20T00:44:23.422577Z",
     "iopub.status.idle": "2022-07-20T00:44:23.428244Z",
     "shell.execute_reply": "2022-07-20T00:44:23.427320Z"
    },
    "papermill": {
     "duration": 0.037259,
     "end_time": "2022-07-20T00:44:23.430554",
     "exception": false,
     "start_time": "2022-07-20T00:44:23.393295",
     "status": "completed"
    },
    "tags": []
   },
   "outputs": [],
   "source": [
    "scalar = MinMaxScaler()"
   ]
  },
  {
   "cell_type": "code",
   "execution_count": 42,
   "id": "34d0b6fd",
   "metadata": {
    "execution": {
     "iopub.execute_input": "2022-07-20T00:44:23.489757Z",
     "iopub.status.busy": "2022-07-20T00:44:23.489145Z",
     "iopub.status.idle": "2022-07-20T00:44:23.502817Z",
     "shell.execute_reply": "2022-07-20T00:44:23.500947Z"
    },
    "papermill": {
     "duration": 0.04748,
     "end_time": "2022-07-20T00:44:23.506204",
     "exception": false,
     "start_time": "2022-07-20T00:44:23.458724",
     "status": "completed"
    },
    "tags": []
   },
   "outputs": [
    {
     "name": "stderr",
     "output_type": "stream",
     "text": [
      "/opt/conda/lib/python3.7/site-packages/pandas/core/frame.py:3678: SettingWithCopyWarning: \n",
      "A value is trying to be set on a copy of a slice from a DataFrame.\n",
      "Try using .loc[row_indexer,col_indexer] = value instead\n",
      "\n",
      "See the caveats in the documentation: https://pandas.pydata.org/pandas-docs/stable/user_guide/indexing.html#returning-a-view-versus-a-copy\n",
      "  self[col] = igetitem(value, i)\n"
     ]
    }
   ],
   "source": [
    "data_analysis[['sellerproductcount', 'Count of seller brands','Max % of negative seller ratings - last 12 months','Hero Product 1 #ratings', 'Hero Product 2 #ratings', 'sellerratings%positive', 'sellerratingstotalcount']] =  scalar.fit_transform(data_analysis[['sellerproductcount', 'Count of seller brands', 'Max % of negative seller ratings - last 12 months', 'Hero Product 1 #ratings', 'Hero Product 2 #ratings', 'sellerratings%positive', 'sellerratingstotalcount']])"
   ]
  },
  {
   "cell_type": "markdown",
   "id": "0770d3da",
   "metadata": {
    "execution": {
     "iopub.execute_input": "2022-07-19T22:25:13.09468Z",
     "iopub.status.busy": "2022-07-19T22:25:13.093505Z",
     "iopub.status.idle": "2022-07-19T22:25:13.099816Z",
     "shell.execute_reply": "2022-07-19T22:25:13.098669Z",
     "shell.execute_reply.started": "2022-07-19T22:25:13.094581Z"
    },
    "papermill": {
     "duration": 0.027749,
     "end_time": "2022-07-20T00:44:23.562793",
     "exception": false,
     "start_time": "2022-07-20T00:44:23.535044",
     "status": "completed"
    },
    "tags": []
   },
   "source": [
    "#### Take a peek at the scaled values now. All values should range between 0 and 1"
   ]
  },
  {
   "cell_type": "code",
   "execution_count": 43,
   "id": "30c891bd",
   "metadata": {
    "execution": {
     "iopub.execute_input": "2022-07-20T00:44:23.621029Z",
     "iopub.status.busy": "2022-07-20T00:44:23.619875Z",
     "iopub.status.idle": "2022-07-20T00:44:23.637623Z",
     "shell.execute_reply": "2022-07-20T00:44:23.636558Z"
    },
    "papermill": {
     "duration": 0.048947,
     "end_time": "2022-07-20T00:44:23.639929",
     "exception": false,
     "start_time": "2022-07-20T00:44:23.590982",
     "status": "completed"
    },
    "tags": []
   },
   "outputs": [
    {
     "data": {
      "text/html": [
       "<div>\n",
       "<style scoped>\n",
       "    .dataframe tbody tr th:only-of-type {\n",
       "        vertical-align: middle;\n",
       "    }\n",
       "\n",
       "    .dataframe tbody tr th {\n",
       "        vertical-align: top;\n",
       "    }\n",
       "\n",
       "    .dataframe thead th {\n",
       "        text-align: right;\n",
       "    }\n",
       "</style>\n",
       "<table border=\"1\" class=\"dataframe\">\n",
       "  <thead>\n",
       "    <tr style=\"text-align: right;\">\n",
       "      <th></th>\n",
       "      <th>sellerproductcount</th>\n",
       "      <th>Count of seller brands</th>\n",
       "      <th>Max % of negative seller ratings - last 12 months</th>\n",
       "      <th>Hero Product 1 #ratings</th>\n",
       "      <th>Hero Product 2 #ratings</th>\n",
       "      <th>sellerdetails</th>\n",
       "      <th>sellerratings%positive</th>\n",
       "      <th>sellerratingstotalcount</th>\n",
       "    </tr>\n",
       "  </thead>\n",
       "  <tbody>\n",
       "    <tr>\n",
       "      <th>0</th>\n",
       "      <td>0.500000</td>\n",
       "      <td>1.0000</td>\n",
       "      <td>0.88</td>\n",
       "      <td>0.067618</td>\n",
       "      <td>0.070081</td>\n",
       "      <td>Lohas Living Inc James Mazzello US 845 3RD Ave...</td>\n",
       "      <td>0.868132</td>\n",
       "      <td>0.015675</td>\n",
       "    </tr>\n",
       "    <tr>\n",
       "      <th>14</th>\n",
       "      <td>0.004595</td>\n",
       "      <td>0.9375</td>\n",
       "      <td>0.97</td>\n",
       "      <td>0.016648</td>\n",
       "      <td>0.013021</td>\n",
       "      <td>Impressum\\n \\n Gesetzliche Anbieterkennung:\\n ...</td>\n",
       "      <td>0.967033</td>\n",
       "      <td>0.015407</td>\n",
       "    </tr>\n",
       "    <tr>\n",
       "      <th>22</th>\n",
       "      <td>0.200000</td>\n",
       "      <td>1.0000</td>\n",
       "      <td>1.00</td>\n",
       "      <td>0.121327</td>\n",
       "      <td>0.117245</td>\n",
       "      <td>Bestof Floral is committed to providing each c...</td>\n",
       "      <td>1.000000</td>\n",
       "      <td>0.001206</td>\n",
       "    </tr>\n",
       "    <tr>\n",
       "      <th>23</th>\n",
       "      <td>0.500000</td>\n",
       "      <td>0.9375</td>\n",
       "      <td>0.90</td>\n",
       "      <td>0.347000</td>\n",
       "      <td>0.158090</td>\n",
       "      <td>Blumenbecker Industriebedarf GmbH Sudhoferweg ...</td>\n",
       "      <td>0.868132</td>\n",
       "      <td>0.419748</td>\n",
       "    </tr>\n",
       "    <tr>\n",
       "      <th>24</th>\n",
       "      <td>0.015000</td>\n",
       "      <td>0.9375</td>\n",
       "      <td>0.98</td>\n",
       "      <td>0.037833</td>\n",
       "      <td>0.043531</td>\n",
       "      <td>Herzlich willkommen auf unserer Internetpräsen...</td>\n",
       "      <td>0.967033</td>\n",
       "      <td>0.081592</td>\n",
       "    </tr>\n",
       "  </tbody>\n",
       "</table>\n",
       "</div>"
      ],
      "text/plain": [
       "    sellerproductcount  Count of seller brands  \\\n",
       "0             0.500000                  1.0000   \n",
       "14            0.004595                  0.9375   \n",
       "22            0.200000                  1.0000   \n",
       "23            0.500000                  0.9375   \n",
       "24            0.015000                  0.9375   \n",
       "\n",
       "    Max % of negative seller ratings - last 12 months  \\\n",
       "0                                                0.88   \n",
       "14                                               0.97   \n",
       "22                                               1.00   \n",
       "23                                               0.90   \n",
       "24                                               0.98   \n",
       "\n",
       "    Hero Product 1 #ratings  Hero Product 2 #ratings  \\\n",
       "0                  0.067618                 0.070081   \n",
       "14                 0.016648                 0.013021   \n",
       "22                 0.121327                 0.117245   \n",
       "23                 0.347000                 0.158090   \n",
       "24                 0.037833                 0.043531   \n",
       "\n",
       "                                        sellerdetails  sellerratings%positive  \\\n",
       "0   Lohas Living Inc James Mazzello US 845 3RD Ave...                0.868132   \n",
       "14  Impressum\\n \\n Gesetzliche Anbieterkennung:\\n ...                0.967033   \n",
       "22  Bestof Floral is committed to providing each c...                1.000000   \n",
       "23  Blumenbecker Industriebedarf GmbH Sudhoferweg ...                0.868132   \n",
       "24  Herzlich willkommen auf unserer Internetpräsen...                0.967033   \n",
       "\n",
       "    sellerratingstotalcount  \n",
       "0                  0.015675  \n",
       "14                 0.015407  \n",
       "22                 0.001206  \n",
       "23                 0.419748  \n",
       "24                 0.081592  "
      ]
     },
     "execution_count": 43,
     "metadata": {},
     "output_type": "execute_result"
    }
   ],
   "source": [
    "data_analysis.head()"
   ]
  },
  {
   "cell_type": "markdown",
   "id": "c819a33d",
   "metadata": {
    "execution": {
     "iopub.execute_input": "2022-07-19T22:25:13.129672Z",
     "iopub.status.busy": "2022-07-19T22:25:13.128844Z",
     "iopub.status.idle": "2022-07-19T22:25:13.134811Z",
     "shell.execute_reply": "2022-07-19T22:25:13.133689Z",
     "shell.execute_reply.started": "2022-07-19T22:25:13.129625Z"
    },
    "papermill": {
     "duration": 0.02944,
     "end_time": "2022-07-20T00:44:23.698170",
     "exception": false,
     "start_time": "2022-07-20T00:44:23.668730",
     "status": "completed"
    },
    "tags": []
   },
   "source": [
    "#### Create a new column which provides total score by mutiplying all the values"
   ]
  },
  {
   "cell_type": "code",
   "execution_count": 44,
   "id": "c04c102e",
   "metadata": {
    "execution": {
     "iopub.execute_input": "2022-07-20T00:44:23.760909Z",
     "iopub.status.busy": "2022-07-20T00:44:23.759524Z",
     "iopub.status.idle": "2022-07-20T00:44:23.768718Z",
     "shell.execute_reply": "2022-07-20T00:44:23.767498Z"
    },
    "papermill": {
     "duration": 0.04303,
     "end_time": "2022-07-20T00:44:23.771313",
     "exception": false,
     "start_time": "2022-07-20T00:44:23.728283",
     "status": "completed"
    },
    "tags": []
   },
   "outputs": [
    {
     "name": "stderr",
     "output_type": "stream",
     "text": [
      "/opt/conda/lib/python3.7/site-packages/ipykernel_launcher.py:1: SettingWithCopyWarning: \n",
      "A value is trying to be set on a copy of a slice from a DataFrame.\n",
      "Try using .loc[row_indexer,col_indexer] = value instead\n",
      "\n",
      "See the caveats in the documentation: https://pandas.pydata.org/pandas-docs/stable/user_guide/indexing.html#returning-a-view-versus-a-copy\n",
      "  \"\"\"Entry point for launching an IPython kernel.\n"
     ]
    }
   ],
   "source": [
    "data_analysis['total_score'] = data_analysis['sellerproductcount'] * data_analysis['Count of seller brands'] * data_analysis['Hero Product 1 #ratings'] * data_analysis['Hero Product 2 #ratings']  * data_analysis['sellerratings%positive'] * data_analysis['sellerratingstotalcount']"
   ]
  },
  {
   "cell_type": "markdown",
   "id": "5dc1c925",
   "metadata": {
    "execution": {
     "iopub.execute_input": "2022-07-19T22:25:13.15126Z",
     "iopub.status.busy": "2022-07-19T22:25:13.15084Z",
     "iopub.status.idle": "2022-07-19T22:25:13.159302Z",
     "shell.execute_reply": "2022-07-19T22:25:13.158518Z",
     "shell.execute_reply.started": "2022-07-19T22:25:13.151222Z"
    },
    "papermill": {
     "duration": 0.028843,
     "end_time": "2022-07-20T00:44:23.829453",
     "exception": false,
     "start_time": "2022-07-20T00:44:23.800610",
     "status": "completed"
    },
    "tags": []
   },
   "source": [
    "#### Verify the total score column"
   ]
  },
  {
   "cell_type": "code",
   "execution_count": 45,
   "id": "9f3a1293",
   "metadata": {
    "execution": {
     "iopub.execute_input": "2022-07-20T00:44:23.888968Z",
     "iopub.status.busy": "2022-07-20T00:44:23.888195Z",
     "iopub.status.idle": "2022-07-20T00:44:23.905423Z",
     "shell.execute_reply": "2022-07-20T00:44:23.904224Z"
    },
    "papermill": {
     "duration": 0.050277,
     "end_time": "2022-07-20T00:44:23.908167",
     "exception": false,
     "start_time": "2022-07-20T00:44:23.857890",
     "status": "completed"
    },
    "tags": []
   },
   "outputs": [
    {
     "data": {
      "text/html": [
       "<div>\n",
       "<style scoped>\n",
       "    .dataframe tbody tr th:only-of-type {\n",
       "        vertical-align: middle;\n",
       "    }\n",
       "\n",
       "    .dataframe tbody tr th {\n",
       "        vertical-align: top;\n",
       "    }\n",
       "\n",
       "    .dataframe thead th {\n",
       "        text-align: right;\n",
       "    }\n",
       "</style>\n",
       "<table border=\"1\" class=\"dataframe\">\n",
       "  <thead>\n",
       "    <tr style=\"text-align: right;\">\n",
       "      <th></th>\n",
       "      <th>sellerproductcount</th>\n",
       "      <th>Count of seller brands</th>\n",
       "      <th>Max % of negative seller ratings - last 12 months</th>\n",
       "      <th>Hero Product 1 #ratings</th>\n",
       "      <th>Hero Product 2 #ratings</th>\n",
       "      <th>sellerdetails</th>\n",
       "      <th>sellerratings%positive</th>\n",
       "      <th>sellerratingstotalcount</th>\n",
       "      <th>total_score</th>\n",
       "    </tr>\n",
       "  </thead>\n",
       "  <tbody>\n",
       "    <tr>\n",
       "      <th>0</th>\n",
       "      <td>0.500000</td>\n",
       "      <td>1.0000</td>\n",
       "      <td>0.88</td>\n",
       "      <td>0.067618</td>\n",
       "      <td>0.070081</td>\n",
       "      <td>Lohas Living Inc James Mazzello US 845 3RD Ave...</td>\n",
       "      <td>0.868132</td>\n",
       "      <td>0.015675</td>\n",
       "      <td>3.224283e-05</td>\n",
       "    </tr>\n",
       "    <tr>\n",
       "      <th>14</th>\n",
       "      <td>0.004595</td>\n",
       "      <td>0.9375</td>\n",
       "      <td>0.97</td>\n",
       "      <td>0.016648</td>\n",
       "      <td>0.013021</td>\n",
       "      <td>Impressum\\n \\n Gesetzliche Anbieterkennung:\\n ...</td>\n",
       "      <td>0.967033</td>\n",
       "      <td>0.015407</td>\n",
       "      <td>1.391350e-08</td>\n",
       "    </tr>\n",
       "    <tr>\n",
       "      <th>22</th>\n",
       "      <td>0.200000</td>\n",
       "      <td>1.0000</td>\n",
       "      <td>1.00</td>\n",
       "      <td>0.121327</td>\n",
       "      <td>0.117245</td>\n",
       "      <td>Bestof Floral is committed to providing each c...</td>\n",
       "      <td>1.000000</td>\n",
       "      <td>0.001206</td>\n",
       "      <td>3.430481e-06</td>\n",
       "    </tr>\n",
       "    <tr>\n",
       "      <th>23</th>\n",
       "      <td>0.500000</td>\n",
       "      <td>0.9375</td>\n",
       "      <td>0.90</td>\n",
       "      <td>0.347000</td>\n",
       "      <td>0.158090</td>\n",
       "      <td>Blumenbecker Industriebedarf GmbH Sudhoferweg ...</td>\n",
       "      <td>0.868132</td>\n",
       "      <td>0.419748</td>\n",
       "      <td>9.370188e-03</td>\n",
       "    </tr>\n",
       "    <tr>\n",
       "      <th>24</th>\n",
       "      <td>0.015000</td>\n",
       "      <td>0.9375</td>\n",
       "      <td>0.98</td>\n",
       "      <td>0.037833</td>\n",
       "      <td>0.043531</td>\n",
       "      <td>Herzlich willkommen auf unserer Internetpräsen...</td>\n",
       "      <td>0.967033</td>\n",
       "      <td>0.081592</td>\n",
       "      <td>1.827305e-06</td>\n",
       "    </tr>\n",
       "  </tbody>\n",
       "</table>\n",
       "</div>"
      ],
      "text/plain": [
       "    sellerproductcount  Count of seller brands  \\\n",
       "0             0.500000                  1.0000   \n",
       "14            0.004595                  0.9375   \n",
       "22            0.200000                  1.0000   \n",
       "23            0.500000                  0.9375   \n",
       "24            0.015000                  0.9375   \n",
       "\n",
       "    Max % of negative seller ratings - last 12 months  \\\n",
       "0                                                0.88   \n",
       "14                                               0.97   \n",
       "22                                               1.00   \n",
       "23                                               0.90   \n",
       "24                                               0.98   \n",
       "\n",
       "    Hero Product 1 #ratings  Hero Product 2 #ratings  \\\n",
       "0                  0.067618                 0.070081   \n",
       "14                 0.016648                 0.013021   \n",
       "22                 0.121327                 0.117245   \n",
       "23                 0.347000                 0.158090   \n",
       "24                 0.037833                 0.043531   \n",
       "\n",
       "                                        sellerdetails  sellerratings%positive  \\\n",
       "0   Lohas Living Inc James Mazzello US 845 3RD Ave...                0.868132   \n",
       "14  Impressum\\n \\n Gesetzliche Anbieterkennung:\\n ...                0.967033   \n",
       "22  Bestof Floral is committed to providing each c...                1.000000   \n",
       "23  Blumenbecker Industriebedarf GmbH Sudhoferweg ...                0.868132   \n",
       "24  Herzlich willkommen auf unserer Internetpräsen...                0.967033   \n",
       "\n",
       "    sellerratingstotalcount   total_score  \n",
       "0                  0.015675  3.224283e-05  \n",
       "14                 0.015407  1.391350e-08  \n",
       "22                 0.001206  3.430481e-06  \n",
       "23                 0.419748  9.370188e-03  \n",
       "24                 0.081592  1.827305e-06  "
      ]
     },
     "execution_count": 45,
     "metadata": {},
     "output_type": "execute_result"
    }
   ],
   "source": [
    "data_analysis.head()"
   ]
  },
  {
   "cell_type": "markdown",
   "id": "16b333ef",
   "metadata": {
    "execution": {
     "iopub.execute_input": "2022-07-19T22:25:13.184199Z",
     "iopub.status.busy": "2022-07-19T22:25:13.183618Z",
     "iopub.status.idle": "2022-07-19T22:25:13.194648Z",
     "shell.execute_reply": "2022-07-19T22:25:13.193763Z",
     "shell.execute_reply.started": "2022-07-19T22:25:13.184167Z"
    },
    "papermill": {
     "duration": 0.029405,
     "end_time": "2022-07-20T00:44:23.967230",
     "exception": false,
     "start_time": "2022-07-20T00:44:23.937825",
     "status": "completed"
    },
    "tags": []
   },
   "source": [
    "#### Scale the total score column so that the values range between 0 for lowest score and 1 for best score"
   ]
  },
  {
   "cell_type": "code",
   "execution_count": 46,
   "id": "e8b85626",
   "metadata": {
    "execution": {
     "iopub.execute_input": "2022-07-20T00:44:24.027188Z",
     "iopub.status.busy": "2022-07-20T00:44:24.026760Z",
     "iopub.status.idle": "2022-07-20T00:44:24.037957Z",
     "shell.execute_reply": "2022-07-20T00:44:24.036813Z"
    },
    "papermill": {
     "duration": 0.043204,
     "end_time": "2022-07-20T00:44:24.040332",
     "exception": false,
     "start_time": "2022-07-20T00:44:23.997128",
     "status": "completed"
    },
    "tags": []
   },
   "outputs": [
    {
     "name": "stderr",
     "output_type": "stream",
     "text": [
      "/opt/conda/lib/python3.7/site-packages/ipykernel_launcher.py:1: SettingWithCopyWarning: \n",
      "A value is trying to be set on a copy of a slice from a DataFrame.\n",
      "Try using .loc[row_indexer,col_indexer] = value instead\n",
      "\n",
      "See the caveats in the documentation: https://pandas.pydata.org/pandas-docs/stable/user_guide/indexing.html#returning-a-view-versus-a-copy\n",
      "  \"\"\"Entry point for launching an IPython kernel.\n"
     ]
    }
   ],
   "source": [
    "data_analysis['total_score'] = scalar.fit_transform(data_analysis[['total_score']])"
   ]
  },
  {
   "cell_type": "markdown",
   "id": "5f81c8e8",
   "metadata": {
    "execution": {
     "iopub.execute_input": "2022-07-19T22:25:13.215464Z",
     "iopub.status.busy": "2022-07-19T22:25:13.214893Z",
     "iopub.status.idle": "2022-07-19T22:25:13.219971Z",
     "shell.execute_reply": "2022-07-19T22:25:13.219205Z",
     "shell.execute_reply.started": "2022-07-19T22:25:13.21542Z"
    },
    "papermill": {
     "duration": 0.027952,
     "end_time": "2022-07-20T00:44:24.097860",
     "exception": false,
     "start_time": "2022-07-20T00:44:24.069908",
     "status": "completed"
    },
    "tags": []
   },
   "source": [
    "#### Verify now"
   ]
  },
  {
   "cell_type": "code",
   "execution_count": 47,
   "id": "70498b35",
   "metadata": {
    "execution": {
     "iopub.execute_input": "2022-07-20T00:44:24.156168Z",
     "iopub.status.busy": "2022-07-20T00:44:24.155423Z",
     "iopub.status.idle": "2022-07-20T00:44:24.173189Z",
     "shell.execute_reply": "2022-07-20T00:44:24.172086Z"
    },
    "papermill": {
     "duration": 0.049488,
     "end_time": "2022-07-20T00:44:24.175418",
     "exception": false,
     "start_time": "2022-07-20T00:44:24.125930",
     "status": "completed"
    },
    "tags": []
   },
   "outputs": [
    {
     "data": {
      "text/html": [
       "<div>\n",
       "<style scoped>\n",
       "    .dataframe tbody tr th:only-of-type {\n",
       "        vertical-align: middle;\n",
       "    }\n",
       "\n",
       "    .dataframe tbody tr th {\n",
       "        vertical-align: top;\n",
       "    }\n",
       "\n",
       "    .dataframe thead th {\n",
       "        text-align: right;\n",
       "    }\n",
       "</style>\n",
       "<table border=\"1\" class=\"dataframe\">\n",
       "  <thead>\n",
       "    <tr style=\"text-align: right;\">\n",
       "      <th></th>\n",
       "      <th>sellerproductcount</th>\n",
       "      <th>Count of seller brands</th>\n",
       "      <th>Max % of negative seller ratings - last 12 months</th>\n",
       "      <th>Hero Product 1 #ratings</th>\n",
       "      <th>Hero Product 2 #ratings</th>\n",
       "      <th>sellerdetails</th>\n",
       "      <th>sellerratings%positive</th>\n",
       "      <th>sellerratingstotalcount</th>\n",
       "      <th>total_score</th>\n",
       "    </tr>\n",
       "  </thead>\n",
       "  <tbody>\n",
       "    <tr>\n",
       "      <th>0</th>\n",
       "      <td>0.500000</td>\n",
       "      <td>1.0000</td>\n",
       "      <td>0.88</td>\n",
       "      <td>0.067618</td>\n",
       "      <td>0.070081</td>\n",
       "      <td>Lohas Living Inc James Mazzello US 845 3RD Ave...</td>\n",
       "      <td>0.868132</td>\n",
       "      <td>0.015675</td>\n",
       "      <td>1.767296e-03</td>\n",
       "    </tr>\n",
       "    <tr>\n",
       "      <th>14</th>\n",
       "      <td>0.004595</td>\n",
       "      <td>0.9375</td>\n",
       "      <td>0.97</td>\n",
       "      <td>0.016648</td>\n",
       "      <td>0.013021</td>\n",
       "      <td>Impressum\\n \\n Gesetzliche Anbieterkennung:\\n ...</td>\n",
       "      <td>0.967033</td>\n",
       "      <td>0.015407</td>\n",
       "      <td>7.626279e-07</td>\n",
       "    </tr>\n",
       "    <tr>\n",
       "      <th>22</th>\n",
       "      <td>0.200000</td>\n",
       "      <td>1.0000</td>\n",
       "      <td>1.00</td>\n",
       "      <td>0.121327</td>\n",
       "      <td>0.117245</td>\n",
       "      <td>Bestof Floral is committed to providing each c...</td>\n",
       "      <td>1.000000</td>\n",
       "      <td>0.001206</td>\n",
       "      <td>1.880318e-04</td>\n",
       "    </tr>\n",
       "    <tr>\n",
       "      <th>23</th>\n",
       "      <td>0.500000</td>\n",
       "      <td>0.9375</td>\n",
       "      <td>0.90</td>\n",
       "      <td>0.347000</td>\n",
       "      <td>0.158090</td>\n",
       "      <td>Blumenbecker Industriebedarf GmbH Sudhoferweg ...</td>\n",
       "      <td>0.868132</td>\n",
       "      <td>0.419748</td>\n",
       "      <td>5.135995e-01</td>\n",
       "    </tr>\n",
       "    <tr>\n",
       "      <th>24</th>\n",
       "      <td>0.015000</td>\n",
       "      <td>0.9375</td>\n",
       "      <td>0.98</td>\n",
       "      <td>0.037833</td>\n",
       "      <td>0.043531</td>\n",
       "      <td>Herzlich willkommen auf unserer Internetpräsen...</td>\n",
       "      <td>0.967033</td>\n",
       "      <td>0.081592</td>\n",
       "      <td>1.001584e-04</td>\n",
       "    </tr>\n",
       "  </tbody>\n",
       "</table>\n",
       "</div>"
      ],
      "text/plain": [
       "    sellerproductcount  Count of seller brands  \\\n",
       "0             0.500000                  1.0000   \n",
       "14            0.004595                  0.9375   \n",
       "22            0.200000                  1.0000   \n",
       "23            0.500000                  0.9375   \n",
       "24            0.015000                  0.9375   \n",
       "\n",
       "    Max % of negative seller ratings - last 12 months  \\\n",
       "0                                                0.88   \n",
       "14                                               0.97   \n",
       "22                                               1.00   \n",
       "23                                               0.90   \n",
       "24                                               0.98   \n",
       "\n",
       "    Hero Product 1 #ratings  Hero Product 2 #ratings  \\\n",
       "0                  0.067618                 0.070081   \n",
       "14                 0.016648                 0.013021   \n",
       "22                 0.121327                 0.117245   \n",
       "23                 0.347000                 0.158090   \n",
       "24                 0.037833                 0.043531   \n",
       "\n",
       "                                        sellerdetails  sellerratings%positive  \\\n",
       "0   Lohas Living Inc James Mazzello US 845 3RD Ave...                0.868132   \n",
       "14  Impressum\\n \\n Gesetzliche Anbieterkennung:\\n ...                0.967033   \n",
       "22  Bestof Floral is committed to providing each c...                1.000000   \n",
       "23  Blumenbecker Industriebedarf GmbH Sudhoferweg ...                0.868132   \n",
       "24  Herzlich willkommen auf unserer Internetpräsen...                0.967033   \n",
       "\n",
       "    sellerratingstotalcount   total_score  \n",
       "0                  0.015675  1.767296e-03  \n",
       "14                 0.015407  7.626279e-07  \n",
       "22                 0.001206  1.880318e-04  \n",
       "23                 0.419748  5.135995e-01  \n",
       "24                 0.081592  1.001584e-04  "
      ]
     },
     "execution_count": 47,
     "metadata": {},
     "output_type": "execute_result"
    }
   ],
   "source": [
    "data_analysis.head()"
   ]
  },
  {
   "cell_type": "markdown",
   "id": "048a45b2",
   "metadata": {
    "execution": {
     "iopub.execute_input": "2022-07-19T22:25:13.243835Z",
     "iopub.status.busy": "2022-07-19T22:25:13.243005Z",
     "iopub.status.idle": "2022-07-19T22:25:13.255234Z",
     "shell.execute_reply": "2022-07-19T22:25:13.254093Z",
     "shell.execute_reply.started": "2022-07-19T22:25:13.243771Z"
    },
    "papermill": {
     "duration": 0.028375,
     "end_time": "2022-07-20T00:44:24.233286",
     "exception": false,
     "start_time": "2022-07-20T00:44:24.204911",
     "status": "completed"
    },
    "tags": []
   },
   "source": [
    "# 6. Make a new dataframe with Top 20 Best Seller with respectto their Total Score"
   ]
  },
  {
   "cell_type": "code",
   "execution_count": 48,
   "id": "c7c8df9c",
   "metadata": {
    "execution": {
     "iopub.execute_input": "2022-07-20T00:44:24.293103Z",
     "iopub.status.busy": "2022-07-20T00:44:24.292648Z",
     "iopub.status.idle": "2022-07-20T00:44:24.298830Z",
     "shell.execute_reply": "2022-07-20T00:44:24.297978Z"
    },
    "papermill": {
     "duration": 0.038834,
     "end_time": "2022-07-20T00:44:24.300839",
     "exception": false,
     "start_time": "2022-07-20T00:44:24.262005",
     "status": "completed"
    },
    "tags": []
   },
   "outputs": [],
   "source": [
    "top20_sellers = data_analysis.sort_values('total_score', ascending=False).head(20)"
   ]
  },
  {
   "cell_type": "markdown",
   "id": "6c1fd55d",
   "metadata": {
    "execution": {
     "iopub.execute_input": "2022-07-19T22:25:13.271192Z",
     "iopub.status.busy": "2022-07-19T22:25:13.269852Z",
     "iopub.status.idle": "2022-07-19T22:25:13.281407Z",
     "shell.execute_reply": "2022-07-19T22:25:13.280567Z",
     "shell.execute_reply.started": "2022-07-19T22:25:13.271061Z"
    },
    "papermill": {
     "duration": 0.028283,
     "end_time": "2022-07-20T00:44:24.358086",
     "exception": false,
     "start_time": "2022-07-20T00:44:24.329803",
     "status": "completed"
    },
    "tags": []
   },
   "source": [
    "#### Look at the DataFrame"
   ]
  },
  {
   "cell_type": "code",
   "execution_count": 49,
   "id": "2afc7571",
   "metadata": {
    "execution": {
     "iopub.execute_input": "2022-07-20T00:44:24.417157Z",
     "iopub.status.busy": "2022-07-20T00:44:24.416714Z",
     "iopub.status.idle": "2022-07-20T00:44:24.446146Z",
     "shell.execute_reply": "2022-07-20T00:44:24.444847Z"
    },
    "papermill": {
     "duration": 0.062854,
     "end_time": "2022-07-20T00:44:24.449494",
     "exception": false,
     "start_time": "2022-07-20T00:44:24.386640",
     "status": "completed"
    },
    "tags": []
   },
   "outputs": [
    {
     "data": {
      "text/html": [
       "<div>\n",
       "<style scoped>\n",
       "    .dataframe tbody tr th:only-of-type {\n",
       "        vertical-align: middle;\n",
       "    }\n",
       "\n",
       "    .dataframe tbody tr th {\n",
       "        vertical-align: top;\n",
       "    }\n",
       "\n",
       "    .dataframe thead th {\n",
       "        text-align: right;\n",
       "    }\n",
       "</style>\n",
       "<table border=\"1\" class=\"dataframe\">\n",
       "  <thead>\n",
       "    <tr style=\"text-align: right;\">\n",
       "      <th></th>\n",
       "      <th>sellerproductcount</th>\n",
       "      <th>Count of seller brands</th>\n",
       "      <th>Max % of negative seller ratings - last 12 months</th>\n",
       "      <th>Hero Product 1 #ratings</th>\n",
       "      <th>Hero Product 2 #ratings</th>\n",
       "      <th>sellerdetails</th>\n",
       "      <th>sellerratings%positive</th>\n",
       "      <th>sellerratingstotalcount</th>\n",
       "      <th>total_score</th>\n",
       "    </tr>\n",
       "  </thead>\n",
       "  <tbody>\n",
       "    <tr>\n",
       "      <th>36</th>\n",
       "      <td>0.250</td>\n",
       "      <td>0.9375</td>\n",
       "      <td>0.92</td>\n",
       "      <td>0.468396</td>\n",
       "      <td>0.267347</td>\n",
       "      <td>IMPRESSUM \\n itenga GmbH\\n Am Umspannwerk 2\\n ...</td>\n",
       "      <td>0.901099</td>\n",
       "      <td>0.689845</td>\n",
       "      <td>1.000000</td>\n",
       "    </tr>\n",
       "    <tr>\n",
       "      <th>726</th>\n",
       "      <td>0.200</td>\n",
       "      <td>1.0000</td>\n",
       "      <td>0.91</td>\n",
       "      <td>0.468373</td>\n",
       "      <td>0.188189</td>\n",
       "      <td>trendmile GmbH\\n\\nAmtsgericht Darmstadt HR B 8...</td>\n",
       "      <td>0.879121</td>\n",
       "      <td>0.970123</td>\n",
       "      <td>0.824078</td>\n",
       "    </tr>\n",
       "    <tr>\n",
       "      <th>495</th>\n",
       "      <td>0.500</td>\n",
       "      <td>0.8750</td>\n",
       "      <td>0.93</td>\n",
       "      <td>0.894745</td>\n",
       "      <td>1.000000</td>\n",
       "      <td>SELECT ELITE is committed to providing each cu...</td>\n",
       "      <td>0.901099</td>\n",
       "      <td>0.038451</td>\n",
       "      <td>0.743424</td>\n",
       "    </tr>\n",
       "    <tr>\n",
       "      <th>23</th>\n",
       "      <td>0.500</td>\n",
       "      <td>0.9375</td>\n",
       "      <td>0.90</td>\n",
       "      <td>0.347000</td>\n",
       "      <td>0.158090</td>\n",
       "      <td>Blumenbecker Industriebedarf GmbH Sudhoferweg ...</td>\n",
       "      <td>0.868132</td>\n",
       "      <td>0.419748</td>\n",
       "      <td>0.513599</td>\n",
       "    </tr>\n",
       "    <tr>\n",
       "      <th>322</th>\n",
       "      <td>0.150</td>\n",
       "      <td>1.0000</td>\n",
       "      <td>0.94</td>\n",
       "      <td>0.825193</td>\n",
       "      <td>0.824690</td>\n",
       "      <td>Milovan Stojkovic\\n Mühlenstr. 16\\n 48431 Rhei...</td>\n",
       "      <td>0.912088</td>\n",
       "      <td>0.093516</td>\n",
       "      <td>0.477238</td>\n",
       "    </tr>\n",
       "    <tr>\n",
       "      <th>712</th>\n",
       "      <td>1.000</td>\n",
       "      <td>0.9375</td>\n",
       "      <td>0.78</td>\n",
       "      <td>0.155315</td>\n",
       "      <td>0.159532</td>\n",
       "      <td>TradeINN is committed to providing each custom...</td>\n",
       "      <td>0.736264</td>\n",
       "      <td>0.301447</td>\n",
       "      <td>0.282586</td>\n",
       "    </tr>\n",
       "    <tr>\n",
       "      <th>882</th>\n",
       "      <td>0.020</td>\n",
       "      <td>0.9375</td>\n",
       "      <td>0.96</td>\n",
       "      <td>0.768813</td>\n",
       "      <td>0.458350</td>\n",
       "      <td>Impressum\\n  \\n  Gesetzliche Anbieterkennung:\\...</td>\n",
       "      <td>0.934066</td>\n",
       "      <td>0.815247</td>\n",
       "      <td>0.275779</td>\n",
       "    </tr>\n",
       "    <tr>\n",
       "      <th>100</th>\n",
       "      <td>0.035</td>\n",
       "      <td>1.0000</td>\n",
       "      <td>0.98</td>\n",
       "      <td>0.545006</td>\n",
       "      <td>0.458350</td>\n",
       "      <td>Kessler electronic GmbH\\n Dieselstrasse 4\\n 50...</td>\n",
       "      <td>0.967033</td>\n",
       "      <td>0.457529</td>\n",
       "      <td>0.212033</td>\n",
       "    </tr>\n",
       "    <tr>\n",
       "      <th>1784</th>\n",
       "      <td>0.500</td>\n",
       "      <td>1.0000</td>\n",
       "      <td>0.98</td>\n",
       "      <td>0.297066</td>\n",
       "      <td>0.070392</td>\n",
       "      <td>Impressum nach TMG:\\n\\nZoreno Versandhandel Gm...</td>\n",
       "      <td>0.978022</td>\n",
       "      <td>0.352224</td>\n",
       "      <td>0.197421</td>\n",
       "    </tr>\n",
       "    <tr>\n",
       "      <th>985</th>\n",
       "      <td>0.500</td>\n",
       "      <td>1.0000</td>\n",
       "      <td>0.96</td>\n",
       "      <td>0.468407</td>\n",
       "      <td>0.188189</td>\n",
       "      <td>Schreibwaren Wegmann, Janos Metz e.K. Inhaber:...</td>\n",
       "      <td>0.934066</td>\n",
       "      <td>0.048499</td>\n",
       "      <td>0.109441</td>\n",
       "    </tr>\n",
       "    <tr>\n",
       "      <th>53</th>\n",
       "      <td>0.040</td>\n",
       "      <td>1.0000</td>\n",
       "      <td>0.96</td>\n",
       "      <td>0.468407</td>\n",
       "      <td>0.146171</td>\n",
       "      <td>Impressum der Kaleido.Shop GmbH\\nKaleido.Shop ...</td>\n",
       "      <td>0.945055</td>\n",
       "      <td>0.561093</td>\n",
       "      <td>0.079600</td>\n",
       "    </tr>\n",
       "    <tr>\n",
       "      <th>1495</th>\n",
       "      <td>0.100</td>\n",
       "      <td>1.0000</td>\n",
       "      <td>0.95</td>\n",
       "      <td>0.118069</td>\n",
       "      <td>0.130973</td>\n",
       "      <td>Gesetzliche Anbieterkennung:\\n TransPal GmbH\\n...</td>\n",
       "      <td>0.923077</td>\n",
       "      <td>0.439175</td>\n",
       "      <td>0.034361</td>\n",
       "    </tr>\n",
       "    <tr>\n",
       "      <th>947</th>\n",
       "      <td>0.050</td>\n",
       "      <td>1.0000</td>\n",
       "      <td>0.94</td>\n",
       "      <td>1.000000</td>\n",
       "      <td>0.533224</td>\n",
       "      <td>want jp - Our vision is to become the world's ...</td>\n",
       "      <td>0.912088</td>\n",
       "      <td>0.021168</td>\n",
       "      <td>0.028215</td>\n",
       "    </tr>\n",
       "    <tr>\n",
       "      <th>321</th>\n",
       "      <td>0.035</td>\n",
       "      <td>1.0000</td>\n",
       "      <td>0.94</td>\n",
       "      <td>0.695220</td>\n",
       "      <td>0.816731</td>\n",
       "      <td>Impressum\\n \\n Gesetzliche Anbieterkennung:\\n ...</td>\n",
       "      <td>0.934066</td>\n",
       "      <td>0.026125</td>\n",
       "      <td>0.026582</td>\n",
       "    </tr>\n",
       "    <tr>\n",
       "      <th>1058</th>\n",
       "      <td>0.050</td>\n",
       "      <td>0.9375</td>\n",
       "      <td>0.93</td>\n",
       "      <td>0.545040</td>\n",
       "      <td>0.262413</td>\n",
       "      <td>Impressum\\n \\n Gesetzliche Anbieterkennung:\\n ...</td>\n",
       "      <td>0.912088</td>\n",
       "      <td>0.077304</td>\n",
       "      <td>0.025910</td>\n",
       "    </tr>\n",
       "    <tr>\n",
       "      <th>1045</th>\n",
       "      <td>0.050</td>\n",
       "      <td>0.9375</td>\n",
       "      <td>0.73</td>\n",
       "      <td>0.361806</td>\n",
       "      <td>0.190805</td>\n",
       "      <td>Impressum\\n \\n Gesetzliche Anbieterkennung:\\n ...</td>\n",
       "      <td>0.681319</td>\n",
       "      <td>0.188371</td>\n",
       "      <td>0.022764</td>\n",
       "    </tr>\n",
       "    <tr>\n",
       "      <th>26</th>\n",
       "      <td>0.300</td>\n",
       "      <td>1.0000</td>\n",
       "      <td>0.82</td>\n",
       "      <td>0.434236</td>\n",
       "      <td>0.191794</td>\n",
       "      <td>Bristol Fashion is committed to providing each...</td>\n",
       "      <td>0.769231</td>\n",
       "      <td>0.015809</td>\n",
       "      <td>0.016654</td>\n",
       "    </tr>\n",
       "    <tr>\n",
       "      <th>386</th>\n",
       "      <td>0.050</td>\n",
       "      <td>0.9375</td>\n",
       "      <td>0.91</td>\n",
       "      <td>0.221988</td>\n",
       "      <td>0.168297</td>\n",
       "      <td>Die Europäische Kommission bietet eine Onlinep...</td>\n",
       "      <td>0.890110</td>\n",
       "      <td>0.188773</td>\n",
       "      <td>0.016129</td>\n",
       "    </tr>\n",
       "    <tr>\n",
       "      <th>107</th>\n",
       "      <td>0.300</td>\n",
       "      <td>1.0000</td>\n",
       "      <td>0.95</td>\n",
       "      <td>0.056047</td>\n",
       "      <td>0.066646</td>\n",
       "      <td>IMPRESSUM Firmensitz: kfzteile24 GmbH\\n Am Tre...</td>\n",
       "      <td>0.934066</td>\n",
       "      <td>0.146972</td>\n",
       "      <td>0.008432</td>\n",
       "    </tr>\n",
       "    <tr>\n",
       "      <th>656</th>\n",
       "      <td>0.250</td>\n",
       "      <td>1.0000</td>\n",
       "      <td>0.96</td>\n",
       "      <td>0.213687</td>\n",
       "      <td>0.239778</td>\n",
       "      <td>Impressum Gesetzliche Anbieterkennung: Tim For...</td>\n",
       "      <td>0.956044</td>\n",
       "      <td>0.010182</td>\n",
       "      <td>0.006835</td>\n",
       "    </tr>\n",
       "  </tbody>\n",
       "</table>\n",
       "</div>"
      ],
      "text/plain": [
       "      sellerproductcount  Count of seller brands  \\\n",
       "36                 0.250                  0.9375   \n",
       "726                0.200                  1.0000   \n",
       "495                0.500                  0.8750   \n",
       "23                 0.500                  0.9375   \n",
       "322                0.150                  1.0000   \n",
       "712                1.000                  0.9375   \n",
       "882                0.020                  0.9375   \n",
       "100                0.035                  1.0000   \n",
       "1784               0.500                  1.0000   \n",
       "985                0.500                  1.0000   \n",
       "53                 0.040                  1.0000   \n",
       "1495               0.100                  1.0000   \n",
       "947                0.050                  1.0000   \n",
       "321                0.035                  1.0000   \n",
       "1058               0.050                  0.9375   \n",
       "1045               0.050                  0.9375   \n",
       "26                 0.300                  1.0000   \n",
       "386                0.050                  0.9375   \n",
       "107                0.300                  1.0000   \n",
       "656                0.250                  1.0000   \n",
       "\n",
       "      Max % of negative seller ratings - last 12 months  \\\n",
       "36                                                 0.92   \n",
       "726                                                0.91   \n",
       "495                                                0.93   \n",
       "23                                                 0.90   \n",
       "322                                                0.94   \n",
       "712                                                0.78   \n",
       "882                                                0.96   \n",
       "100                                                0.98   \n",
       "1784                                               0.98   \n",
       "985                                                0.96   \n",
       "53                                                 0.96   \n",
       "1495                                               0.95   \n",
       "947                                                0.94   \n",
       "321                                                0.94   \n",
       "1058                                               0.93   \n",
       "1045                                               0.73   \n",
       "26                                                 0.82   \n",
       "386                                                0.91   \n",
       "107                                                0.95   \n",
       "656                                                0.96   \n",
       "\n",
       "      Hero Product 1 #ratings  Hero Product 2 #ratings  \\\n",
       "36                   0.468396                 0.267347   \n",
       "726                  0.468373                 0.188189   \n",
       "495                  0.894745                 1.000000   \n",
       "23                   0.347000                 0.158090   \n",
       "322                  0.825193                 0.824690   \n",
       "712                  0.155315                 0.159532   \n",
       "882                  0.768813                 0.458350   \n",
       "100                  0.545006                 0.458350   \n",
       "1784                 0.297066                 0.070392   \n",
       "985                  0.468407                 0.188189   \n",
       "53                   0.468407                 0.146171   \n",
       "1495                 0.118069                 0.130973   \n",
       "947                  1.000000                 0.533224   \n",
       "321                  0.695220                 0.816731   \n",
       "1058                 0.545040                 0.262413   \n",
       "1045                 0.361806                 0.190805   \n",
       "26                   0.434236                 0.191794   \n",
       "386                  0.221988                 0.168297   \n",
       "107                  0.056047                 0.066646   \n",
       "656                  0.213687                 0.239778   \n",
       "\n",
       "                                          sellerdetails  \\\n",
       "36    IMPRESSUM \\n itenga GmbH\\n Am Umspannwerk 2\\n ...   \n",
       "726   trendmile GmbH\\n\\nAmtsgericht Darmstadt HR B 8...   \n",
       "495   SELECT ELITE is committed to providing each cu...   \n",
       "23    Blumenbecker Industriebedarf GmbH Sudhoferweg ...   \n",
       "322   Milovan Stojkovic\\n Mühlenstr. 16\\n 48431 Rhei...   \n",
       "712   TradeINN is committed to providing each custom...   \n",
       "882   Impressum\\n  \\n  Gesetzliche Anbieterkennung:\\...   \n",
       "100   Kessler electronic GmbH\\n Dieselstrasse 4\\n 50...   \n",
       "1784  Impressum nach TMG:\\n\\nZoreno Versandhandel Gm...   \n",
       "985   Schreibwaren Wegmann, Janos Metz e.K. Inhaber:...   \n",
       "53    Impressum der Kaleido.Shop GmbH\\nKaleido.Shop ...   \n",
       "1495  Gesetzliche Anbieterkennung:\\n TransPal GmbH\\n...   \n",
       "947   want jp - Our vision is to become the world's ...   \n",
       "321   Impressum\\n \\n Gesetzliche Anbieterkennung:\\n ...   \n",
       "1058  Impressum\\n \\n Gesetzliche Anbieterkennung:\\n ...   \n",
       "1045  Impressum\\n \\n Gesetzliche Anbieterkennung:\\n ...   \n",
       "26    Bristol Fashion is committed to providing each...   \n",
       "386   Die Europäische Kommission bietet eine Onlinep...   \n",
       "107   IMPRESSUM Firmensitz: kfzteile24 GmbH\\n Am Tre...   \n",
       "656   Impressum Gesetzliche Anbieterkennung: Tim For...   \n",
       "\n",
       "      sellerratings%positive  sellerratingstotalcount  total_score  \n",
       "36                  0.901099                 0.689845     1.000000  \n",
       "726                 0.879121                 0.970123     0.824078  \n",
       "495                 0.901099                 0.038451     0.743424  \n",
       "23                  0.868132                 0.419748     0.513599  \n",
       "322                 0.912088                 0.093516     0.477238  \n",
       "712                 0.736264                 0.301447     0.282586  \n",
       "882                 0.934066                 0.815247     0.275779  \n",
       "100                 0.967033                 0.457529     0.212033  \n",
       "1784                0.978022                 0.352224     0.197421  \n",
       "985                 0.934066                 0.048499     0.109441  \n",
       "53                  0.945055                 0.561093     0.079600  \n",
       "1495                0.923077                 0.439175     0.034361  \n",
       "947                 0.912088                 0.021168     0.028215  \n",
       "321                 0.934066                 0.026125     0.026582  \n",
       "1058                0.912088                 0.077304     0.025910  \n",
       "1045                0.681319                 0.188371     0.022764  \n",
       "26                  0.769231                 0.015809     0.016654  \n",
       "386                 0.890110                 0.188773     0.016129  \n",
       "107                 0.934066                 0.146972     0.008432  \n",
       "656                 0.956044                 0.010182     0.006835  "
      ]
     },
     "execution_count": 49,
     "metadata": {},
     "output_type": "execute_result"
    }
   ],
   "source": [
    "top20_sellers"
   ]
  },
  {
   "cell_type": "markdown",
   "id": "96e77f58",
   "metadata": {
    "execution": {
     "iopub.execute_input": "2022-07-19T22:25:13.31048Z",
     "iopub.status.busy": "2022-07-19T22:25:13.309858Z",
     "iopub.status.idle": "2022-07-19T22:25:13.322486Z",
     "shell.execute_reply": "2022-07-19T22:25:13.321549Z",
     "shell.execute_reply.started": "2022-07-19T22:25:13.310438Z"
    },
    "papermill": {
     "duration": 0.035706,
     "end_time": "2022-07-20T00:44:24.520024",
     "exception": false,
     "start_time": "2022-07-20T00:44:24.484318",
     "status": "completed"
    },
    "tags": []
   },
   "source": [
    "# 7. Extract the phone numbers and email addresses for the top 20 sellers"
   ]
  },
  {
   "cell_type": "markdown",
   "id": "e157e096",
   "metadata": {
    "execution": {
     "iopub.execute_input": "2022-07-19T22:25:13.325593Z",
     "iopub.status.busy": "2022-07-19T22:25:13.323492Z",
     "iopub.status.idle": "2022-07-19T22:25:13.335066Z",
     "shell.execute_reply": "2022-07-19T22:25:13.334006Z",
     "shell.execute_reply.started": "2022-07-19T22:25:13.325547Z"
    },
    "papermill": {
     "duration": 0.030303,
     "end_time": "2022-07-20T00:44:24.586021",
     "exception": false,
     "start_time": "2022-07-20T00:44:24.555718",
     "status": "completed"
    },
    "tags": []
   },
   "source": [
    " #### Extract the email data"
   ]
  },
  {
   "cell_type": "code",
   "execution_count": 50,
   "id": "edf7186c",
   "metadata": {
    "execution": {
     "iopub.execute_input": "2022-07-20T00:44:24.647401Z",
     "iopub.status.busy": "2022-07-20T00:44:24.646996Z",
     "iopub.status.idle": "2022-07-20T00:44:24.656532Z",
     "shell.execute_reply": "2022-07-20T00:44:24.655387Z"
    },
    "papermill": {
     "duration": 0.042756,
     "end_time": "2022-07-20T00:44:24.658874",
     "exception": false,
     "start_time": "2022-07-20T00:44:24.616118",
     "status": "completed"
    },
    "tags": []
   },
   "outputs": [
    {
     "data": {
      "text/plain": [
       "['info@itenga.de']"
      ]
     },
     "execution_count": 50,
     "metadata": {},
     "output_type": "execute_result"
    }
   ],
   "source": [
    "re.findall(r'\\S+@\\S+', top20_sellers['sellerdetails'][36])"
   ]
  },
  {
   "cell_type": "code",
   "execution_count": 51,
   "id": "83bdb3ee",
   "metadata": {
    "execution": {
     "iopub.execute_input": "2022-07-20T00:44:24.720591Z",
     "iopub.status.busy": "2022-07-20T00:44:24.720063Z",
     "iopub.status.idle": "2022-07-20T00:44:24.727582Z",
     "shell.execute_reply": "2022-07-20T00:44:24.726492Z"
    },
    "papermill": {
     "duration": 0.041347,
     "end_time": "2022-07-20T00:44:24.730013",
     "exception": false,
     "start_time": "2022-07-20T00:44:24.688666",
     "status": "completed"
    },
    "tags": []
   },
   "outputs": [],
   "source": [
    "top20_sellers['email'] = top20_sellers['sellerdetails'].apply(lambda x: ''.join(re.findall(r'\\S+@\\S+', x)))"
   ]
  },
  {
   "cell_type": "code",
   "execution_count": 52,
   "id": "0c1b1582",
   "metadata": {
    "execution": {
     "iopub.execute_input": "2022-07-20T00:44:24.790944Z",
     "iopub.status.busy": "2022-07-20T00:44:24.790555Z",
     "iopub.status.idle": "2022-07-20T00:44:24.816123Z",
     "shell.execute_reply": "2022-07-20T00:44:24.815246Z"
    },
    "papermill": {
     "duration": 0.058665,
     "end_time": "2022-07-20T00:44:24.818102",
     "exception": false,
     "start_time": "2022-07-20T00:44:24.759437",
     "status": "completed"
    },
    "tags": []
   },
   "outputs": [
    {
     "data": {
      "text/html": [
       "<div>\n",
       "<style scoped>\n",
       "    .dataframe tbody tr th:only-of-type {\n",
       "        vertical-align: middle;\n",
       "    }\n",
       "\n",
       "    .dataframe tbody tr th {\n",
       "        vertical-align: top;\n",
       "    }\n",
       "\n",
       "    .dataframe thead th {\n",
       "        text-align: right;\n",
       "    }\n",
       "</style>\n",
       "<table border=\"1\" class=\"dataframe\">\n",
       "  <thead>\n",
       "    <tr style=\"text-align: right;\">\n",
       "      <th></th>\n",
       "      <th>sellerproductcount</th>\n",
       "      <th>Count of seller brands</th>\n",
       "      <th>Max % of negative seller ratings - last 12 months</th>\n",
       "      <th>Hero Product 1 #ratings</th>\n",
       "      <th>Hero Product 2 #ratings</th>\n",
       "      <th>sellerdetails</th>\n",
       "      <th>sellerratings%positive</th>\n",
       "      <th>sellerratingstotalcount</th>\n",
       "      <th>total_score</th>\n",
       "      <th>email</th>\n",
       "    </tr>\n",
       "  </thead>\n",
       "  <tbody>\n",
       "    <tr>\n",
       "      <th>36</th>\n",
       "      <td>0.250</td>\n",
       "      <td>0.9375</td>\n",
       "      <td>0.92</td>\n",
       "      <td>0.468396</td>\n",
       "      <td>0.267347</td>\n",
       "      <td>IMPRESSUM \\n itenga GmbH\\n Am Umspannwerk 2\\n ...</td>\n",
       "      <td>0.901099</td>\n",
       "      <td>0.689845</td>\n",
       "      <td>1.000000</td>\n",
       "      <td>info@itenga.de</td>\n",
       "    </tr>\n",
       "    <tr>\n",
       "      <th>726</th>\n",
       "      <td>0.200</td>\n",
       "      <td>1.0000</td>\n",
       "      <td>0.91</td>\n",
       "      <td>0.468373</td>\n",
       "      <td>0.188189</td>\n",
       "      <td>trendmile GmbH\\n\\nAmtsgericht Darmstadt HR B 8...</td>\n",
       "      <td>0.879121</td>\n",
       "      <td>0.970123</td>\n",
       "      <td>0.824078</td>\n",
       "      <td>support@trendmile.com</td>\n",
       "    </tr>\n",
       "    <tr>\n",
       "      <th>495</th>\n",
       "      <td>0.500</td>\n",
       "      <td>0.8750</td>\n",
       "      <td>0.93</td>\n",
       "      <td>0.894745</td>\n",
       "      <td>1.000000</td>\n",
       "      <td>SELECT ELITE is committed to providing each cu...</td>\n",
       "      <td>0.901099</td>\n",
       "      <td>0.038451</td>\n",
       "      <td>0.743424</td>\n",
       "      <td></td>\n",
       "    </tr>\n",
       "    <tr>\n",
       "      <th>23</th>\n",
       "      <td>0.500</td>\n",
       "      <td>0.9375</td>\n",
       "      <td>0.90</td>\n",
       "      <td>0.347000</td>\n",
       "      <td>0.158090</td>\n",
       "      <td>Blumenbecker Industriebedarf GmbH Sudhoferweg ...</td>\n",
       "      <td>0.868132</td>\n",
       "      <td>0.419748</td>\n",
       "      <td>0.513599</td>\n",
       "      <td>bib.beckum@blumenbecker.com</td>\n",
       "    </tr>\n",
       "    <tr>\n",
       "      <th>322</th>\n",
       "      <td>0.150</td>\n",
       "      <td>1.0000</td>\n",
       "      <td>0.94</td>\n",
       "      <td>0.825193</td>\n",
       "      <td>0.824690</td>\n",
       "      <td>Milovan Stojkovic\\n Mühlenstr. 16\\n 48431 Rhei...</td>\n",
       "      <td>0.912088</td>\n",
       "      <td>0.093516</td>\n",
       "      <td>0.477238</td>\n",
       "      <td>info@limuno.com</td>\n",
       "    </tr>\n",
       "    <tr>\n",
       "      <th>712</th>\n",
       "      <td>1.000</td>\n",
       "      <td>0.9375</td>\n",
       "      <td>0.78</td>\n",
       "      <td>0.155315</td>\n",
       "      <td>0.159532</td>\n",
       "      <td>TradeINN is committed to providing each custom...</td>\n",
       "      <td>0.736264</td>\n",
       "      <td>0.301447</td>\n",
       "      <td>0.282586</td>\n",
       "      <td></td>\n",
       "    </tr>\n",
       "    <tr>\n",
       "      <th>882</th>\n",
       "      <td>0.020</td>\n",
       "      <td>0.9375</td>\n",
       "      <td>0.96</td>\n",
       "      <td>0.768813</td>\n",
       "      <td>0.458350</td>\n",
       "      <td>Impressum\\n  \\n  Gesetzliche Anbieterkennung:\\...</td>\n",
       "      <td>0.934066</td>\n",
       "      <td>0.815247</td>\n",
       "      <td>0.275779</td>\n",
       "      <td>service@vitamed-quinger.comDatenschutz@vitamed...</td>\n",
       "    </tr>\n",
       "    <tr>\n",
       "      <th>100</th>\n",
       "      <td>0.035</td>\n",
       "      <td>1.0000</td>\n",
       "      <td>0.98</td>\n",
       "      <td>0.545006</td>\n",
       "      <td>0.458350</td>\n",
       "      <td>Kessler electronic GmbH\\n Dieselstrasse 4\\n 50...</td>\n",
       "      <td>0.967033</td>\n",
       "      <td>0.457529</td>\n",
       "      <td>0.212033</td>\n",
       "      <td>info@kessler-electronic.de</td>\n",
       "    </tr>\n",
       "    <tr>\n",
       "      <th>1784</th>\n",
       "      <td>0.500</td>\n",
       "      <td>1.0000</td>\n",
       "      <td>0.98</td>\n",
       "      <td>0.297066</td>\n",
       "      <td>0.070392</td>\n",
       "      <td>Impressum nach TMG:\\n\\nZoreno Versandhandel Gm...</td>\n",
       "      <td>0.978022</td>\n",
       "      <td>0.352224</td>\n",
       "      <td>0.197421</td>\n",
       "      <td>ade.support@zoreno.com</td>\n",
       "    </tr>\n",
       "    <tr>\n",
       "      <th>985</th>\n",
       "      <td>0.500</td>\n",
       "      <td>1.0000</td>\n",
       "      <td>0.96</td>\n",
       "      <td>0.468407</td>\n",
       "      <td>0.188189</td>\n",
       "      <td>Schreibwaren Wegmann, Janos Metz e.K. Inhaber:...</td>\n",
       "      <td>0.934066</td>\n",
       "      <td>0.048499</td>\n",
       "      <td>0.109441</td>\n",
       "      <td>info@schreibwaren-wegmann.de</td>\n",
       "    </tr>\n",
       "    <tr>\n",
       "      <th>53</th>\n",
       "      <td>0.040</td>\n",
       "      <td>1.0000</td>\n",
       "      <td>0.96</td>\n",
       "      <td>0.468407</td>\n",
       "      <td>0.146171</td>\n",
       "      <td>Impressum der Kaleido.Shop GmbH\\nKaleido.Shop ...</td>\n",
       "      <td>0.945055</td>\n",
       "      <td>0.561093</td>\n",
       "      <td>0.079600</td>\n",
       "      <td>info@kaleidoshop.de</td>\n",
       "    </tr>\n",
       "    <tr>\n",
       "      <th>1495</th>\n",
       "      <td>0.100</td>\n",
       "      <td>1.0000</td>\n",
       "      <td>0.95</td>\n",
       "      <td>0.118069</td>\n",
       "      <td>0.130973</td>\n",
       "      <td>Gesetzliche Anbieterkennung:\\n TransPal GmbH\\n...</td>\n",
       "      <td>0.923077</td>\n",
       "      <td>0.439175</td>\n",
       "      <td>0.034361</td>\n",
       "      <td>support@yovivo.de</td>\n",
       "    </tr>\n",
       "    <tr>\n",
       "      <th>947</th>\n",
       "      <td>0.050</td>\n",
       "      <td>1.0000</td>\n",
       "      <td>0.94</td>\n",
       "      <td>1.000000</td>\n",
       "      <td>0.533224</td>\n",
       "      <td>want jp - Our vision is to become the world's ...</td>\n",
       "      <td>0.912088</td>\n",
       "      <td>0.021168</td>\n",
       "      <td>0.028215</td>\n",
       "      <td></td>\n",
       "    </tr>\n",
       "    <tr>\n",
       "      <th>321</th>\n",
       "      <td>0.035</td>\n",
       "      <td>1.0000</td>\n",
       "      <td>0.94</td>\n",
       "      <td>0.695220</td>\n",
       "      <td>0.816731</td>\n",
       "      <td>Impressum\\n \\n Gesetzliche Anbieterkennung:\\n ...</td>\n",
       "      <td>0.934066</td>\n",
       "      <td>0.026125</td>\n",
       "      <td>0.026582</td>\n",
       "      <td>shop@varia-store.com</td>\n",
       "    </tr>\n",
       "    <tr>\n",
       "      <th>1058</th>\n",
       "      <td>0.050</td>\n",
       "      <td>0.9375</td>\n",
       "      <td>0.93</td>\n",
       "      <td>0.545040</td>\n",
       "      <td>0.262413</td>\n",
       "      <td>Impressum\\n \\n Gesetzliche Anbieterkennung:\\n ...</td>\n",
       "      <td>0.912088</td>\n",
       "      <td>0.077304</td>\n",
       "      <td>0.025910</td>\n",
       "      <td>amazon@wtnord.de</td>\n",
       "    </tr>\n",
       "    <tr>\n",
       "      <th>1045</th>\n",
       "      <td>0.050</td>\n",
       "      <td>0.9375</td>\n",
       "      <td>0.73</td>\n",
       "      <td>0.361806</td>\n",
       "      <td>0.190805</td>\n",
       "      <td>Impressum\\n \\n Gesetzliche Anbieterkennung:\\n ...</td>\n",
       "      <td>0.681319</td>\n",
       "      <td>0.188371</td>\n",
       "      <td>0.022764</td>\n",
       "      <td>amazon@wohn-idee24.de</td>\n",
       "    </tr>\n",
       "    <tr>\n",
       "      <th>26</th>\n",
       "      <td>0.300</td>\n",
       "      <td>1.0000</td>\n",
       "      <td>0.82</td>\n",
       "      <td>0.434236</td>\n",
       "      <td>0.191794</td>\n",
       "      <td>Bristol Fashion is committed to providing each...</td>\n",
       "      <td>0.769231</td>\n",
       "      <td>0.015809</td>\n",
       "      <td>0.016654</td>\n",
       "      <td></td>\n",
       "    </tr>\n",
       "    <tr>\n",
       "      <th>386</th>\n",
       "      <td>0.050</td>\n",
       "      <td>0.9375</td>\n",
       "      <td>0.91</td>\n",
       "      <td>0.221988</td>\n",
       "      <td>0.168297</td>\n",
       "      <td>Die Europäische Kommission bietet eine Onlinep...</td>\n",
       "      <td>0.890110</td>\n",
       "      <td>0.188773</td>\n",
       "      <td>0.016129</td>\n",
       "      <td></td>\n",
       "    </tr>\n",
       "    <tr>\n",
       "      <th>107</th>\n",
       "      <td>0.300</td>\n",
       "      <td>1.0000</td>\n",
       "      <td>0.95</td>\n",
       "      <td>0.056047</td>\n",
       "      <td>0.066646</td>\n",
       "      <td>IMPRESSUM Firmensitz: kfzteile24 GmbH\\n Am Tre...</td>\n",
       "      <td>0.934066</td>\n",
       "      <td>0.146972</td>\n",
       "      <td>0.008432</td>\n",
       "      <td></td>\n",
       "    </tr>\n",
       "    <tr>\n",
       "      <th>656</th>\n",
       "      <td>0.250</td>\n",
       "      <td>1.0000</td>\n",
       "      <td>0.96</td>\n",
       "      <td>0.213687</td>\n",
       "      <td>0.239778</td>\n",
       "      <td>Impressum Gesetzliche Anbieterkennung: Tim For...</td>\n",
       "      <td>0.956044</td>\n",
       "      <td>0.010182</td>\n",
       "      <td>0.006835</td>\n",
       "      <td>amazon@tmf-racing.com</td>\n",
       "    </tr>\n",
       "  </tbody>\n",
       "</table>\n",
       "</div>"
      ],
      "text/plain": [
       "      sellerproductcount  Count of seller brands  \\\n",
       "36                 0.250                  0.9375   \n",
       "726                0.200                  1.0000   \n",
       "495                0.500                  0.8750   \n",
       "23                 0.500                  0.9375   \n",
       "322                0.150                  1.0000   \n",
       "712                1.000                  0.9375   \n",
       "882                0.020                  0.9375   \n",
       "100                0.035                  1.0000   \n",
       "1784               0.500                  1.0000   \n",
       "985                0.500                  1.0000   \n",
       "53                 0.040                  1.0000   \n",
       "1495               0.100                  1.0000   \n",
       "947                0.050                  1.0000   \n",
       "321                0.035                  1.0000   \n",
       "1058               0.050                  0.9375   \n",
       "1045               0.050                  0.9375   \n",
       "26                 0.300                  1.0000   \n",
       "386                0.050                  0.9375   \n",
       "107                0.300                  1.0000   \n",
       "656                0.250                  1.0000   \n",
       "\n",
       "      Max % of negative seller ratings - last 12 months  \\\n",
       "36                                                 0.92   \n",
       "726                                                0.91   \n",
       "495                                                0.93   \n",
       "23                                                 0.90   \n",
       "322                                                0.94   \n",
       "712                                                0.78   \n",
       "882                                                0.96   \n",
       "100                                                0.98   \n",
       "1784                                               0.98   \n",
       "985                                                0.96   \n",
       "53                                                 0.96   \n",
       "1495                                               0.95   \n",
       "947                                                0.94   \n",
       "321                                                0.94   \n",
       "1058                                               0.93   \n",
       "1045                                               0.73   \n",
       "26                                                 0.82   \n",
       "386                                                0.91   \n",
       "107                                                0.95   \n",
       "656                                                0.96   \n",
       "\n",
       "      Hero Product 1 #ratings  Hero Product 2 #ratings  \\\n",
       "36                   0.468396                 0.267347   \n",
       "726                  0.468373                 0.188189   \n",
       "495                  0.894745                 1.000000   \n",
       "23                   0.347000                 0.158090   \n",
       "322                  0.825193                 0.824690   \n",
       "712                  0.155315                 0.159532   \n",
       "882                  0.768813                 0.458350   \n",
       "100                  0.545006                 0.458350   \n",
       "1784                 0.297066                 0.070392   \n",
       "985                  0.468407                 0.188189   \n",
       "53                   0.468407                 0.146171   \n",
       "1495                 0.118069                 0.130973   \n",
       "947                  1.000000                 0.533224   \n",
       "321                  0.695220                 0.816731   \n",
       "1058                 0.545040                 0.262413   \n",
       "1045                 0.361806                 0.190805   \n",
       "26                   0.434236                 0.191794   \n",
       "386                  0.221988                 0.168297   \n",
       "107                  0.056047                 0.066646   \n",
       "656                  0.213687                 0.239778   \n",
       "\n",
       "                                          sellerdetails  \\\n",
       "36    IMPRESSUM \\n itenga GmbH\\n Am Umspannwerk 2\\n ...   \n",
       "726   trendmile GmbH\\n\\nAmtsgericht Darmstadt HR B 8...   \n",
       "495   SELECT ELITE is committed to providing each cu...   \n",
       "23    Blumenbecker Industriebedarf GmbH Sudhoferweg ...   \n",
       "322   Milovan Stojkovic\\n Mühlenstr. 16\\n 48431 Rhei...   \n",
       "712   TradeINN is committed to providing each custom...   \n",
       "882   Impressum\\n  \\n  Gesetzliche Anbieterkennung:\\...   \n",
       "100   Kessler electronic GmbH\\n Dieselstrasse 4\\n 50...   \n",
       "1784  Impressum nach TMG:\\n\\nZoreno Versandhandel Gm...   \n",
       "985   Schreibwaren Wegmann, Janos Metz e.K. Inhaber:...   \n",
       "53    Impressum der Kaleido.Shop GmbH\\nKaleido.Shop ...   \n",
       "1495  Gesetzliche Anbieterkennung:\\n TransPal GmbH\\n...   \n",
       "947   want jp - Our vision is to become the world's ...   \n",
       "321   Impressum\\n \\n Gesetzliche Anbieterkennung:\\n ...   \n",
       "1058  Impressum\\n \\n Gesetzliche Anbieterkennung:\\n ...   \n",
       "1045  Impressum\\n \\n Gesetzliche Anbieterkennung:\\n ...   \n",
       "26    Bristol Fashion is committed to providing each...   \n",
       "386   Die Europäische Kommission bietet eine Onlinep...   \n",
       "107   IMPRESSUM Firmensitz: kfzteile24 GmbH\\n Am Tre...   \n",
       "656   Impressum Gesetzliche Anbieterkennung: Tim For...   \n",
       "\n",
       "      sellerratings%positive  sellerratingstotalcount  total_score  \\\n",
       "36                  0.901099                 0.689845     1.000000   \n",
       "726                 0.879121                 0.970123     0.824078   \n",
       "495                 0.901099                 0.038451     0.743424   \n",
       "23                  0.868132                 0.419748     0.513599   \n",
       "322                 0.912088                 0.093516     0.477238   \n",
       "712                 0.736264                 0.301447     0.282586   \n",
       "882                 0.934066                 0.815247     0.275779   \n",
       "100                 0.967033                 0.457529     0.212033   \n",
       "1784                0.978022                 0.352224     0.197421   \n",
       "985                 0.934066                 0.048499     0.109441   \n",
       "53                  0.945055                 0.561093     0.079600   \n",
       "1495                0.923077                 0.439175     0.034361   \n",
       "947                 0.912088                 0.021168     0.028215   \n",
       "321                 0.934066                 0.026125     0.026582   \n",
       "1058                0.912088                 0.077304     0.025910   \n",
       "1045                0.681319                 0.188371     0.022764   \n",
       "26                  0.769231                 0.015809     0.016654   \n",
       "386                 0.890110                 0.188773     0.016129   \n",
       "107                 0.934066                 0.146972     0.008432   \n",
       "656                 0.956044                 0.010182     0.006835   \n",
       "\n",
       "                                                  email  \n",
       "36                                       info@itenga.de  \n",
       "726                               support@trendmile.com  \n",
       "495                                                      \n",
       "23                          bib.beckum@blumenbecker.com  \n",
       "322                                     info@limuno.com  \n",
       "712                                                      \n",
       "882   service@vitamed-quinger.comDatenschutz@vitamed...  \n",
       "100                          info@kessler-electronic.de  \n",
       "1784                             ade.support@zoreno.com  \n",
       "985                        info@schreibwaren-wegmann.de  \n",
       "53                                  info@kaleidoshop.de  \n",
       "1495                                  support@yovivo.de  \n",
       "947                                                      \n",
       "321                                shop@varia-store.com  \n",
       "1058                                   amazon@wtnord.de  \n",
       "1045                              amazon@wohn-idee24.de  \n",
       "26                                                       \n",
       "386                                                      \n",
       "107                                                      \n",
       "656                               amazon@tmf-racing.com  "
      ]
     },
     "execution_count": 52,
     "metadata": {},
     "output_type": "execute_result"
    }
   ],
   "source": [
    "top20_sellers"
   ]
  },
  {
   "cell_type": "markdown",
   "id": "296efc58",
   "metadata": {
    "execution": {
     "iopub.execute_input": "2022-07-19T22:25:13.39397Z",
     "iopub.status.busy": "2022-07-19T22:25:13.393108Z",
     "iopub.status.idle": "2022-07-19T22:25:13.39816Z",
     "shell.execute_reply": "2022-07-19T22:25:13.397087Z",
     "shell.execute_reply.started": "2022-07-19T22:25:13.393927Z"
    },
    "papermill": {
     "duration": 0.053262,
     "end_time": "2022-07-20T00:44:24.901615",
     "exception": false,
     "start_time": "2022-07-20T00:44:24.848353",
     "status": "completed"
    },
    "tags": []
   },
   "source": [
    "#### Extract the telephone data"
   ]
  },
  {
   "cell_type": "code",
   "execution_count": 53,
   "id": "9cca5157",
   "metadata": {
    "execution": {
     "iopub.execute_input": "2022-07-20T00:44:24.965854Z",
     "iopub.status.busy": "2022-07-20T00:44:24.965439Z",
     "iopub.status.idle": "2022-07-20T00:44:24.973223Z",
     "shell.execute_reply": "2022-07-20T00:44:24.971958Z"
    },
    "papermill": {
     "duration": 0.042221,
     "end_time": "2022-07-20T00:44:24.975545",
     "exception": false,
     "start_time": "2022-07-20T00:44:24.933324",
     "status": "completed"
    },
    "tags": []
   },
   "outputs": [
    {
     "data": {
      "text/plain": [
       "'IMPRESSUM \\n itenga GmbH\\n Am Umspannwerk 2\\n 66557 Illingen\\n Deutschland Tel: 06825 / 89697-0 Fax: 06825 / 89697-20 E-Mail: info@itenga.de Geschäftsführer: Thomas Meiser Registergericht: Amtsgericht Saarbrücken\\n Registernummer: HRB 17443 Umsatzsteuer-Identifikationsnummer gemäß § 27 a Umsatzsteuergesetz: DE815026868 WEEE-Registrationsnummer: DE 56344043 \\n Plattform der EU-Kommission zur Online-Streitbeilegung: ec.europa.eu/consumers/odr Wir sind zur Teilnahme an einem Streitbeilegungsverfahren vor einer...'"
      ]
     },
     "execution_count": 53,
     "metadata": {},
     "output_type": "execute_result"
    }
   ],
   "source": [
    "top20_sellers['sellerdetails'][36]"
   ]
  },
  {
   "cell_type": "code",
   "execution_count": 54,
   "id": "cfb6e0da",
   "metadata": {
    "execution": {
     "iopub.execute_input": "2022-07-20T00:44:25.038223Z",
     "iopub.status.busy": "2022-07-20T00:44:25.037854Z",
     "iopub.status.idle": "2022-07-20T00:44:25.044792Z",
     "shell.execute_reply": "2022-07-20T00:44:25.043908Z"
    },
    "papermill": {
     "duration": 0.04083,
     "end_time": "2022-07-20T00:44:25.046848",
     "exception": false,
     "start_time": "2022-07-20T00:44:25.006018",
     "status": "completed"
    },
    "tags": []
   },
   "outputs": [
    {
     "data": {
      "text/plain": [
       "['Tel: 06825 / 89697-0 Fax: 06825 / 89697-20 E-Mail: info@itenga.de Geschäftsführer: Thomas Meiser Registergericht: Amtsgericht Saarbrücken']"
      ]
     },
     "execution_count": 54,
     "metadata": {},
     "output_type": "execute_result"
    }
   ],
   "source": [
    "re.findall(r'Tel.+', top20_sellers['sellerdetails'][36])"
   ]
  },
  {
   "cell_type": "code",
   "execution_count": 55,
   "id": "48d7b3ee",
   "metadata": {
    "execution": {
     "iopub.execute_input": "2022-07-20T00:44:25.109103Z",
     "iopub.status.busy": "2022-07-20T00:44:25.108730Z",
     "iopub.status.idle": "2022-07-20T00:44:25.115701Z",
     "shell.execute_reply": "2022-07-20T00:44:25.114707Z"
    },
    "papermill": {
     "duration": 0.041195,
     "end_time": "2022-07-20T00:44:25.118230",
     "exception": false,
     "start_time": "2022-07-20T00:44:25.077035",
     "status": "completed"
    },
    "tags": []
   },
   "outputs": [],
   "source": [
    "top20_sellers['telephone'] = top20_sellers['sellerdetails'].apply(lambda x: ' '.join(re.findall(r'Tel.+', x)))"
   ]
  },
  {
   "cell_type": "code",
   "execution_count": 56,
   "id": "8090b1c5",
   "metadata": {
    "execution": {
     "iopub.execute_input": "2022-07-20T00:44:25.181349Z",
     "iopub.status.busy": "2022-07-20T00:44:25.180947Z",
     "iopub.status.idle": "2022-07-20T00:44:25.207973Z",
     "shell.execute_reply": "2022-07-20T00:44:25.206608Z"
    },
    "papermill": {
     "duration": 0.062001,
     "end_time": "2022-07-20T00:44:25.210438",
     "exception": false,
     "start_time": "2022-07-20T00:44:25.148437",
     "status": "completed"
    },
    "tags": []
   },
   "outputs": [
    {
     "data": {
      "text/html": [
       "<div>\n",
       "<style scoped>\n",
       "    .dataframe tbody tr th:only-of-type {\n",
       "        vertical-align: middle;\n",
       "    }\n",
       "\n",
       "    .dataframe tbody tr th {\n",
       "        vertical-align: top;\n",
       "    }\n",
       "\n",
       "    .dataframe thead th {\n",
       "        text-align: right;\n",
       "    }\n",
       "</style>\n",
       "<table border=\"1\" class=\"dataframe\">\n",
       "  <thead>\n",
       "    <tr style=\"text-align: right;\">\n",
       "      <th></th>\n",
       "      <th>sellerproductcount</th>\n",
       "      <th>Count of seller brands</th>\n",
       "      <th>Max % of negative seller ratings - last 12 months</th>\n",
       "      <th>Hero Product 1 #ratings</th>\n",
       "      <th>Hero Product 2 #ratings</th>\n",
       "      <th>sellerdetails</th>\n",
       "      <th>sellerratings%positive</th>\n",
       "      <th>sellerratingstotalcount</th>\n",
       "      <th>total_score</th>\n",
       "      <th>email</th>\n",
       "      <th>telephone</th>\n",
       "    </tr>\n",
       "  </thead>\n",
       "  <tbody>\n",
       "    <tr>\n",
       "      <th>36</th>\n",
       "      <td>0.250</td>\n",
       "      <td>0.9375</td>\n",
       "      <td>0.92</td>\n",
       "      <td>0.468396</td>\n",
       "      <td>0.267347</td>\n",
       "      <td>IMPRESSUM \\n itenga GmbH\\n Am Umspannwerk 2\\n ...</td>\n",
       "      <td>0.901099</td>\n",
       "      <td>0.689845</td>\n",
       "      <td>1.000000</td>\n",
       "      <td>info@itenga.de</td>\n",
       "      <td>Tel: 06825 / 89697-0 Fax: 06825 / 89697-20 E-M...</td>\n",
       "    </tr>\n",
       "    <tr>\n",
       "      <th>726</th>\n",
       "      <td>0.200</td>\n",
       "      <td>1.0000</td>\n",
       "      <td>0.91</td>\n",
       "      <td>0.468373</td>\n",
       "      <td>0.188189</td>\n",
       "      <td>trendmile GmbH\\n\\nAmtsgericht Darmstadt HR B 8...</td>\n",
       "      <td>0.879121</td>\n",
       "      <td>0.970123</td>\n",
       "      <td>0.824078</td>\n",
       "      <td>support@trendmile.com</td>\n",
       "      <td>Telefon: 06206 – 951326 - 0 Telefax: 06206 – 9...</td>\n",
       "    </tr>\n",
       "    <tr>\n",
       "      <th>495</th>\n",
       "      <td>0.500</td>\n",
       "      <td>0.8750</td>\n",
       "      <td>0.93</td>\n",
       "      <td>0.894745</td>\n",
       "      <td>1.000000</td>\n",
       "      <td>SELECT ELITE is committed to providing each cu...</td>\n",
       "      <td>0.901099</td>\n",
       "      <td>0.038451</td>\n",
       "      <td>0.743424</td>\n",
       "      <td></td>\n",
       "      <td></td>\n",
       "    </tr>\n",
       "    <tr>\n",
       "      <th>23</th>\n",
       "      <td>0.500</td>\n",
       "      <td>0.9375</td>\n",
       "      <td>0.90</td>\n",
       "      <td>0.347000</td>\n",
       "      <td>0.158090</td>\n",
       "      <td>Blumenbecker Industriebedarf GmbH Sudhoferweg ...</td>\n",
       "      <td>0.868132</td>\n",
       "      <td>0.419748</td>\n",
       "      <td>0.513599</td>\n",
       "      <td>bib.beckum@blumenbecker.com</td>\n",
       "      <td>Telefon: 02521/8406-0 E-Mail: bib.beckum@blume...</td>\n",
       "    </tr>\n",
       "    <tr>\n",
       "      <th>322</th>\n",
       "      <td>0.150</td>\n",
       "      <td>1.0000</td>\n",
       "      <td>0.94</td>\n",
       "      <td>0.825193</td>\n",
       "      <td>0.824690</td>\n",
       "      <td>Milovan Stojkovic\\n Mühlenstr. 16\\n 48431 Rhei...</td>\n",
       "      <td>0.912088</td>\n",
       "      <td>0.093516</td>\n",
       "      <td>0.477238</td>\n",
       "      <td>info@limuno.com</td>\n",
       "      <td>Tel.: +49 59 71/ 8 00 38 03</td>\n",
       "    </tr>\n",
       "    <tr>\n",
       "      <th>712</th>\n",
       "      <td>1.000</td>\n",
       "      <td>0.9375</td>\n",
       "      <td>0.78</td>\n",
       "      <td>0.155315</td>\n",
       "      <td>0.159532</td>\n",
       "      <td>TradeINN is committed to providing each custom...</td>\n",
       "      <td>0.736264</td>\n",
       "      <td>0.301447</td>\n",
       "      <td>0.282586</td>\n",
       "      <td></td>\n",
       "      <td></td>\n",
       "    </tr>\n",
       "    <tr>\n",
       "      <th>882</th>\n",
       "      <td>0.020</td>\n",
       "      <td>0.9375</td>\n",
       "      <td>0.96</td>\n",
       "      <td>0.768813</td>\n",
       "      <td>0.458350</td>\n",
       "      <td>Impressum\\n  \\n  Gesetzliche Anbieterkennung:\\...</td>\n",
       "      <td>0.934066</td>\n",
       "      <td>0.815247</td>\n",
       "      <td>0.275779</td>\n",
       "      <td>service@vitamed-quinger.comDatenschutz@vitamed...</td>\n",
       "      <td>Telefon: +4962369329325</td>\n",
       "    </tr>\n",
       "    <tr>\n",
       "      <th>100</th>\n",
       "      <td>0.035</td>\n",
       "      <td>1.0000</td>\n",
       "      <td>0.98</td>\n",
       "      <td>0.545006</td>\n",
       "      <td>0.458350</td>\n",
       "      <td>Kessler electronic GmbH\\n Dieselstrasse 4\\n 50...</td>\n",
       "      <td>0.967033</td>\n",
       "      <td>0.457529</td>\n",
       "      <td>0.212033</td>\n",
       "      <td>info@kessler-electronic.de</td>\n",
       "      <td>Telefon: + 49 (0)2273 / 991-9325 (werktags 9:0...</td>\n",
       "    </tr>\n",
       "    <tr>\n",
       "      <th>1784</th>\n",
       "      <td>0.500</td>\n",
       "      <td>1.0000</td>\n",
       "      <td>0.98</td>\n",
       "      <td>0.297066</td>\n",
       "      <td>0.070392</td>\n",
       "      <td>Impressum nach TMG:\\n\\nZoreno Versandhandel Gm...</td>\n",
       "      <td>0.978022</td>\n",
       "      <td>0.352224</td>\n",
       "      <td>0.197421</td>\n",
       "      <td>ade.support@zoreno.com</td>\n",
       "      <td></td>\n",
       "    </tr>\n",
       "    <tr>\n",
       "      <th>985</th>\n",
       "      <td>0.500</td>\n",
       "      <td>1.0000</td>\n",
       "      <td>0.96</td>\n",
       "      <td>0.468407</td>\n",
       "      <td>0.188189</td>\n",
       "      <td>Schreibwaren Wegmann, Janos Metz e.K. Inhaber:...</td>\n",
       "      <td>0.934066</td>\n",
       "      <td>0.048499</td>\n",
       "      <td>0.109441</td>\n",
       "      <td>info@schreibwaren-wegmann.de</td>\n",
       "      <td>Tel.: 09922609490 Fax: 09922609491 E-Mail: inf...</td>\n",
       "    </tr>\n",
       "    <tr>\n",
       "      <th>53</th>\n",
       "      <td>0.040</td>\n",
       "      <td>1.0000</td>\n",
       "      <td>0.96</td>\n",
       "      <td>0.468407</td>\n",
       "      <td>0.146171</td>\n",
       "      <td>Impressum der Kaleido.Shop GmbH\\nKaleido.Shop ...</td>\n",
       "      <td>0.945055</td>\n",
       "      <td>0.561093</td>\n",
       "      <td>0.079600</td>\n",
       "      <td>info@kaleidoshop.de</td>\n",
       "      <td>Telefon: 02951/9849790 (Montag bis Freitag 9:0...</td>\n",
       "    </tr>\n",
       "    <tr>\n",
       "      <th>1495</th>\n",
       "      <td>0.100</td>\n",
       "      <td>1.0000</td>\n",
       "      <td>0.95</td>\n",
       "      <td>0.118069</td>\n",
       "      <td>0.130973</td>\n",
       "      <td>Gesetzliche Anbieterkennung:\\n TransPal GmbH\\n...</td>\n",
       "      <td>0.923077</td>\n",
       "      <td>0.439175</td>\n",
       "      <td>0.034361</td>\n",
       "      <td>support@yovivo.de</td>\n",
       "      <td>Telefon: +49 30 436 07 330 (Mo. bis Fr. von 9 ...</td>\n",
       "    </tr>\n",
       "    <tr>\n",
       "      <th>947</th>\n",
       "      <td>0.050</td>\n",
       "      <td>1.0000</td>\n",
       "      <td>0.94</td>\n",
       "      <td>1.000000</td>\n",
       "      <td>0.533224</td>\n",
       "      <td>want jp - Our vision is to become the world's ...</td>\n",
       "      <td>0.912088</td>\n",
       "      <td>0.021168</td>\n",
       "      <td>0.028215</td>\n",
       "      <td></td>\n",
       "      <td></td>\n",
       "    </tr>\n",
       "    <tr>\n",
       "      <th>321</th>\n",
       "      <td>0.035</td>\n",
       "      <td>1.0000</td>\n",
       "      <td>0.94</td>\n",
       "      <td>0.695220</td>\n",
       "      <td>0.816731</td>\n",
       "      <td>Impressum\\n \\n Gesetzliche Anbieterkennung:\\n ...</td>\n",
       "      <td>0.934066</td>\n",
       "      <td>0.026125</td>\n",
       "      <td>0.026582</td>\n",
       "      <td>shop@varia-store.com</td>\n",
       "      <td>Telefon: 0371 400 7682 Telefax: 0371 400 7685</td>\n",
       "    </tr>\n",
       "    <tr>\n",
       "      <th>1058</th>\n",
       "      <td>0.050</td>\n",
       "      <td>0.9375</td>\n",
       "      <td>0.93</td>\n",
       "      <td>0.545040</td>\n",
       "      <td>0.262413</td>\n",
       "      <td>Impressum\\n \\n Gesetzliche Anbieterkennung:\\n ...</td>\n",
       "      <td>0.912088</td>\n",
       "      <td>0.077304</td>\n",
       "      <td>0.025910</td>\n",
       "      <td>amazon@wtnord.de</td>\n",
       "      <td>Telefon: 04942203673 Telefax: 04942203674</td>\n",
       "    </tr>\n",
       "    <tr>\n",
       "      <th>1045</th>\n",
       "      <td>0.050</td>\n",
       "      <td>0.9375</td>\n",
       "      <td>0.73</td>\n",
       "      <td>0.361806</td>\n",
       "      <td>0.190805</td>\n",
       "      <td>Impressum\\n \\n Gesetzliche Anbieterkennung:\\n ...</td>\n",
       "      <td>0.681319</td>\n",
       "      <td>0.188371</td>\n",
       "      <td>0.022764</td>\n",
       "      <td>amazon@wohn-idee24.de</td>\n",
       "      <td>Telefon: 02431 9569550</td>\n",
       "    </tr>\n",
       "    <tr>\n",
       "      <th>26</th>\n",
       "      <td>0.300</td>\n",
       "      <td>1.0000</td>\n",
       "      <td>0.82</td>\n",
       "      <td>0.434236</td>\n",
       "      <td>0.191794</td>\n",
       "      <td>Bristol Fashion is committed to providing each...</td>\n",
       "      <td>0.769231</td>\n",
       "      <td>0.015809</td>\n",
       "      <td>0.016654</td>\n",
       "      <td></td>\n",
       "      <td></td>\n",
       "    </tr>\n",
       "    <tr>\n",
       "      <th>386</th>\n",
       "      <td>0.050</td>\n",
       "      <td>0.9375</td>\n",
       "      <td>0.91</td>\n",
       "      <td>0.221988</td>\n",
       "      <td>0.168297</td>\n",
       "      <td>Die Europäische Kommission bietet eine Onlinep...</td>\n",
       "      <td>0.890110</td>\n",
       "      <td>0.188773</td>\n",
       "      <td>0.016129</td>\n",
       "      <td></td>\n",
       "      <td></td>\n",
       "    </tr>\n",
       "    <tr>\n",
       "      <th>107</th>\n",
       "      <td>0.300</td>\n",
       "      <td>1.0000</td>\n",
       "      <td>0.95</td>\n",
       "      <td>0.056047</td>\n",
       "      <td>0.066646</td>\n",
       "      <td>IMPRESSUM Firmensitz: kfzteile24 GmbH\\n Am Tre...</td>\n",
       "      <td>0.934066</td>\n",
       "      <td>0.146972</td>\n",
       "      <td>0.008432</td>\n",
       "      <td></td>\n",
       "      <td></td>\n",
       "    </tr>\n",
       "    <tr>\n",
       "      <th>656</th>\n",
       "      <td>0.250</td>\n",
       "      <td>1.0000</td>\n",
       "      <td>0.96</td>\n",
       "      <td>0.213687</td>\n",
       "      <td>0.239778</td>\n",
       "      <td>Impressum Gesetzliche Anbieterkennung: Tim For...</td>\n",
       "      <td>0.956044</td>\n",
       "      <td>0.010182</td>\n",
       "      <td>0.006835</td>\n",
       "      <td>amazon@tmf-racing.com</td>\n",
       "      <td>Telefon: 06772 9669046 Telefax: 067729669047 E...</td>\n",
       "    </tr>\n",
       "  </tbody>\n",
       "</table>\n",
       "</div>"
      ],
      "text/plain": [
       "      sellerproductcount  Count of seller brands  \\\n",
       "36                 0.250                  0.9375   \n",
       "726                0.200                  1.0000   \n",
       "495                0.500                  0.8750   \n",
       "23                 0.500                  0.9375   \n",
       "322                0.150                  1.0000   \n",
       "712                1.000                  0.9375   \n",
       "882                0.020                  0.9375   \n",
       "100                0.035                  1.0000   \n",
       "1784               0.500                  1.0000   \n",
       "985                0.500                  1.0000   \n",
       "53                 0.040                  1.0000   \n",
       "1495               0.100                  1.0000   \n",
       "947                0.050                  1.0000   \n",
       "321                0.035                  1.0000   \n",
       "1058               0.050                  0.9375   \n",
       "1045               0.050                  0.9375   \n",
       "26                 0.300                  1.0000   \n",
       "386                0.050                  0.9375   \n",
       "107                0.300                  1.0000   \n",
       "656                0.250                  1.0000   \n",
       "\n",
       "      Max % of negative seller ratings - last 12 months  \\\n",
       "36                                                 0.92   \n",
       "726                                                0.91   \n",
       "495                                                0.93   \n",
       "23                                                 0.90   \n",
       "322                                                0.94   \n",
       "712                                                0.78   \n",
       "882                                                0.96   \n",
       "100                                                0.98   \n",
       "1784                                               0.98   \n",
       "985                                                0.96   \n",
       "53                                                 0.96   \n",
       "1495                                               0.95   \n",
       "947                                                0.94   \n",
       "321                                                0.94   \n",
       "1058                                               0.93   \n",
       "1045                                               0.73   \n",
       "26                                                 0.82   \n",
       "386                                                0.91   \n",
       "107                                                0.95   \n",
       "656                                                0.96   \n",
       "\n",
       "      Hero Product 1 #ratings  Hero Product 2 #ratings  \\\n",
       "36                   0.468396                 0.267347   \n",
       "726                  0.468373                 0.188189   \n",
       "495                  0.894745                 1.000000   \n",
       "23                   0.347000                 0.158090   \n",
       "322                  0.825193                 0.824690   \n",
       "712                  0.155315                 0.159532   \n",
       "882                  0.768813                 0.458350   \n",
       "100                  0.545006                 0.458350   \n",
       "1784                 0.297066                 0.070392   \n",
       "985                  0.468407                 0.188189   \n",
       "53                   0.468407                 0.146171   \n",
       "1495                 0.118069                 0.130973   \n",
       "947                  1.000000                 0.533224   \n",
       "321                  0.695220                 0.816731   \n",
       "1058                 0.545040                 0.262413   \n",
       "1045                 0.361806                 0.190805   \n",
       "26                   0.434236                 0.191794   \n",
       "386                  0.221988                 0.168297   \n",
       "107                  0.056047                 0.066646   \n",
       "656                  0.213687                 0.239778   \n",
       "\n",
       "                                          sellerdetails  \\\n",
       "36    IMPRESSUM \\n itenga GmbH\\n Am Umspannwerk 2\\n ...   \n",
       "726   trendmile GmbH\\n\\nAmtsgericht Darmstadt HR B 8...   \n",
       "495   SELECT ELITE is committed to providing each cu...   \n",
       "23    Blumenbecker Industriebedarf GmbH Sudhoferweg ...   \n",
       "322   Milovan Stojkovic\\n Mühlenstr. 16\\n 48431 Rhei...   \n",
       "712   TradeINN is committed to providing each custom...   \n",
       "882   Impressum\\n  \\n  Gesetzliche Anbieterkennung:\\...   \n",
       "100   Kessler electronic GmbH\\n Dieselstrasse 4\\n 50...   \n",
       "1784  Impressum nach TMG:\\n\\nZoreno Versandhandel Gm...   \n",
       "985   Schreibwaren Wegmann, Janos Metz e.K. Inhaber:...   \n",
       "53    Impressum der Kaleido.Shop GmbH\\nKaleido.Shop ...   \n",
       "1495  Gesetzliche Anbieterkennung:\\n TransPal GmbH\\n...   \n",
       "947   want jp - Our vision is to become the world's ...   \n",
       "321   Impressum\\n \\n Gesetzliche Anbieterkennung:\\n ...   \n",
       "1058  Impressum\\n \\n Gesetzliche Anbieterkennung:\\n ...   \n",
       "1045  Impressum\\n \\n Gesetzliche Anbieterkennung:\\n ...   \n",
       "26    Bristol Fashion is committed to providing each...   \n",
       "386   Die Europäische Kommission bietet eine Onlinep...   \n",
       "107   IMPRESSUM Firmensitz: kfzteile24 GmbH\\n Am Tre...   \n",
       "656   Impressum Gesetzliche Anbieterkennung: Tim For...   \n",
       "\n",
       "      sellerratings%positive  sellerratingstotalcount  total_score  \\\n",
       "36                  0.901099                 0.689845     1.000000   \n",
       "726                 0.879121                 0.970123     0.824078   \n",
       "495                 0.901099                 0.038451     0.743424   \n",
       "23                  0.868132                 0.419748     0.513599   \n",
       "322                 0.912088                 0.093516     0.477238   \n",
       "712                 0.736264                 0.301447     0.282586   \n",
       "882                 0.934066                 0.815247     0.275779   \n",
       "100                 0.967033                 0.457529     0.212033   \n",
       "1784                0.978022                 0.352224     0.197421   \n",
       "985                 0.934066                 0.048499     0.109441   \n",
       "53                  0.945055                 0.561093     0.079600   \n",
       "1495                0.923077                 0.439175     0.034361   \n",
       "947                 0.912088                 0.021168     0.028215   \n",
       "321                 0.934066                 0.026125     0.026582   \n",
       "1058                0.912088                 0.077304     0.025910   \n",
       "1045                0.681319                 0.188371     0.022764   \n",
       "26                  0.769231                 0.015809     0.016654   \n",
       "386                 0.890110                 0.188773     0.016129   \n",
       "107                 0.934066                 0.146972     0.008432   \n",
       "656                 0.956044                 0.010182     0.006835   \n",
       "\n",
       "                                                  email  \\\n",
       "36                                       info@itenga.de   \n",
       "726                               support@trendmile.com   \n",
       "495                                                       \n",
       "23                          bib.beckum@blumenbecker.com   \n",
       "322                                     info@limuno.com   \n",
       "712                                                       \n",
       "882   service@vitamed-quinger.comDatenschutz@vitamed...   \n",
       "100                          info@kessler-electronic.de   \n",
       "1784                             ade.support@zoreno.com   \n",
       "985                        info@schreibwaren-wegmann.de   \n",
       "53                                  info@kaleidoshop.de   \n",
       "1495                                  support@yovivo.de   \n",
       "947                                                       \n",
       "321                                shop@varia-store.com   \n",
       "1058                                   amazon@wtnord.de   \n",
       "1045                              amazon@wohn-idee24.de   \n",
       "26                                                        \n",
       "386                                                       \n",
       "107                                                       \n",
       "656                               amazon@tmf-racing.com   \n",
       "\n",
       "                                              telephone  \n",
       "36    Tel: 06825 / 89697-0 Fax: 06825 / 89697-20 E-M...  \n",
       "726   Telefon: 06206 – 951326 - 0 Telefax: 06206 – 9...  \n",
       "495                                                      \n",
       "23    Telefon: 02521/8406-0 E-Mail: bib.beckum@blume...  \n",
       "322                         Tel.: +49 59 71/ 8 00 38 03  \n",
       "712                                                      \n",
       "882                             Telefon: +4962369329325  \n",
       "100   Telefon: + 49 (0)2273 / 991-9325 (werktags 9:0...  \n",
       "1784                                                     \n",
       "985   Tel.: 09922609490 Fax: 09922609491 E-Mail: inf...  \n",
       "53    Telefon: 02951/9849790 (Montag bis Freitag 9:0...  \n",
       "1495  Telefon: +49 30 436 07 330 (Mo. bis Fr. von 9 ...  \n",
       "947                                                      \n",
       "321       Telefon: 0371 400 7682 Telefax: 0371 400 7685  \n",
       "1058          Telefon: 04942203673 Telefax: 04942203674  \n",
       "1045                             Telefon: 02431 9569550  \n",
       "26                                                       \n",
       "386                                                      \n",
       "107                                                      \n",
       "656   Telefon: 06772 9669046 Telefax: 067729669047 E...  "
      ]
     },
     "execution_count": 56,
     "metadata": {},
     "output_type": "execute_result"
    }
   ],
   "source": [
    "top20_sellers"
   ]
  },
  {
   "cell_type": "markdown",
   "id": "29dcf19e",
   "metadata": {
    "execution": {
     "iopub.execute_input": "2022-07-19T22:25:13.480628Z",
     "iopub.status.busy": "2022-07-19T22:25:13.479789Z",
     "iopub.status.idle": "2022-07-19T22:25:13.489416Z",
     "shell.execute_reply": "2022-07-19T22:25:13.48834Z",
     "shell.execute_reply.started": "2022-07-19T22:25:13.480595Z"
    },
    "papermill": {
     "duration": 0.030895,
     "end_time": "2022-07-20T00:44:25.272481",
     "exception": false,
     "start_time": "2022-07-20T00:44:25.241586",
     "status": "completed"
    },
    "tags": []
   },
   "source": [
    "# 8. Final Table with Top 20 Sellers"
   ]
  },
  {
   "cell_type": "code",
   "execution_count": 57,
   "id": "6d094c37",
   "metadata": {
    "execution": {
     "iopub.execute_input": "2022-07-20T00:44:25.337012Z",
     "iopub.status.busy": "2022-07-20T00:44:25.336634Z",
     "iopub.status.idle": "2022-07-20T00:44:25.343933Z",
     "shell.execute_reply": "2022-07-20T00:44:25.342803Z"
    },
    "papermill": {
     "duration": 0.042256,
     "end_time": "2022-07-20T00:44:25.346189",
     "exception": false,
     "start_time": "2022-07-20T00:44:25.303933",
     "status": "completed"
    },
    "tags": []
   },
   "outputs": [
    {
     "data": {
      "text/plain": [
       "Int64Index([  36,  726,  495,   23,  322,  712,  882,  100, 1784,  985,   53,\n",
       "            1495,  947,  321, 1058, 1045,   26,  386,  107,  656],\n",
       "           dtype='int64')"
      ]
     },
     "execution_count": 57,
     "metadata": {},
     "output_type": "execute_result"
    }
   ],
   "source": [
    "top20_sellers.index"
   ]
  },
  {
   "cell_type": "code",
   "execution_count": 58,
   "id": "8b260b6a",
   "metadata": {
    "execution": {
     "iopub.execute_input": "2022-07-20T00:44:25.410038Z",
     "iopub.status.busy": "2022-07-20T00:44:25.409626Z",
     "iopub.status.idle": "2022-07-20T00:44:25.421130Z",
     "shell.execute_reply": "2022-07-20T00:44:25.420242Z"
    },
    "papermill": {
     "duration": 0.04578,
     "end_time": "2022-07-20T00:44:25.423192",
     "exception": false,
     "start_time": "2022-07-20T00:44:25.377412",
     "status": "completed"
    },
    "tags": []
   },
   "outputs": [
    {
     "data": {
      "text/html": [
       "<div>\n",
       "<style scoped>\n",
       "    .dataframe tbody tr th:only-of-type {\n",
       "        vertical-align: middle;\n",
       "    }\n",
       "\n",
       "    .dataframe tbody tr th {\n",
       "        vertical-align: top;\n",
       "    }\n",
       "\n",
       "    .dataframe thead th {\n",
       "        text-align: right;\n",
       "    }\n",
       "</style>\n",
       "<table border=\"1\" class=\"dataframe\">\n",
       "  <thead>\n",
       "    <tr style=\"text-align: right;\">\n",
       "      <th></th>\n",
       "      <th>Top 20 Seller Names</th>\n",
       "    </tr>\n",
       "  </thead>\n",
       "  <tbody>\n",
       "    <tr>\n",
       "      <th>1</th>\n",
       "      <td>Business Name:itenga GmbH</td>\n",
       "    </tr>\n",
       "    <tr>\n",
       "      <th>2</th>\n",
       "      <td>Business Name:trendmile GmbH</td>\n",
       "    </tr>\n",
       "    <tr>\n",
       "      <th>3</th>\n",
       "      <td>Business Name:C. Y. MARKETING INC.</td>\n",
       "    </tr>\n",
       "    <tr>\n",
       "      <th>4</th>\n",
       "      <td>Business Name:Blumenbecker Industriebedarf GmbH</td>\n",
       "    </tr>\n",
       "    <tr>\n",
       "      <th>5</th>\n",
       "      <td>Business Name:Milovan Stojkovic</td>\n",
       "    </tr>\n",
       "    <tr>\n",
       "      <th>6</th>\n",
       "      <td>Business Name:TRADEINN RETAIL SERVICES SL</td>\n",
       "    </tr>\n",
       "    <tr>\n",
       "      <th>7</th>\n",
       "      <td>Business Name:Vitamed Matthias Quinger e.K.</td>\n",
       "    </tr>\n",
       "    <tr>\n",
       "      <th>8</th>\n",
       "      <td>Business Name:Kessler electronic GmbH</td>\n",
       "    </tr>\n",
       "    <tr>\n",
       "      <th>9</th>\n",
       "      <td>Business Name:Zoreno Versandhandel GmbH</td>\n",
       "    </tr>\n",
       "    <tr>\n",
       "      <th>10</th>\n",
       "      <td>Business Name:Schreibwaren Wegmann, Inh. Janos...</td>\n",
       "    </tr>\n",
       "    <tr>\n",
       "      <th>11</th>\n",
       "      <td>Business Name:Kaleido.Shop GmbH</td>\n",
       "    </tr>\n",
       "    <tr>\n",
       "      <th>12</th>\n",
       "      <td>Business Name:TransPal GmbH</td>\n",
       "    </tr>\n",
       "    <tr>\n",
       "      <th>13</th>\n",
       "      <td>Business Name:VIP Plaza Japan Inc</td>\n",
       "    </tr>\n",
       "    <tr>\n",
       "      <th>14</th>\n",
       "      <td>Business Name:VARIA System GmbH</td>\n",
       "    </tr>\n",
       "    <tr>\n",
       "      <th>15</th>\n",
       "      <td>Business Name:SJ-Werbung</td>\n",
       "    </tr>\n",
       "    <tr>\n",
       "      <th>16</th>\n",
       "      <td>Business Name:Wohn-Idee24-cr UG</td>\n",
       "    </tr>\n",
       "    <tr>\n",
       "      <th>17</th>\n",
       "      <td>Business Name:Bristol Fashion</td>\n",
       "    </tr>\n",
       "    <tr>\n",
       "      <th>18</th>\n",
       "      <td>Business Name:Johann Haslberger</td>\n",
       "    </tr>\n",
       "    <tr>\n",
       "      <th>19</th>\n",
       "      <td>Business Name:kfzteile24 GmbH</td>\n",
       "    </tr>\n",
       "    <tr>\n",
       "      <th>20</th>\n",
       "      <td>Business Name:Tim Jochen Forster</td>\n",
       "    </tr>\n",
       "  </tbody>\n",
       "</table>\n",
       "</div>"
      ],
      "text/plain": [
       "                                  Top 20 Seller Names\n",
       "1                           Business Name:itenga GmbH\n",
       "2                        Business Name:trendmile GmbH\n",
       "3                  Business Name:C. Y. MARKETING INC.\n",
       "4     Business Name:Blumenbecker Industriebedarf GmbH\n",
       "5                     Business Name:Milovan Stojkovic\n",
       "6           Business Name:TRADEINN RETAIL SERVICES SL\n",
       "7         Business Name:Vitamed Matthias Quinger e.K.\n",
       "8               Business Name:Kessler electronic GmbH\n",
       "9             Business Name:Zoreno Versandhandel GmbH\n",
       "10  Business Name:Schreibwaren Wegmann, Inh. Janos...\n",
       "11                    Business Name:Kaleido.Shop GmbH\n",
       "12                        Business Name:TransPal GmbH\n",
       "13                  Business Name:VIP Plaza Japan Inc\n",
       "14                    Business Name:VARIA System GmbH\n",
       "15                           Business Name:SJ-Werbung\n",
       "16                    Business Name:Wohn-Idee24-cr UG\n",
       "17                      Business Name:Bristol Fashion\n",
       "18                    Business Name:Johann Haslberger\n",
       "19                      Business Name:kfzteile24 GmbH\n",
       "20                   Business Name:Tim Jochen Forster"
      ]
     },
     "execution_count": 58,
     "metadata": {},
     "output_type": "execute_result"
    }
   ],
   "source": [
    "pd.DataFrame(data['seller business name'][top20_sellers.index].values, index=range(1,21), columns=['Top 20 Seller Names'])"
   ]
  },
  {
   "cell_type": "markdown",
   "id": "c504d18f",
   "metadata": {
    "execution": {
     "iopub.execute_input": "2022-07-19T22:25:13.525148Z",
     "iopub.status.busy": "2022-07-19T22:25:13.524833Z",
     "iopub.status.idle": "2022-07-19T22:25:13.533816Z",
     "shell.execute_reply": "2022-07-19T22:25:13.532699Z",
     "shell.execute_reply.started": "2022-07-19T22:25:13.525122Z"
    },
    "papermill": {
     "duration": 0.031256,
     "end_time": "2022-07-20T00:44:25.486049",
     "exception": false,
     "start_time": "2022-07-20T00:44:25.454793",
     "status": "completed"
    },
    "tags": []
   },
   "source": [
    "# The End"
   ]
  }
 ],
 "metadata": {
  "kernelspec": {
   "display_name": "Python 3",
   "language": "python",
   "name": "python3"
  },
  "language_info": {
   "codemirror_mode": {
    "name": "ipython",
    "version": 3
   },
   "file_extension": ".py",
   "mimetype": "text/x-python",
   "name": "python",
   "nbconvert_exporter": "python",
   "pygments_lexer": "ipython3",
   "version": "3.7.12"
  },
  "papermill": {
   "default_parameters": {},
   "duration": 33.50553,
   "end_time": "2022-07-20T00:44:26.339913",
   "environment_variables": {},
   "exception": null,
   "input_path": "__notebook__.ipynb",
   "output_path": "__notebook__.ipynb",
   "parameters": {},
   "start_time": "2022-07-20T00:43:52.834383",
   "version": "2.3.4"
  }
 },
 "nbformat": 4,
 "nbformat_minor": 5
}
