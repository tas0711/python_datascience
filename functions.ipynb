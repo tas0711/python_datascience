{
 "cells": [
  {
   "cell_type": "code",
   "execution_count": 1,
   "id": "a536142a",
   "metadata": {
    "_cell_guid": "b1076dfc-b9ad-4769-8c92-a6c4dae69d19",
    "_uuid": "8f2839f25d086af736a60e9eeb907d3b93b6e0e5",
    "execution": {
     "iopub.execute_input": "2022-07-18T00:21:21.432870Z",
     "iopub.status.busy": "2022-07-18T00:21:21.431945Z",
     "iopub.status.idle": "2022-07-18T00:21:21.446079Z",
     "shell.execute_reply": "2022-07-18T00:21:21.444966Z"
    },
    "papermill": {
     "duration": 0.021462,
     "end_time": "2022-07-18T00:21:21.448972",
     "exception": false,
     "start_time": "2022-07-18T00:21:21.427510",
     "status": "completed"
    },
    "tags": []
   },
   "outputs": [],
   "source": [
    "# This Python 3 environment comes with many helpful analytics libraries installed\n",
    "# It is defined by the kaggle/python Docker image: https://github.com/kaggle/docker-python\n",
    "# For example, here's several helpful packages to load\n",
    "\n",
    "import numpy as np # linear algebra\n",
    "import pandas as pd # data processing, CSV file I/O (e.g. pd.read_csv)\n",
    "\n",
    "# Input data files are available in the read-only \"../input/\" directory\n",
    "# For example, running this (by clicking run or pressing Shift+Enter) will list all files under the input directory\n",
    "\n",
    "import os\n",
    "for dirname, _, filenames in os.walk('/kaggle/input'):\n",
    "    for filename in filenames:\n",
    "        print(os.path.join(dirname, filename))\n",
    "\n",
    "# You can write up to 20GB to the current directory (/kaggle/working/) that gets preserved as output when you create a version using \"Save & Run All\" \n",
    "# You can also write temporary files to /kaggle/temp/, but they won't be saved outside of the current session"
   ]
  },
  {
   "cell_type": "code",
   "execution_count": 2,
   "id": "9f8b35ca",
   "metadata": {
    "execution": {
     "iopub.execute_input": "2022-07-18T00:21:21.453702Z",
     "iopub.status.busy": "2022-07-18T00:21:21.453343Z",
     "iopub.status.idle": "2022-07-18T00:21:22.505977Z",
     "shell.execute_reply": "2022-07-18T00:21:22.504732Z"
    },
    "papermill": {
     "duration": 1.057764,
     "end_time": "2022-07-18T00:21:22.508601",
     "exception": false,
     "start_time": "2022-07-18T00:21:21.450837",
     "status": "completed"
    },
    "tags": []
   },
   "outputs": [],
   "source": [
    "import pandas as pd\n",
    "import numpy as np\n",
    "import matplotlib.pyplot as plt\n",
    "import seaborn as sns\n",
    "%matplotlib inline"
   ]
  },
  {
   "cell_type": "code",
   "execution_count": null,
   "id": "370431f6",
   "metadata": {
    "papermill": {
     "duration": 0.001308,
     "end_time": "2022-07-18T00:21:22.511592",
     "exception": false,
     "start_time": "2022-07-18T00:21:22.510284",
     "status": "completed"
    },
    "tags": []
   },
   "outputs": [],
   "source": []
  }
 ],
 "metadata": {
  "kernelspec": {
   "display_name": "Python 3",
   "language": "python",
   "name": "python3"
  },
  "language_info": {
   "codemirror_mode": {
    "name": "ipython",
    "version": 3
   },
   "file_extension": ".py",
   "mimetype": "text/x-python",
   "name": "python",
   "nbconvert_exporter": "python",
   "pygments_lexer": "ipython3",
   "version": "3.7.12"
  },
  "papermill": {
   "default_parameters": {},
   "duration": 10.361289,
   "end_time": "2022-07-18T00:21:23.235034",
   "environment_variables": {},
   "exception": null,
   "input_path": "__notebook__.ipynb",
   "output_path": "__notebook__.ipynb",
   "parameters": {},
   "start_time": "2022-07-18T00:21:12.873745",
   "version": "2.3.4"
  }
 },
 "nbformat": 4,
 "nbformat_minor": 5
}
