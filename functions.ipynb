{
 "cells": [
  {
   "cell_type": "code",
   "execution_count": 1,
   "id": "60a5b91c",
   "metadata": {
    "_cell_guid": "b1076dfc-b9ad-4769-8c92-a6c4dae69d19",
    "_uuid": "8f2839f25d086af736a60e9eeb907d3b93b6e0e5",
    "execution": {
     "iopub.execute_input": "2022-07-18T00:50:22.986523Z",
     "iopub.status.busy": "2022-07-18T00:50:22.986050Z",
     "iopub.status.idle": "2022-07-18T00:50:22.998949Z",
     "shell.execute_reply": "2022-07-18T00:50:22.998187Z"
    },
    "papermill": {
     "duration": 0.02019,
     "end_time": "2022-07-18T00:50:23.001481",
     "exception": false,
     "start_time": "2022-07-18T00:50:22.981291",
     "status": "completed"
    },
    "tags": []
   },
   "outputs": [],
   "source": [
    "# This Python 3 environment comes with many helpful analytics libraries installed\n",
    "# It is defined by the kaggle/python Docker image: https://github.com/kaggle/docker-python\n",
    "# For example, here's several helpful packages to load\n",
    "\n",
    "import numpy as np # linear algebra\n",
    "import pandas as pd # data processing, CSV file I/O (e.g. pd.read_csv)\n",
    "\n",
    "# Input data files are available in the read-only \"../input/\" directory\n",
    "# For example, running this (by clicking run or pressing Shift+Enter) will list all files under the input directory\n",
    "\n",
    "import os\n",
    "for dirname, _, filenames in os.walk('/kaggle/input'):\n",
    "    for filename in filenames:\n",
    "        print(os.path.join(dirname, filename))\n",
    "\n",
    "# You can write up to 20GB to the current directory (/kaggle/working/) that gets preserved as output when you create a version using \"Save & Run All\" \n",
    "# You can also write temporary files to /kaggle/temp/, but they won't be saved outside of the current session"
   ]
  },
  {
   "cell_type": "code",
   "execution_count": 2,
   "id": "51035d90",
   "metadata": {
    "execution": {
     "iopub.execute_input": "2022-07-18T00:50:23.008698Z",
     "iopub.status.busy": "2022-07-18T00:50:23.008092Z",
     "iopub.status.idle": "2022-07-18T00:50:24.066820Z",
     "shell.execute_reply": "2022-07-18T00:50:24.065495Z"
    },
    "papermill": {
     "duration": 1.065025,
     "end_time": "2022-07-18T00:50:24.069337",
     "exception": false,
     "start_time": "2022-07-18T00:50:23.004312",
     "status": "completed"
    },
    "tags": []
   },
   "outputs": [],
   "source": [
    "import pandas as pd\n",
    "import numpy as np\n",
    "import matplotlib.pyplot as plt\n",
    "import seaborn as sns\n",
    "%matplotlib inline"
   ]
  },
  {
   "cell_type": "code",
   "execution_count": 3,
   "id": "85b82a91",
   "metadata": {
    "execution": {
     "iopub.execute_input": "2022-07-18T00:50:24.074855Z",
     "iopub.status.busy": "2022-07-18T00:50:24.074528Z",
     "iopub.status.idle": "2022-07-18T00:50:24.086344Z",
     "shell.execute_reply": "2022-07-18T00:50:24.085206Z"
    },
    "papermill": {
     "duration": 0.016661,
     "end_time": "2022-07-18T00:50:24.088319",
     "exception": false,
     "start_time": "2022-07-18T00:50:24.071658",
     "status": "completed"
    },
    "tags": []
   },
   "outputs": [
    {
     "data": {
      "text/plain": [
       "array([[1, 2, 4],\n",
       "       [2, 4, 3],\n",
       "       [0, 1, 1]])"
      ]
     },
     "execution_count": 3,
     "metadata": {},
     "output_type": "execute_result"
    }
   ],
   "source": [
    "#Creating a Matrix\n",
    "A = np.array([ [1,2,4], [2,4,3], [0,1,1]])\n",
    "A"
   ]
  },
  {
   "cell_type": "code",
   "execution_count": 4,
   "id": "626831ba",
   "metadata": {
    "execution": {
     "iopub.execute_input": "2022-07-18T00:50:24.093625Z",
     "iopub.status.busy": "2022-07-18T00:50:24.093319Z",
     "iopub.status.idle": "2022-07-18T00:50:24.099783Z",
     "shell.execute_reply": "2022-07-18T00:50:24.098854Z"
    },
    "papermill": {
     "duration": 0.011268,
     "end_time": "2022-07-18T00:50:24.101630",
     "exception": false,
     "start_time": "2022-07-18T00:50:24.090362",
     "status": "completed"
    },
    "tags": []
   },
   "outputs": [
    {
     "data": {
      "text/plain": [
       "array([[1, 2, 3],\n",
       "       [4, 5, 6],\n",
       "       [7, 8, 9]])"
      ]
     },
     "execution_count": 4,
     "metadata": {},
     "output_type": "execute_result"
    }
   ],
   "source": [
    "#Generating a Matrix\n",
    "B = np.arange(1,10)\n",
    "B.reshape(3,3)"
   ]
  },
  {
   "cell_type": "code",
   "execution_count": null,
   "id": "23672017",
   "metadata": {
    "papermill": {
     "duration": 0.001812,
     "end_time": "2022-07-18T00:50:24.105492",
     "exception": false,
     "start_time": "2022-07-18T00:50:24.103680",
     "status": "completed"
    },
    "tags": []
   },
   "outputs": [],
   "source": []
  }
 ],
 "metadata": {
  "kernelspec": {
   "display_name": "Python 3",
   "language": "python",
   "name": "python3"
  },
  "language_info": {
   "codemirror_mode": {
    "name": "ipython",
    "version": 3
   },
   "file_extension": ".py",
   "mimetype": "text/x-python",
   "name": "python",
   "nbconvert_exporter": "python",
   "pygments_lexer": "ipython3",
   "version": "3.7.12"
  },
  "papermill": {
   "default_parameters": {},
   "duration": 10.945018,
   "end_time": "2022-07-18T00:50:24.827537",
   "environment_variables": {},
   "exception": null,
   "input_path": "__notebook__.ipynb",
   "output_path": "__notebook__.ipynb",
   "parameters": {},
   "start_time": "2022-07-18T00:50:13.882519",
   "version": "2.3.4"
  }
 },
 "nbformat": 4,
 "nbformat_minor": 5
}
