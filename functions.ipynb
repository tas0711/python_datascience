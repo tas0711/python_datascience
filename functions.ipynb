{
 "cells": [
  {
   "cell_type": "code",
   "execution_count": 1,
   "id": "91826b43",
   "metadata": {
    "_cell_guid": "b1076dfc-b9ad-4769-8c92-a6c4dae69d19",
    "_uuid": "8f2839f25d086af736a60e9eeb907d3b93b6e0e5",
    "execution": {
     "iopub.execute_input": "2022-07-18T00:24:11.232749Z",
     "iopub.status.busy": "2022-07-18T00:24:11.232000Z",
     "iopub.status.idle": "2022-07-18T00:24:11.245958Z",
     "shell.execute_reply": "2022-07-18T00:24:11.244534Z"
    },
    "papermill": {
     "duration": 0.021784,
     "end_time": "2022-07-18T00:24:11.248946",
     "exception": false,
     "start_time": "2022-07-18T00:24:11.227162",
     "status": "completed"
    },
    "tags": []
   },
   "outputs": [],
   "source": [
    "# This Python 3 environment comes with many helpful analytics libraries installed\n",
    "# It is defined by the kaggle/python Docker image: https://github.com/kaggle/docker-python\n",
    "# For example, here's several helpful packages to load\n",
    "\n",
    "import numpy as np # linear algebra\n",
    "import pandas as pd # data processing, CSV file I/O (e.g. pd.read_csv)\n",
    "\n",
    "# Input data files are available in the read-only \"../input/\" directory\n",
    "# For example, running this (by clicking run or pressing Shift+Enter) will list all files under the input directory\n",
    "\n",
    "import os\n",
    "for dirname, _, filenames in os.walk('/kaggle/input'):\n",
    "    for filename in filenames:\n",
    "        print(os.path.join(dirname, filename))\n",
    "\n",
    "# You can write up to 20GB to the current directory (/kaggle/working/) that gets preserved as output when you create a version using \"Save & Run All\" \n",
    "# You can also write temporary files to /kaggle/temp/, but they won't be saved outside of the current session"
   ]
  },
  {
   "cell_type": "code",
   "execution_count": 2,
   "id": "4a626278",
   "metadata": {
    "execution": {
     "iopub.execute_input": "2022-07-18T00:24:11.255203Z",
     "iopub.status.busy": "2022-07-18T00:24:11.254780Z",
     "iopub.status.idle": "2022-07-18T00:24:12.383786Z",
     "shell.execute_reply": "2022-07-18T00:24:12.382674Z"
    },
    "papermill": {
     "duration": 1.135186,
     "end_time": "2022-07-18T00:24:12.386600",
     "exception": false,
     "start_time": "2022-07-18T00:24:11.251414",
     "status": "completed"
    },
    "tags": []
   },
   "outputs": [],
   "source": [
    "import pandas as pd\n",
    "import numpy as np\n",
    "import matplotlib.pyplot as plt\n",
    "import seaborn as sns\n",
    "%matplotlib inline"
   ]
  },
  {
   "cell_type": "code",
   "execution_count": 3,
   "id": "952aaac4",
   "metadata": {
    "execution": {
     "iopub.execute_input": "2022-07-18T00:24:12.392510Z",
     "iopub.status.busy": "2022-07-18T00:24:12.392094Z",
     "iopub.status.idle": "2022-07-18T00:24:12.404190Z",
     "shell.execute_reply": "2022-07-18T00:24:12.403108Z"
    },
    "papermill": {
     "duration": 0.017663,
     "end_time": "2022-07-18T00:24:12.406508",
     "exception": false,
     "start_time": "2022-07-18T00:24:12.388845",
     "status": "completed"
    },
    "tags": []
   },
   "outputs": [
    {
     "data": {
      "text/plain": [
       "array([[1, 2, 4],\n",
       "       [2, 4, 3],\n",
       "       [0, 1, 1]])"
      ]
     },
     "execution_count": 3,
     "metadata": {},
     "output_type": "execute_result"
    }
   ],
   "source": [
    "#Creating a Matrix\n",
    "A = np.array([ [1,2,4], [2,4,3], [0,1,1]])\n",
    "A"
   ]
  },
  {
   "cell_type": "code",
   "execution_count": null,
   "id": "c741e2cb",
   "metadata": {
    "papermill": {
     "duration": 0.002014,
     "end_time": "2022-07-18T00:24:12.410943",
     "exception": false,
     "start_time": "2022-07-18T00:24:12.408929",
     "status": "completed"
    },
    "tags": []
   },
   "outputs": [],
   "source": []
  }
 ],
 "metadata": {
  "kernelspec": {
   "display_name": "Python 3",
   "language": "python",
   "name": "python3"
  },
  "language_info": {
   "codemirror_mode": {
    "name": "ipython",
    "version": 3
   },
   "file_extension": ".py",
   "mimetype": "text/x-python",
   "name": "python",
   "nbconvert_exporter": "python",
   "pygments_lexer": "ipython3",
   "version": "3.7.12"
  },
  "papermill": {
   "default_parameters": {},
   "duration": 11.955716,
   "end_time": "2022-07-18T00:24:13.135358",
   "environment_variables": {},
   "exception": null,
   "input_path": "__notebook__.ipynb",
   "output_path": "__notebook__.ipynb",
   "parameters": {},
   "start_time": "2022-07-18T00:24:01.179642",
   "version": "2.3.4"
  }
 },
 "nbformat": 4,
 "nbformat_minor": 5
}
