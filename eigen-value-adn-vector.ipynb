{
 "cells": [
  {
   "cell_type": "code",
   "execution_count": 1,
   "id": "126982e2",
   "metadata": {
    "_cell_guid": "b1076dfc-b9ad-4769-8c92-a6c4dae69d19",
    "_uuid": "8f2839f25d086af736a60e9eeb907d3b93b6e0e5",
    "execution": {
     "iopub.execute_input": "2022-07-12T00:19:56.507244Z",
     "iopub.status.busy": "2022-07-12T00:19:56.506738Z",
     "iopub.status.idle": "2022-07-12T00:19:56.521388Z",
     "shell.execute_reply": "2022-07-12T00:19:56.519986Z"
    },
    "papermill": {
     "duration": 0.022584,
     "end_time": "2022-07-12T00:19:56.523939",
     "exception": false,
     "start_time": "2022-07-12T00:19:56.501355",
     "status": "completed"
    },
    "tags": []
   },
   "outputs": [],
   "source": [
    "# This Python 3 environment comes with many helpful analytics libraries installed\n",
    "# It is defined by the kaggle/python Docker image: https://github.com/kaggle/docker-python\n",
    "# For example, here's several helpful packages to load\n",
    "\n",
    "import numpy as np # linear algebra\n",
    "import pandas as pd # data processing, CSV file I/O (e.g. pd.read_csv)\n",
    "\n",
    "# Input data files are available in the read-only \"../input/\" directory\n",
    "# For example, running this (by clicking run or pressing Shift+Enter) will list all files under the input directory\n",
    "\n",
    "import os\n",
    "for dirname, _, filenames in os.walk('/kaggle/input'):\n",
    "    for filename in filenames:\n",
    "        print(os.path.join(dirname, filename))\n",
    "\n",
    "# You can write up to 20GB to the current directory (/kaggle/working/) that gets preserved as output when you create a version using \"Save & Run All\" \n",
    "# You can also write temporary files to /kaggle/temp/, but they won't be saved outside of the current session"
   ]
  },
  {
   "cell_type": "code",
   "execution_count": 2,
   "id": "2dddfc5e",
   "metadata": {
    "execution": {
     "iopub.execute_input": "2022-07-12T00:19:56.530244Z",
     "iopub.status.busy": "2022-07-12T00:19:56.529835Z",
     "iopub.status.idle": "2022-07-12T00:19:56.539789Z",
     "shell.execute_reply": "2022-07-12T00:19:56.538119Z"
    },
    "papermill": {
     "duration": 0.016434,
     "end_time": "2022-07-12T00:19:56.542829",
     "exception": false,
     "start_time": "2022-07-12T00:19:56.526395",
     "status": "completed"
    },
    "tags": []
   },
   "outputs": [
    {
     "name": "stdout",
     "output_type": "stream",
     "text": [
      "list 1 value: [102, 115, 128, 109, 131, 89, 98, 106, 140, 119, 93, 97, 110, 84, 95, 85, 100, 105, 109, 89]\n",
      "list 2 value: [127, 162, 131, 103, 96, 111, 80, 109, 93, 87, 120, 105, 109, 69, 59, 55, 65, 135, 140, 95, 100, 105, 75, 60, 80]\n",
      "Sum of Two List: [229, 277, 259, 212, 227, 200, 178, 215, 233, 206, 213, 202, 219, 153, 154, 140, 165, 240, 249, 184]\n"
     ]
    }
   ],
   "source": [
    "#combine two list alternatingly\n",
    "list1=[ 102, 115, 128, 109, 131, 89, 98, 106, 140, 119, 93, 97, 110, 84, 95, 85, 100, 105, 109, 89\n",
    "]\n",
    "list2=[127, 162, 131,103, 96, 111, 80, 109, 93, 87, 120, 105, 109, 69, 59, 55, 65, 135, 140, 95, 100, 105, 75, 60, 80]\n",
    "list3=[]\n",
    "print(\"list 1 value:\", list1)\n",
    "print(\"list 2 value:\",list2)\n",
    "for n in range(0, len(list1)):\n",
    "    list3.append(list1[n] + list2[n])\n",
    "print(\"Sum of Two List:\",list3)    "
   ]
  },
  {
   "cell_type": "code",
   "execution_count": null,
   "id": "8f9ec58c",
   "metadata": {
    "papermill": {
     "duration": 0.001726,
     "end_time": "2022-07-12T00:19:56.546885",
     "exception": false,
     "start_time": "2022-07-12T00:19:56.545159",
     "status": "completed"
    },
    "tags": []
   },
   "outputs": [],
   "source": []
  }
 ],
 "metadata": {
  "kernelspec": {
   "display_name": "Python 3",
   "language": "python",
   "name": "python3"
  },
  "language_info": {
   "codemirror_mode": {
    "name": "ipython",
    "version": 3
   },
   "file_extension": ".py",
   "mimetype": "text/x-python",
   "name": "python",
   "nbconvert_exporter": "python",
   "pygments_lexer": "ipython3",
   "version": "3.7.12"
  },
  "papermill": {
   "default_parameters": {},
   "duration": 12.373286,
   "end_time": "2022-07-12T00:19:57.472243",
   "environment_variables": {},
   "exception": null,
   "input_path": "__notebook__.ipynb",
   "output_path": "__notebook__.ipynb",
   "parameters": {},
   "start_time": "2022-07-12T00:19:45.098957",
   "version": "2.3.4"
  }
 },
 "nbformat": 4,
 "nbformat_minor": 5
}
