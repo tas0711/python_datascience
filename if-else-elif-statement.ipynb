{
 "cells": [
  {
   "cell_type": "code",
   "execution_count": 1,
   "id": "38a6b22f",
   "metadata": {
    "_cell_guid": "b1076dfc-b9ad-4769-8c92-a6c4dae69d19",
    "_uuid": "8f2839f25d086af736a60e9eeb907d3b93b6e0e5",
    "execution": {
     "iopub.execute_input": "2022-07-24T04:16:00.458897Z",
     "iopub.status.busy": "2022-07-24T04:16:00.458252Z",
     "iopub.status.idle": "2022-07-24T04:16:00.478071Z",
     "shell.execute_reply": "2022-07-24T04:16:00.476651Z"
    },
    "papermill": {
     "duration": 0.028281,
     "end_time": "2022-07-24T04:16:00.480856",
     "exception": false,
     "start_time": "2022-07-24T04:16:00.452575",
     "status": "completed"
    },
    "tags": []
   },
   "outputs": [],
   "source": [
    "# This Python 3 environment comes with many helpful analytics libraries installed\n",
    "# It is defined by the kaggle/python Docker image: https://github.com/kaggle/docker-python\n",
    "# For example, here's several helpful packages to load\n",
    "\n",
    "import numpy as np # linear algebra\n",
    "import pandas as pd # data processing, CSV file I/O (e.g. pd.read_csv)\n",
    "\n",
    "# Input data files are available in the read-only \"../input/\" directory\n",
    "# For example, running this (by clicking run or pressing Shift+Enter) will list all files under the input directory\n",
    "\n",
    "import os\n",
    "for dirname, _, filenames in os.walk('/kaggle/input'):\n",
    "    for filename in filenames:\n",
    "        print(os.path.join(dirname, filename))\n",
    "\n",
    "# You can write up to 20GB to the current directory (/kaggle/working/) that gets preserved as output when you create a version using \"Save & Run All\" \n",
    "# You can also write temporary files to /kaggle/temp/, but they won't be saved outside of the current session"
   ]
  },
  {
   "cell_type": "code",
   "execution_count": 2,
   "id": "548204d4",
   "metadata": {
    "execution": {
     "iopub.execute_input": "2022-07-24T04:16:00.487728Z",
     "iopub.status.busy": "2022-07-24T04:16:00.487325Z",
     "iopub.status.idle": "2022-07-24T04:16:00.492674Z",
     "shell.execute_reply": "2022-07-24T04:16:00.491428Z"
    },
    "papermill": {
     "duration": 0.011565,
     "end_time": "2022-07-24T04:16:00.495330",
     "exception": false,
     "start_time": "2022-07-24T04:16:00.483765",
     "status": "completed"
    },
    "tags": []
   },
   "outputs": [
    {
     "name": "stdout",
     "output_type": "stream",
     "text": [
      "ITS TRUE!\n"
     ]
    }
   ],
   "source": [
    "if True:\n",
    "    print('ITS TRUE!')"
   ]
  },
  {
   "cell_type": "code",
   "execution_count": 3,
   "id": "49d08ca7",
   "metadata": {
    "execution": {
     "iopub.execute_input": "2022-07-24T04:16:00.502241Z",
     "iopub.status.busy": "2022-07-24T04:16:00.501239Z",
     "iopub.status.idle": "2022-07-24T04:16:00.507468Z",
     "shell.execute_reply": "2022-07-24T04:16:00.506389Z"
    },
    "papermill": {
     "duration": 0.011659,
     "end_time": "2022-07-24T04:16:00.509489",
     "exception": false,
     "start_time": "2022-07-24T04:16:00.497830",
     "status": "completed"
    },
    "tags": []
   },
   "outputs": [
    {
     "name": "stdout",
     "output_type": "stream",
     "text": [
      "ITS TRUE\n"
     ]
    }
   ],
   "source": [
    "if 3>2:\n",
    "    print('ITS TRUE')"
   ]
  },
  {
   "cell_type": "code",
   "execution_count": 4,
   "id": "3ab15d02",
   "metadata": {
    "execution": {
     "iopub.execute_input": "2022-07-24T04:16:00.516426Z",
     "iopub.status.busy": "2022-07-24T04:16:00.515791Z",
     "iopub.status.idle": "2022-07-24T04:16:00.521431Z",
     "shell.execute_reply": "2022-07-24T04:16:00.520335Z"
    },
    "papermill": {
     "duration": 0.012671,
     "end_time": "2022-07-24T04:16:00.524775",
     "exception": false,
     "start_time": "2022-07-24T04:16:00.512104",
     "status": "completed"
    },
    "tags": []
   },
   "outputs": [
    {
     "name": "stdout",
     "output_type": "stream",
     "text": [
      "FEED ME!\n"
     ]
    }
   ],
   "source": [
    "hungry = True\n",
    "\n",
    "if hungry:\n",
    "    print('FEED ME!')"
   ]
  },
  {
   "cell_type": "code",
   "execution_count": null,
   "id": "e6d90316",
   "metadata": {
    "papermill": {
     "duration": 0.002453,
     "end_time": "2022-07-24T04:16:00.530655",
     "exception": false,
     "start_time": "2022-07-24T04:16:00.528202",
     "status": "completed"
    },
    "tags": []
   },
   "outputs": [],
   "source": []
  }
 ],
 "metadata": {
  "kernelspec": {
   "display_name": "Python 3",
   "language": "python",
   "name": "python3"
  },
  "language_info": {
   "codemirror_mode": {
    "name": "ipython",
    "version": 3
   },
   "file_extension": ".py",
   "mimetype": "text/x-python",
   "name": "python",
   "nbconvert_exporter": "python",
   "pygments_lexer": "ipython3",
   "version": "3.7.12"
  },
  "papermill": {
   "default_parameters": {},
   "duration": 10.405231,
   "end_time": "2022-07-24T04:16:01.154783",
   "environment_variables": {},
   "exception": null,
   "input_path": "__notebook__.ipynb",
   "output_path": "__notebook__.ipynb",
   "parameters": {},
   "start_time": "2022-07-24T04:15:50.749552",
   "version": "2.3.4"
  }
 },
 "nbformat": 4,
 "nbformat_minor": 5
}
