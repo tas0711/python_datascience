{
 "cells": [
  {
   "cell_type": "code",
   "execution_count": 1,
   "id": "431b9985",
   "metadata": {
    "_cell_guid": "b1076dfc-b9ad-4769-8c92-a6c4dae69d19",
    "_uuid": "8f2839f25d086af736a60e9eeb907d3b93b6e0e5",
    "execution": {
     "iopub.execute_input": "2022-07-06T01:12:33.707745Z",
     "iopub.status.busy": "2022-07-06T01:12:33.707283Z",
     "iopub.status.idle": "2022-07-06T01:12:33.718237Z",
     "shell.execute_reply": "2022-07-06T01:12:33.717089Z"
    },
    "papermill": {
     "duration": 0.018555,
     "end_time": "2022-07-06T01:12:33.720935",
     "exception": false,
     "start_time": "2022-07-06T01:12:33.702380",
     "status": "completed"
    },
    "tags": []
   },
   "outputs": [],
   "source": [
    "# This Python 3 environment comes with many helpful analytics libraries installed\n",
    "# It is defined by the kaggle/python Docker image: https://github.com/kaggle/docker-python\n",
    "# For example, here's several helpful packages to load\n",
    "\n",
    "import numpy as np # linear algebra\n",
    "import pandas as pd # data processing, CSV file I/O (e.g. pd.read_csv)\n",
    "\n",
    "# Input data files are available in the read-only \"../input/\" directory\n",
    "# For example, running this (by clicking run or pressing Shift+Enter) will list all files under the input directory\n",
    "\n",
    "import os\n",
    "for dirname, _, filenames in os.walk('/kaggle/input'):\n",
    "    for filename in filenames:\n",
    "        print(os.path.join(dirname, filename))\n",
    "\n",
    "# You can write up to 20GB to the current directory (/kaggle/working/) that gets preserved as output when you create a version using \"Save & Run All\" \n",
    "# You can also write temporary files to /kaggle/temp/, but they won't be saved outside of the current session"
   ]
  },
  {
   "cell_type": "markdown",
   "id": "bce626ff",
   "metadata": {
    "papermill": {
     "duration": 0.001894,
     "end_time": "2022-07-06T01:12:33.725236",
     "exception": false,
     "start_time": "2022-07-06T01:12:33.723342",
     "status": "completed"
    },
    "tags": []
   },
   "source": [
    "M3Q1. There are two sections in a class. The Intelligent Quotient (IQ) of all students are given below respectively.\n",
    "\n",
    "Section A--IQs of 20 Students    :: 102, 115, 128, 109, 131, 89, 98, 106, 140, 119, 93, 97, 110, 84, 95, 85, 100, 105, 109, 89\n",
    "Section B--IQs of 25 Students:: 127, 162, 131,103, 96, 111, 80, 109, 93, 87, 120, 105, 109, 69, 59, 55, 65, 135, 140, 95, 100, 105, 75, 60, 80\n",
    "\n",
    "Calculate the central tendencies of each section. You must use Python code to do all the measurement. Compare and contrast among the central tendencies of these two sections.\n",
    "\n",
    "How many inferences or KPIs (Key Performance Indicators) you can draw out of these calculations? Please answer elaborately."
   ]
  },
  {
   "cell_type": "code",
   "execution_count": 2,
   "id": "e8725150",
   "metadata": {
    "execution": {
     "iopub.execute_input": "2022-07-06T01:12:33.731117Z",
     "iopub.status.busy": "2022-07-06T01:12:33.730488Z",
     "iopub.status.idle": "2022-07-06T01:12:33.736493Z",
     "shell.execute_reply": "2022-07-06T01:12:33.735706Z"
    },
    "papermill": {
     "duration": 0.011377,
     "end_time": "2022-07-06T01:12:33.738620",
     "exception": false,
     "start_time": "2022-07-06T01:12:33.727243",
     "status": "completed"
    },
    "tags": []
   },
   "outputs": [],
   "source": [
    "A = np.array([102, 115, 128, 109, 131, 89, 98, 106, 140, 119, 93, 97, 110, 84, 95, 85, 100, 105, 109, 89])\n",
    "B = np.array([127, 162, 131,103, 96, 111, 80, 109, 93, 87, 120, 105, 109, 69, 59, 55, 65, 135, 140, 95, 100, 105, 75, 60, 80])"
   ]
  },
  {
   "cell_type": "code",
   "execution_count": 3,
   "id": "adc29c5a",
   "metadata": {
    "execution": {
     "iopub.execute_input": "2022-07-06T01:12:33.745257Z",
     "iopub.status.busy": "2022-07-06T01:12:33.744666Z",
     "iopub.status.idle": "2022-07-06T01:12:33.754331Z",
     "shell.execute_reply": "2022-07-06T01:12:33.753081Z"
    },
    "papermill": {
     "duration": 0.016735,
     "end_time": "2022-07-06T01:12:33.757848",
     "exception": false,
     "start_time": "2022-07-06T01:12:33.741113",
     "status": "completed"
    },
    "tags": []
   },
   "outputs": [
    {
     "name": "stdout",
     "output_type": "stream",
     "text": [
      "Mean of A is : 105.2 ; Median of A segment is : 103.5 ; Standard deviation of A segment is : 15.05\n"
     ]
    }
   ],
   "source": [
    "A_mean = np.mean(A)\n",
    "A_median = np.median(A)\n",
    "A_std = np.std(A)\n",
    "\n",
    "print(f'Mean of A is : {A_mean} ; Median of A segment is : {A_median} ; Standard deviation of A segment is : {A_std.round(2)}')"
   ]
  },
  {
   "cell_type": "code",
   "execution_count": 4,
   "id": "5f9bf01c",
   "metadata": {
    "execution": {
     "iopub.execute_input": "2022-07-06T01:12:33.765707Z",
     "iopub.status.busy": "2022-07-06T01:12:33.764968Z",
     "iopub.status.idle": "2022-07-06T01:12:33.771794Z",
     "shell.execute_reply": "2022-07-06T01:12:33.770565Z"
    },
    "papermill": {
     "duration": 0.012468,
     "end_time": "2022-07-06T01:12:33.773701",
     "exception": false,
     "start_time": "2022-07-06T01:12:33.761233",
     "status": "completed"
    },
    "tags": []
   },
   "outputs": [
    {
     "name": "stdout",
     "output_type": "stream",
     "text": [
      "Mean of B is : 98.84 ; Median of B segment is : 100.0 ; Standard deviation of B segment is : 27.01\n"
     ]
    }
   ],
   "source": [
    "B_mean = np.mean(B)\n",
    "B_median = np.median(B)\n",
    "B_std = np.std(B)\n",
    "\n",
    "print(f'Mean of B is : {B_mean} ; Median of B segment is : {B_median} ; Standard deviation of B segment is : {B_std.round(2)}')"
   ]
  },
  {
   "cell_type": "code",
   "execution_count": null,
   "id": "0959552c",
   "metadata": {
    "papermill": {
     "duration": 0.001885,
     "end_time": "2022-07-06T01:12:33.777839",
     "exception": false,
     "start_time": "2022-07-06T01:12:33.775954",
     "status": "completed"
    },
    "tags": []
   },
   "outputs": [],
   "source": [
    "\n"
   ]
  },
  {
   "cell_type": "code",
   "execution_count": null,
   "id": "4743fed3",
   "metadata": {
    "papermill": {
     "duration": 0.001796,
     "end_time": "2022-07-06T01:12:33.781658",
     "exception": false,
     "start_time": "2022-07-06T01:12:33.779862",
     "status": "completed"
    },
    "tags": []
   },
   "outputs": [],
   "source": []
  }
 ],
 "metadata": {
  "kernelspec": {
   "display_name": "Python 3",
   "language": "python",
   "name": "python3"
  },
  "language_info": {
   "codemirror_mode": {
    "name": "ipython",
    "version": 3
   },
   "file_extension": ".py",
   "mimetype": "text/x-python",
   "name": "python",
   "nbconvert_exporter": "python",
   "pygments_lexer": "ipython3",
   "version": "3.7.12"
  },
  "papermill": {
   "default_parameters": {},
   "duration": 9.993085,
   "end_time": "2022-07-06T01:12:34.403284",
   "environment_variables": {},
   "exception": null,
   "input_path": "__notebook__.ipynb",
   "output_path": "__notebook__.ipynb",
   "parameters": {},
   "start_time": "2022-07-06T01:12:24.410199",
   "version": "2.3.4"
  }
 },
 "nbformat": 4,
 "nbformat_minor": 5
}
