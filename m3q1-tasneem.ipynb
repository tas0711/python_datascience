{
 "cells": [
  {
   "cell_type": "code",
   "execution_count": 1,
   "id": "c9a3ecec",
   "metadata": {
    "_cell_guid": "b1076dfc-b9ad-4769-8c92-a6c4dae69d19",
    "_uuid": "8f2839f25d086af736a60e9eeb907d3b93b6e0e5",
    "execution": {
     "iopub.execute_input": "2022-07-06T01:04:02.650339Z",
     "iopub.status.busy": "2022-07-06T01:04:02.649676Z",
     "iopub.status.idle": "2022-07-06T01:04:02.662917Z",
     "shell.execute_reply": "2022-07-06T01:04:02.662051Z"
    },
    "papermill": {
     "duration": 0.021838,
     "end_time": "2022-07-06T01:04:02.665319",
     "exception": false,
     "start_time": "2022-07-06T01:04:02.643481",
     "status": "completed"
    },
    "tags": []
   },
   "outputs": [],
   "source": [
    "# This Python 3 environment comes with many helpful analytics libraries installed\n",
    "# It is defined by the kaggle/python Docker image: https://github.com/kaggle/docker-python\n",
    "# For example, here's several helpful packages to load\n",
    "\n",
    "import numpy as np # linear algebra\n",
    "import pandas as pd # data processing, CSV file I/O (e.g. pd.read_csv)\n",
    "\n",
    "# Input data files are available in the read-only \"../input/\" directory\n",
    "# For example, running this (by clicking run or pressing Shift+Enter) will list all files under the input directory\n",
    "\n",
    "import os\n",
    "for dirname, _, filenames in os.walk('/kaggle/input'):\n",
    "    for filename in filenames:\n",
    "        print(os.path.join(dirname, filename))\n",
    "\n",
    "# You can write up to 20GB to the current directory (/kaggle/working/) that gets preserved as output when you create a version using \"Save & Run All\" \n",
    "# You can also write temporary files to /kaggle/temp/, but they won't be saved outside of the current session"
   ]
  },
  {
   "cell_type": "markdown",
   "id": "da94dd1d",
   "metadata": {
    "papermill": {
     "duration": 0.002436,
     "end_time": "2022-07-06T01:04:02.670742",
     "exception": false,
     "start_time": "2022-07-06T01:04:02.668306",
     "status": "completed"
    },
    "tags": []
   },
   "source": [
    "M3Q1. There are two sections in a class. The Intelligent Quotient (IQ) of all students are given below respectively.\n",
    "\n",
    "Section A--IQs of 20 Students    :: 102, 115, 128, 109, 131, 89, 98, 106, 140, 119, 93, 97, 110, 84, 95, 85, 100, 105, 109, 89\n",
    "Section B--IQs of 25 Students:: 127, 162, 131,103, 96, 111, 80, 109, 93, 87, 120, 105, 109, 69, 59, 55, 65, 135, 140, 95, 100, 105, 75, 60, 80\n",
    "\n",
    "Calculate the central tendencies of each section. You must use Python code to do all the measurement. Compare and contrast among the central tendencies of these two sections.\n",
    "\n",
    "How many inferences or KPIs (Key Performance Indicators) you can draw out of these calculations? Please answer elaborately."
   ]
  },
  {
   "cell_type": "code",
   "execution_count": 2,
   "id": "df46a6f9",
   "metadata": {
    "execution": {
     "iopub.execute_input": "2022-07-06T01:04:02.677612Z",
     "iopub.status.busy": "2022-07-06T01:04:02.677204Z",
     "iopub.status.idle": "2022-07-06T01:04:02.683493Z",
     "shell.execute_reply": "2022-07-06T01:04:02.682677Z"
    },
    "papermill": {
     "duration": 0.012229,
     "end_time": "2022-07-06T01:04:02.685510",
     "exception": false,
     "start_time": "2022-07-06T01:04:02.673281",
     "status": "completed"
    },
    "tags": []
   },
   "outputs": [],
   "source": [
    "A = np.array([102, 115, 128, 109, 131, 89, 98, 106, 140, 119, 93, 97, 110, 84, 95, 85, 100, 105, 109, 89])\n",
    "B = np.array([127, 162, 131,103, 96, 111, 80, 109, 93, 87, 120, 105, 109, 69, 59, 55, 65, 135, 140, 95, 100, 105, 75, 60, 80])"
   ]
  },
  {
   "cell_type": "code",
   "execution_count": 3,
   "id": "3a5a46ac",
   "metadata": {
    "execution": {
     "iopub.execute_input": "2022-07-06T01:04:02.693299Z",
     "iopub.status.busy": "2022-07-06T01:04:02.692677Z",
     "iopub.status.idle": "2022-07-06T01:04:02.701658Z",
     "shell.execute_reply": "2022-07-06T01:04:02.700595Z"
    },
    "papermill": {
     "duration": 0.015499,
     "end_time": "2022-07-06T01:04:02.704016",
     "exception": false,
     "start_time": "2022-07-06T01:04:02.688517",
     "status": "completed"
    },
    "tags": []
   },
   "outputs": [
    {
     "name": "stdout",
     "output_type": "stream",
     "text": [
      "Mean of A is : 105.2 ; Median of A segment is : 103.5 ; Standard deviation of A segment is : 15.05\n"
     ]
    }
   ],
   "source": [
    "A_mean = np.mean(A)\n",
    "A_median = np.median(A)\n",
    "A_std = np.std(A)\n",
    "\n",
    "print(f'Mean of A is : {A_mean} ; Median of A segment is : {A_median} ; Standard deviation of A segment is : {A_std.round(2)}')"
   ]
  },
  {
   "cell_type": "code",
   "execution_count": 4,
   "id": "226695fa",
   "metadata": {
    "execution": {
     "iopub.execute_input": "2022-07-06T01:04:02.711485Z",
     "iopub.status.busy": "2022-07-06T01:04:02.710861Z",
     "iopub.status.idle": "2022-07-06T01:04:02.716883Z",
     "shell.execute_reply": "2022-07-06T01:04:02.715769Z"
    },
    "papermill": {
     "duration": 0.012183,
     "end_time": "2022-07-06T01:04:02.719060",
     "exception": false,
     "start_time": "2022-07-06T01:04:02.706877",
     "status": "completed"
    },
    "tags": []
   },
   "outputs": [
    {
     "name": "stdout",
     "output_type": "stream",
     "text": [
      "Mean of B is : 98.84 ; Median of B segment is : 100.0 ; Standard deviation of B segment is : 27.01\n"
     ]
    }
   ],
   "source": [
    "B_mean = np.mean(B)\n",
    "B_median = np.median(B)\n",
    "B_std = np.std(B)\n",
    "\n",
    "print(f'Mean of B is : {B_mean} ; Median of B segment is : {B_median} ; Standard deviation of B segment is : {B_std.round(2)}')"
   ]
  },
  {
   "cell_type": "code",
   "execution_count": null,
   "id": "0bcafb0b",
   "metadata": {
    "papermill": {
     "duration": 0.002582,
     "end_time": "2022-07-06T01:04:02.724583",
     "exception": false,
     "start_time": "2022-07-06T01:04:02.722001",
     "status": "completed"
    },
    "tags": []
   },
   "outputs": [],
   "source": [
    "\n"
   ]
  },
  {
   "cell_type": "code",
   "execution_count": null,
   "id": "f48b4cf5",
   "metadata": {
    "papermill": {
     "duration": 0.002448,
     "end_time": "2022-07-06T01:04:02.729730",
     "exception": false,
     "start_time": "2022-07-06T01:04:02.727282",
     "status": "completed"
    },
    "tags": []
   },
   "outputs": [],
   "source": []
  }
 ],
 "metadata": {
  "kernelspec": {
   "display_name": "Python 3",
   "language": "python",
   "name": "python3"
  },
  "language_info": {
   "codemirror_mode": {
    "name": "ipython",
    "version": 3
   },
   "file_extension": ".py",
   "mimetype": "text/x-python",
   "name": "python",
   "nbconvert_exporter": "python",
   "pygments_lexer": "ipython3",
   "version": "3.7.12"
  },
  "papermill": {
   "default_parameters": {},
   "duration": 10.645376,
   "end_time": "2022-07-06T01:04:03.353018",
   "environment_variables": {},
   "exception": null,
   "input_path": "__notebook__.ipynb",
   "output_path": "__notebook__.ipynb",
   "parameters": {},
   "start_time": "2022-07-06T01:03:52.707642",
   "version": "2.3.4"
  }
 },
 "nbformat": 4,
 "nbformat_minor": 5
}
