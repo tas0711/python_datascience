{
 "cells": [
  {
   "cell_type": "code",
   "execution_count": 1,
   "id": "0299897b",
   "metadata": {
    "_cell_guid": "b1076dfc-b9ad-4769-8c92-a6c4dae69d19",
    "_uuid": "8f2839f25d086af736a60e9eeb907d3b93b6e0e5",
    "execution": {
     "iopub.execute_input": "2022-07-10T17:25:33.075812Z",
     "iopub.status.busy": "2022-07-10T17:25:33.075188Z",
     "iopub.status.idle": "2022-07-10T17:25:33.093398Z",
     "shell.execute_reply": "2022-07-10T17:25:33.092171Z"
    },
    "papermill": {
     "duration": 0.02676,
     "end_time": "2022-07-10T17:25:33.095907",
     "exception": false,
     "start_time": "2022-07-10T17:25:33.069147",
     "status": "completed"
    },
    "tags": []
   },
   "outputs": [],
   "source": [
    "# This Python 3 environment comes with many helpful analytics libraries installed\n",
    "# It is defined by the kaggle/python Docker image: https://github.com/kaggle/docker-python\n",
    "# For example, here's several helpful packages to load\n",
    "\n",
    "import numpy as np # linear algebra\n",
    "import pandas as pd # data processing, CSV file I/O (e.g. pd.read_csv)\n",
    "\n",
    "# Input data files are available in the read-only \"../input/\" directory\n",
    "# For example, running this (by clicking run or pressing Shift+Enter) will list all files under the input directory\n",
    "\n",
    "import os\n",
    "for dirname, _, filenames in os.walk('/kaggle/input'):\n",
    "    for filename in filenames:\n",
    "        print(os.path.join(dirname, filename))\n",
    "\n",
    "# You can write up to 20GB to the current directory (/kaggle/working/) that gets preserved as output when you create a version using \"Save & Run All\" \n",
    "# You can also write temporary files to /kaggle/temp/, but they won't be saved outside of the current session"
   ]
  },
  {
   "cell_type": "code",
   "execution_count": 2,
   "id": "65b836ab",
   "metadata": {
    "execution": {
     "iopub.execute_input": "2022-07-10T17:25:33.104054Z",
     "iopub.status.busy": "2022-07-10T17:25:33.103363Z",
     "iopub.status.idle": "2022-07-10T17:25:33.108906Z",
     "shell.execute_reply": "2022-07-10T17:25:33.108018Z"
    },
    "papermill": {
     "duration": 0.012768,
     "end_time": "2022-07-10T17:25:33.111912",
     "exception": false,
     "start_time": "2022-07-10T17:25:33.099144",
     "status": "completed"
    },
    "tags": []
   },
   "outputs": [
    {
     "name": "stdout",
     "output_type": "stream",
     "text": [
      "this is a string INSERTED\n"
     ]
    }
   ],
   "source": [
    "print('this is a string {}'.format('INSERTED'))"
   ]
  },
  {
   "cell_type": "code",
   "execution_count": 3,
   "id": "f788c1d5",
   "metadata": {
    "execution": {
     "iopub.execute_input": "2022-07-10T17:25:33.119980Z",
     "iopub.status.busy": "2022-07-10T17:25:33.119531Z",
     "iopub.status.idle": "2022-07-10T17:25:33.124974Z",
     "shell.execute_reply": "2022-07-10T17:25:33.124158Z"
    },
    "papermill": {
     "duration": 0.012528,
     "end_time": "2022-07-10T17:25:33.127469",
     "exception": false,
     "start_time": "2022-07-10T17:25:33.114941",
     "status": "completed"
    },
    "tags": []
   },
   "outputs": [
    {
     "name": "stdout",
     "output_type": "stream",
     "text": [
      "The fox brown quick\n"
     ]
    }
   ],
   "source": [
    "print('The {} {} {}'.format('fox','brown','quick'))"
   ]
  },
  {
   "cell_type": "code",
   "execution_count": 4,
   "id": "94ceec5b",
   "metadata": {
    "execution": {
     "iopub.execute_input": "2022-07-10T17:25:33.135817Z",
     "iopub.status.busy": "2022-07-10T17:25:33.135063Z",
     "iopub.status.idle": "2022-07-10T17:25:33.141791Z",
     "shell.execute_reply": "2022-07-10T17:25:33.140487Z"
    },
    "papermill": {
     "duration": 0.013502,
     "end_time": "2022-07-10T17:25:33.144055",
     "exception": false,
     "start_time": "2022-07-10T17:25:33.130553",
     "status": "completed"
    },
    "tags": []
   },
   "outputs": [
    {
     "name": "stdout",
     "output_type": "stream",
     "text": [
      "The quick brown fox\n"
     ]
    }
   ],
   "source": [
    "print('The {2} {1} {0}'.format('fox' ,'brown' ,'quick'))"
   ]
  },
  {
   "cell_type": "code",
   "execution_count": 5,
   "id": "95efa332",
   "metadata": {
    "execution": {
     "iopub.execute_input": "2022-07-10T17:25:33.152417Z",
     "iopub.status.busy": "2022-07-10T17:25:33.151981Z",
     "iopub.status.idle": "2022-07-10T17:25:33.158027Z",
     "shell.execute_reply": "2022-07-10T17:25:33.156559Z"
    },
    "papermill": {
     "duration": 0.01427,
     "end_time": "2022-07-10T17:25:33.161488",
     "exception": false,
     "start_time": "2022-07-10T17:25:33.147218",
     "status": "completed"
    },
    "tags": []
   },
   "outputs": [
    {
     "name": "stdout",
     "output_type": "stream",
     "text": [
      "The fox fox fox\n"
     ]
    }
   ],
   "source": [
    "print('The {0} {0} {0}'.format('fox' ,'brown' ,'quick'))"
   ]
  },
  {
   "cell_type": "code",
   "execution_count": 6,
   "id": "fb2cab6e",
   "metadata": {
    "execution": {
     "iopub.execute_input": "2022-07-10T17:25:33.170662Z",
     "iopub.status.busy": "2022-07-10T17:25:33.170225Z",
     "iopub.status.idle": "2022-07-10T17:25:33.177318Z",
     "shell.execute_reply": "2022-07-10T17:25:33.175579Z"
    },
    "papermill": {
     "duration": 0.014669,
     "end_time": "2022-07-10T17:25:33.180119",
     "exception": false,
     "start_time": "2022-07-10T17:25:33.165450",
     "status": "completed"
    },
    "tags": []
   },
   "outputs": [
    {
     "name": "stdout",
     "output_type": "stream",
     "text": [
      "The quick brown fox\n"
     ]
    }
   ],
   "source": [
    "print('The {q} {b} {f}'.format(f='fox' ,b='brown' ,q='quick'))"
   ]
  },
  {
   "cell_type": "code",
   "execution_count": null,
   "id": "e2fabe97",
   "metadata": {
    "papermill": {
     "duration": 0.004451,
     "end_time": "2022-07-10T17:25:33.187906",
     "exception": false,
     "start_time": "2022-07-10T17:25:33.183455",
     "status": "completed"
    },
    "tags": []
   },
   "outputs": [],
   "source": []
  }
 ],
 "metadata": {
  "kernelspec": {
   "display_name": "Python 3",
   "language": "python",
   "name": "python3"
  },
  "language_info": {
   "codemirror_mode": {
    "name": "ipython",
    "version": 3
   },
   "file_extension": ".py",
   "mimetype": "text/x-python",
   "name": "python",
   "nbconvert_exporter": "python",
   "pygments_lexer": "ipython3",
   "version": "3.7.12"
  },
  "papermill": {
   "default_parameters": {},
   "duration": 12.460336,
   "end_time": "2022-07-10T17:25:34.016269",
   "environment_variables": {},
   "exception": null,
   "input_path": "__notebook__.ipynb",
   "output_path": "__notebook__.ipynb",
   "parameters": {},
   "start_time": "2022-07-10T17:25:21.555933",
   "version": "2.3.4"
  }
 },
 "nbformat": 4,
 "nbformat_minor": 5
}
