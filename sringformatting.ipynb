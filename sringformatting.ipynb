{
 "cells": [
  {
   "cell_type": "code",
   "execution_count": 1,
   "id": "4421392d",
   "metadata": {
    "_cell_guid": "b1076dfc-b9ad-4769-8c92-a6c4dae69d19",
    "_uuid": "8f2839f25d086af736a60e9eeb907d3b93b6e0e5",
    "execution": {
     "iopub.execute_input": "2022-07-10T17:22:30.677355Z",
     "iopub.status.busy": "2022-07-10T17:22:30.676814Z",
     "iopub.status.idle": "2022-07-10T17:22:30.691854Z",
     "shell.execute_reply": "2022-07-10T17:22:30.690825Z"
    },
    "papermill": {
     "duration": 0.022926,
     "end_time": "2022-07-10T17:22:30.694685",
     "exception": false,
     "start_time": "2022-07-10T17:22:30.671759",
     "status": "completed"
    },
    "tags": []
   },
   "outputs": [],
   "source": [
    "# This Python 3 environment comes with many helpful analytics libraries installed\n",
    "# It is defined by the kaggle/python Docker image: https://github.com/kaggle/docker-python\n",
    "# For example, here's several helpful packages to load\n",
    "\n",
    "import numpy as np # linear algebra\n",
    "import pandas as pd # data processing, CSV file I/O (e.g. pd.read_csv)\n",
    "\n",
    "# Input data files are available in the read-only \"../input/\" directory\n",
    "# For example, running this (by clicking run or pressing Shift+Enter) will list all files under the input directory\n",
    "\n",
    "import os\n",
    "for dirname, _, filenames in os.walk('/kaggle/input'):\n",
    "    for filename in filenames:\n",
    "        print(os.path.join(dirname, filename))\n",
    "\n",
    "# You can write up to 20GB to the current directory (/kaggle/working/) that gets preserved as output when you create a version using \"Save & Run All\" \n",
    "# You can also write temporary files to /kaggle/temp/, but they won't be saved outside of the current session"
   ]
  },
  {
   "cell_type": "code",
   "execution_count": 2,
   "id": "d5bdbdb7",
   "metadata": {
    "execution": {
     "iopub.execute_input": "2022-07-10T17:22:30.700822Z",
     "iopub.status.busy": "2022-07-10T17:22:30.700386Z",
     "iopub.status.idle": "2022-07-10T17:22:30.707264Z",
     "shell.execute_reply": "2022-07-10T17:22:30.705953Z"
    },
    "papermill": {
     "duration": 0.014103,
     "end_time": "2022-07-10T17:22:30.711253",
     "exception": false,
     "start_time": "2022-07-10T17:22:30.697150",
     "status": "completed"
    },
    "tags": []
   },
   "outputs": [
    {
     "name": "stdout",
     "output_type": "stream",
     "text": [
      "this is a string INSERTED\n"
     ]
    }
   ],
   "source": [
    "print('this is a string {}'.format('INSERTED'))"
   ]
  },
  {
   "cell_type": "code",
   "execution_count": null,
   "id": "8263bd78",
   "metadata": {
    "papermill": {
     "duration": 0.001686,
     "end_time": "2022-07-10T17:22:30.715741",
     "exception": false,
     "start_time": "2022-07-10T17:22:30.714055",
     "status": "completed"
    },
    "tags": []
   },
   "outputs": [],
   "source": []
  }
 ],
 "metadata": {
  "kernelspec": {
   "display_name": "Python 3",
   "language": "python",
   "name": "python3"
  },
  "language_info": {
   "codemirror_mode": {
    "name": "ipython",
    "version": 3
   },
   "file_extension": ".py",
   "mimetype": "text/x-python",
   "name": "python",
   "nbconvert_exporter": "python",
   "pygments_lexer": "ipython3",
   "version": "3.7.12"
  },
  "papermill": {
   "default_parameters": {},
   "duration": 11.21456,
   "end_time": "2022-07-10T17:22:31.540889",
   "environment_variables": {},
   "exception": null,
   "input_path": "__notebook__.ipynb",
   "output_path": "__notebook__.ipynb",
   "parameters": {},
   "start_time": "2022-07-10T17:22:20.326329",
   "version": "2.3.4"
  }
 },
 "nbformat": 4,
 "nbformat_minor": 5
}
