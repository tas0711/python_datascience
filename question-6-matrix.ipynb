{
 "cells": [
  {
   "cell_type": "code",
   "execution_count": 1,
   "id": "f069bec6",
   "metadata": {
    "_cell_guid": "b1076dfc-b9ad-4769-8c92-a6c4dae69d19",
    "_uuid": "8f2839f25d086af736a60e9eeb907d3b93b6e0e5",
    "execution": {
     "iopub.execute_input": "2022-07-15T00:04:45.195740Z",
     "iopub.status.busy": "2022-07-15T00:04:45.195292Z",
     "iopub.status.idle": "2022-07-15T00:04:45.209808Z",
     "shell.execute_reply": "2022-07-15T00:04:45.208807Z"
    },
    "papermill": {
     "duration": 0.023887,
     "end_time": "2022-07-15T00:04:45.212577",
     "exception": false,
     "start_time": "2022-07-15T00:04:45.188690",
     "status": "completed"
    },
    "tags": []
   },
   "outputs": [],
   "source": [
    "# This Python 3 environment comes with many helpful analytics libraries installed\n",
    "# It is defined by the kaggle/python Docker image: https://github.com/kaggle/docker-python\n",
    "# For example, here's several helpful packages to load\n",
    "\n",
    "import numpy as np # linear algebra\n",
    "import pandas as pd # data processing, CSV file I/O (e.g. pd.read_csv)\n",
    "\n",
    "# Input data files are available in the read-only \"../input/\" directory\n",
    "# For example, running this (by clicking run or pressing Shift+Enter) will list all files under the input directory\n",
    "\n",
    "import os\n",
    "for dirname, _, filenames in os.walk('/kaggle/input'):\n",
    "    for filename in filenames:\n",
    "        print(os.path.join(dirname, filename))\n",
    "\n",
    "# You can write up to 20GB to the current directory (/kaggle/working/) that gets preserved as output when you create a version using \"Save & Run All\" \n",
    "# You can also write temporary files to /kaggle/temp/, but they won't be saved outside of the current session"
   ]
  },
  {
   "cell_type": "code",
   "execution_count": 2,
   "id": "e2592b18",
   "metadata": {
    "execution": {
     "iopub.execute_input": "2022-07-15T00:04:45.221187Z",
     "iopub.status.busy": "2022-07-15T00:04:45.220820Z",
     "iopub.status.idle": "2022-07-15T00:04:45.225897Z",
     "shell.execute_reply": "2022-07-15T00:04:45.224793Z"
    },
    "papermill": {
     "duration": 0.012179,
     "end_time": "2022-07-15T00:04:45.228417",
     "exception": false,
     "start_time": "2022-07-15T00:04:45.216238",
     "status": "completed"
    },
    "tags": []
   },
   "outputs": [],
   "source": [
    "import numpy as np"
   ]
  },
  {
   "cell_type": "code",
   "execution_count": 3,
   "id": "63ed4402",
   "metadata": {
    "execution": {
     "iopub.execute_input": "2022-07-15T00:04:45.236734Z",
     "iopub.status.busy": "2022-07-15T00:04:45.236365Z",
     "iopub.status.idle": "2022-07-15T00:04:46.232837Z",
     "shell.execute_reply": "2022-07-15T00:04:46.231825Z"
    },
    "papermill": {
     "duration": 1.003842,
     "end_time": "2022-07-15T00:04:46.235619",
     "exception": false,
     "start_time": "2022-07-15T00:04:45.231777",
     "status": "completed"
    },
    "tags": []
   },
   "outputs": [],
   "source": [
    "from sympy import Matrix"
   ]
  },
  {
   "cell_type": "code",
   "execution_count": 4,
   "id": "02e7dccd",
   "metadata": {
    "execution": {
     "iopub.execute_input": "2022-07-15T00:04:46.244876Z",
     "iopub.status.busy": "2022-07-15T00:04:46.243947Z",
     "iopub.status.idle": "2022-07-15T00:04:46.249973Z",
     "shell.execute_reply": "2022-07-15T00:04:46.248986Z"
    },
    "papermill": {
     "duration": 0.013574,
     "end_time": "2022-07-15T00:04:46.252736",
     "exception": false,
     "start_time": "2022-07-15T00:04:46.239162",
     "status": "completed"
    },
    "tags": []
   },
   "outputs": [],
   "source": [
    "a = np.array([[1,0],[1,1]])"
   ]
  },
  {
   "cell_type": "code",
   "execution_count": 5,
   "id": "05c04b76",
   "metadata": {
    "execution": {
     "iopub.execute_input": "2022-07-15T00:04:46.262450Z",
     "iopub.status.busy": "2022-07-15T00:04:46.261674Z",
     "iopub.status.idle": "2022-07-15T00:04:46.267576Z",
     "shell.execute_reply": "2022-07-15T00:04:46.266487Z"
    },
    "papermill": {
     "duration": 0.013691,
     "end_time": "2022-07-15T00:04:46.270279",
     "exception": false,
     "start_time": "2022-07-15T00:04:46.256588",
     "status": "completed"
    },
    "tags": []
   },
   "outputs": [],
   "source": [
    "m = Matrix(a)"
   ]
  },
  {
   "cell_type": "code",
   "execution_count": 6,
   "id": "48d7740b",
   "metadata": {
    "execution": {
     "iopub.execute_input": "2022-07-15T00:04:46.279898Z",
     "iopub.status.busy": "2022-07-15T00:04:46.279035Z",
     "iopub.status.idle": "2022-07-15T00:04:46.290483Z",
     "shell.execute_reply": "2022-07-15T00:04:46.289131Z"
    },
    "papermill": {
     "duration": 0.019704,
     "end_time": "2022-07-15T00:04:46.293502",
     "exception": false,
     "start_time": "2022-07-15T00:04:46.273798",
     "status": "completed"
    },
    "tags": []
   },
   "outputs": [
    {
     "data": {
      "text/latex": [
       "$\\displaystyle \\left[\\begin{matrix}1 & 0\\\\1 & 1\\end{matrix}\\right]$"
      ],
      "text/plain": [
       "Matrix([\n",
       "[1, 0],\n",
       "[1, 1]])"
      ]
     },
     "execution_count": 6,
     "metadata": {},
     "output_type": "execute_result"
    }
   ],
   "source": [
    "m"
   ]
  },
  {
   "cell_type": "code",
   "execution_count": 7,
   "id": "38ad0f1f",
   "metadata": {
    "execution": {
     "iopub.execute_input": "2022-07-15T00:04:46.302891Z",
     "iopub.status.busy": "2022-07-15T00:04:46.302035Z",
     "iopub.status.idle": "2022-07-15T00:04:46.310119Z",
     "shell.execute_reply": "2022-07-15T00:04:46.309117Z"
    },
    "papermill": {
     "duration": 0.015732,
     "end_time": "2022-07-15T00:04:46.312742",
     "exception": false,
     "start_time": "2022-07-15T00:04:46.297010",
     "status": "completed"
    },
    "tags": []
   },
   "outputs": [],
   "source": [
    "P, J = m.jordan_form()"
   ]
  },
  {
   "cell_type": "code",
   "execution_count": 8,
   "id": "614c324b",
   "metadata": {
    "execution": {
     "iopub.execute_input": "2022-07-15T00:04:46.322609Z",
     "iopub.status.busy": "2022-07-15T00:04:46.321348Z",
     "iopub.status.idle": "2022-07-15T00:04:46.330634Z",
     "shell.execute_reply": "2022-07-15T00:04:46.329227Z"
    },
    "papermill": {
     "duration": 0.016522,
     "end_time": "2022-07-15T00:04:46.333133",
     "exception": false,
     "start_time": "2022-07-15T00:04:46.316611",
     "status": "completed"
    },
    "tags": []
   },
   "outputs": [
    {
     "data": {
      "text/latex": [
       "$\\displaystyle \\left[\\begin{matrix}1 & 1\\\\0 & 1\\end{matrix}\\right]$"
      ],
      "text/plain": [
       "Matrix([\n",
       "[1, 1],\n",
       "[0, 1]])"
      ]
     },
     "execution_count": 8,
     "metadata": {},
     "output_type": "execute_result"
    }
   ],
   "source": [
    "J"
   ]
  },
  {
   "cell_type": "code",
   "execution_count": null,
   "id": "89a6b7b6",
   "metadata": {
    "papermill": {
     "duration": 0.003613,
     "end_time": "2022-07-15T00:04:46.340544",
     "exception": false,
     "start_time": "2022-07-15T00:04:46.336931",
     "status": "completed"
    },
    "tags": []
   },
   "outputs": [],
   "source": []
  }
 ],
 "metadata": {
  "kernelspec": {
   "display_name": "Python 3",
   "language": "python",
   "name": "python3"
  },
  "language_info": {
   "codemirror_mode": {
    "name": "ipython",
    "version": 3
   },
   "file_extension": ".py",
   "mimetype": "text/x-python",
   "name": "python",
   "nbconvert_exporter": "python",
   "pygments_lexer": "ipython3",
   "version": "3.7.12"
  },
  "papermill": {
   "default_parameters": {},
   "duration": 11.880917,
   "end_time": "2022-07-15T00:04:47.066694",
   "environment_variables": {},
   "exception": null,
   "input_path": "__notebook__.ipynb",
   "output_path": "__notebook__.ipynb",
   "parameters": {},
   "start_time": "2022-07-15T00:04:35.185777",
   "version": "2.3.4"
  }
 },
 "nbformat": 4,
 "nbformat_minor": 5
}
