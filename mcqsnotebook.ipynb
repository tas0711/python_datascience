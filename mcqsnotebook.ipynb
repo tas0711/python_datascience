{
 "cells": [
  {
   "cell_type": "code",
   "execution_count": 1,
   "id": "e2ca4360",
   "metadata": {
    "_cell_guid": "b1076dfc-b9ad-4769-8c92-a6c4dae69d19",
    "_uuid": "8f2839f25d086af736a60e9eeb907d3b93b6e0e5",
    "execution": {
     "iopub.execute_input": "2022-06-29T00:14:30.197182Z",
     "iopub.status.busy": "2022-06-29T00:14:30.196343Z",
     "iopub.status.idle": "2022-06-29T00:14:30.212273Z",
     "shell.execute_reply": "2022-06-29T00:14:30.211219Z"
    },
    "papermill": {
     "duration": 0.024144,
     "end_time": "2022-06-29T00:14:30.215644",
     "exception": false,
     "start_time": "2022-06-29T00:14:30.191500",
     "status": "completed"
    },
    "tags": []
   },
   "outputs": [],
   "source": [
    "# This Python 3 environment comes with many helpful analytics libraries installed\n",
    "# It is defined by the kaggle/python Docker image: https://github.com/kaggle/docker-python\n",
    "# For example, here's several helpful packages to load\n",
    "\n",
    "import numpy as np # linear algebra\n",
    "import pandas as pd # data processing, CSV file I/O (e.g. pd.read_csv)\n",
    "\n",
    "# Input data files are available in the read-only \"../input/\" directory\n",
    "# For example, running this (by clicking run or pressing Shift+Enter) will list all files under the input directory\n",
    "\n",
    "import os\n",
    "for dirname, _, filenames in os.walk('/kaggle/input'):\n",
    "    for filename in filenames:\n",
    "        print(os.path.join(dirname, filename))\n",
    "\n",
    "# You can write up to 20GB to the current directory (/kaggle/working/) that gets preserved as output when you create a version using \"Save & Run All\" \n",
    "# You can also write temporary files to /kaggle/temp/, but they won't be saved outside of the current session"
   ]
  },
  {
   "cell_type": "code",
   "execution_count": 2,
   "id": "4ae2015a",
   "metadata": {
    "execution": {
     "iopub.execute_input": "2022-06-29T00:14:30.223796Z",
     "iopub.status.busy": "2022-06-29T00:14:30.223148Z",
     "iopub.status.idle": "2022-06-29T00:14:30.228736Z",
     "shell.execute_reply": "2022-06-29T00:14:30.227900Z"
    },
    "papermill": {
     "duration": 0.013269,
     "end_time": "2022-06-29T00:14:30.232199",
     "exception": false,
     "start_time": "2022-06-29T00:14:30.218930",
     "status": "completed"
    },
    "tags": []
   },
   "outputs": [
    {
     "name": "stdout",
     "output_type": "stream",
     "text": [
      "Hi\n"
     ]
    }
   ],
   "source": [
    "a,b=2,3\n",
    "\n",
    "if a<b:\n",
    "  print(\"Hi\")\n",
    "else:\n",
    "  print(\"Bye\") \n"
   ]
  },
  {
   "cell_type": "code",
   "execution_count": 3,
   "id": "7fa88bed",
   "metadata": {
    "execution": {
     "iopub.execute_input": "2022-06-29T00:14:30.240459Z",
     "iopub.status.busy": "2022-06-29T00:14:30.239533Z",
     "iopub.status.idle": "2022-06-29T00:14:30.246436Z",
     "shell.execute_reply": "2022-06-29T00:14:30.245015Z"
    },
    "papermill": {
     "duration": 0.014299,
     "end_time": "2022-06-29T00:14:30.249525",
     "exception": false,
     "start_time": "2022-06-29T00:14:30.235226",
     "status": "completed"
    },
    "tags": []
   },
   "outputs": [
    {
     "name": "stdout",
     "output_type": "stream",
     "text": [
      "print number from range 0 to 9\n",
      "0\n",
      "1\n",
      "2\n",
      "4\n",
      "5\n",
      "6\n"
     ]
    }
   ],
   "source": [
    "print(\"print number from range 0 to 9\")\n",
    "for i in range(7):\n",
    "       if i==3:\n",
    "            continue\n",
    "       print(i)\n",
    "       i=i+1"
   ]
  }
 ],
 "metadata": {
  "kernelspec": {
   "display_name": "Python 3",
   "language": "python",
   "name": "python3"
  },
  "language_info": {
   "codemirror_mode": {
    "name": "ipython",
    "version": 3
   },
   "file_extension": ".py",
   "mimetype": "text/x-python",
   "name": "python",
   "nbconvert_exporter": "python",
   "pygments_lexer": "ipython3",
   "version": "3.7.12"
  },
  "papermill": {
   "default_parameters": {},
   "duration": 10.860179,
   "end_time": "2022-06-29T00:14:30.974281",
   "environment_variables": {},
   "exception": null,
   "input_path": "__notebook__.ipynb",
   "output_path": "__notebook__.ipynb",
   "parameters": {},
   "start_time": "2022-06-29T00:14:20.114102",
   "version": "2.3.4"
  }
 },
 "nbformat": 4,
 "nbformat_minor": 5
}
