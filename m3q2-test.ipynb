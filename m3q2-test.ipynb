{
 "cells": [
  {
   "cell_type": "code",
   "execution_count": 1,
   "id": "2ef2d972",
   "metadata": {
    "_cell_guid": "b1076dfc-b9ad-4769-8c92-a6c4dae69d19",
    "_uuid": "8f2839f25d086af736a60e9eeb907d3b93b6e0e5",
    "execution": {
     "iopub.execute_input": "2022-07-07T02:26:11.580684Z",
     "iopub.status.busy": "2022-07-07T02:26:11.580054Z",
     "iopub.status.idle": "2022-07-07T02:26:11.599255Z",
     "shell.execute_reply": "2022-07-07T02:26:11.597961Z"
    },
    "papermill": {
     "duration": 0.03079,
     "end_time": "2022-07-07T02:26:11.603129",
     "exception": false,
     "start_time": "2022-07-07T02:26:11.572339",
     "status": "completed"
    },
    "tags": []
   },
   "outputs": [],
   "source": [
    "# This Python 3 environment comes with many helpful analytics libraries installed\n",
    "# It is defined by the kaggle/python Docker image: https://github.com/kaggle/docker-python\n",
    "# For example, here's several helpful packages to load\n",
    "\n",
    "import numpy as np # linear algebra\n",
    "import pandas as pd # data processing, CSV file I/O (e.g. pd.read_csv)\n",
    "\n",
    "# Input data files are available in the read-only \"../input/\" directory\n",
    "# For example, running this (by clicking run or pressing Shift+Enter) will list all files under the input directory\n",
    "\n",
    "import os\n",
    "for dirname, _, filenames in os.walk('/kaggle/input'):\n",
    "    for filename in filenames:\n",
    "        print(os.path.join(dirname, filename))\n",
    "\n",
    "# You can write up to 20GB to the current directory (/kaggle/working/) that gets preserved as output when you create a version using \"Save & Run All\" \n",
    "# You can also write temporary files to /kaggle/temp/, but they won't be saved outside of the current session"
   ]
  },
  {
   "cell_type": "markdown",
   "id": "483d3cd4",
   "metadata": {
    "papermill": {
     "duration": 0.004778,
     "end_time": "2022-07-07T02:26:11.613786",
     "exception": false,
     "start_time": "2022-07-07T02:26:11.609008",
     "status": "completed"
    },
    "tags": []
   },
   "source": []
  },
  {
   "cell_type": "markdown",
   "id": "1b3d1d49",
   "metadata": {
    "papermill": {
     "duration": 0.004014,
     "end_time": "2022-07-07T02:26:11.623912",
     "exception": false,
     "start_time": "2022-07-07T02:26:11.619898",
     "status": "completed"
    },
    "tags": []
   },
   "source": [
    "M3Q1. There are two sections in a class. The Intelligent Quotient (IQ) of all students are given below respectively.\n",
    "\n",
    "Section A--IQs of 20 Students    :: 102, 115, 128, 109, 131, 89, 98, 106, 140, 119, 93, 97, 110, 84, 95, 85, 100, 105, 109, 89\n",
    "Section B--IQs of 25 Students:: 127, 162, 131,103, 96, 111, 80, 109, 93, 87, 120, 105, 109, 69, 59, 55, 65, 135, 140, 95, 100, 105, 75, 60, 80\n",
    "\n",
    "Calculate the central tendencies of each section. You must use Python code to do all the measurement. Compare and contrast among the central tendencies of these two sections.\n",
    "\n",
    "How many inferences or KPIs (Key Performance Indicators) you can draw out of these calculations? Please answer elaborately."
   ]
  },
  {
   "cell_type": "code",
   "execution_count": 2,
   "id": "38b329e7",
   "metadata": {
    "execution": {
     "iopub.execute_input": "2022-07-07T02:26:11.635936Z",
     "iopub.status.busy": "2022-07-07T02:26:11.634279Z",
     "iopub.status.idle": "2022-07-07T02:26:11.645086Z",
     "shell.execute_reply": "2022-07-07T02:26:11.642805Z"
    },
    "papermill": {
     "duration": 0.020492,
     "end_time": "2022-07-07T02:26:11.648742",
     "exception": false,
     "start_time": "2022-07-07T02:26:11.628250",
     "status": "completed"
    },
    "tags": []
   },
   "outputs": [],
   "source": [
    "A = np.array([102, 115, 128, 109, 131, 89, 98, 106, 140, 119, 93, 97, 110, 84, 95, 85, 100, 105, 109, 89])\n",
    "B = np.array([127, 162, 131,103, 96, 111, 80, 109, 93, 87, 120, 105, 109, 69, 59, 55, 65, 135, 140, 95, 100, 105, 75, 60, 80])"
   ]
  },
  {
   "cell_type": "code",
   "execution_count": 3,
   "id": "bb655429",
   "metadata": {
    "execution": {
     "iopub.execute_input": "2022-07-07T02:26:11.660468Z",
     "iopub.status.busy": "2022-07-07T02:26:11.660064Z",
     "iopub.status.idle": "2022-07-07T02:26:11.670472Z",
     "shell.execute_reply": "2022-07-07T02:26:11.669175Z"
    },
    "papermill": {
     "duration": 0.018858,
     "end_time": "2022-07-07T02:26:11.673009",
     "exception": false,
     "start_time": "2022-07-07T02:26:11.654151",
     "status": "completed"
    },
    "tags": []
   },
   "outputs": [
    {
     "name": "stdout",
     "output_type": "stream",
     "text": [
      "Mean of A is : 105.2 ; Median of A segment is : 103.5 ; Standard deviation of A segment is : 15.05\n"
     ]
    }
   ],
   "source": [
    "A_mean = np.mean(A)\n",
    "A_median = np.median(A)\n",
    "A_std = np.std(A)\n",
    "\n",
    "print(f'Mean of A is : {A_mean} ; Median of A segment is : {A_median} ; Standard deviation of A segment is : {A_std.round(2)}')"
   ]
  },
  {
   "cell_type": "code",
   "execution_count": 4,
   "id": "b33f601f",
   "metadata": {
    "execution": {
     "iopub.execute_input": "2022-07-07T02:26:11.683997Z",
     "iopub.status.busy": "2022-07-07T02:26:11.683065Z",
     "iopub.status.idle": "2022-07-07T02:26:11.692255Z",
     "shell.execute_reply": "2022-07-07T02:26:11.690637Z"
    },
    "papermill": {
     "duration": 0.017762,
     "end_time": "2022-07-07T02:26:11.695214",
     "exception": false,
     "start_time": "2022-07-07T02:26:11.677452",
     "status": "completed"
    },
    "tags": []
   },
   "outputs": [
    {
     "name": "stdout",
     "output_type": "stream",
     "text": [
      "Mean of B is : 98.84 ; Median of B segment is : 100.0 ; Standard deviation of B segment is : 27.01\n"
     ]
    }
   ],
   "source": [
    "B_mean = np.mean(B)\n",
    "B_median = np.median(B)\n",
    "B_std = np.std(B)\n",
    "\n",
    "print(f'Mean of B is : {B_mean} ; Median of B segment is : {B_median} ; Standard deviation of B segment is : {B_std.round(2)}')"
   ]
  },
  {
   "cell_type": "code",
   "execution_count": 5,
   "id": "80558c0e",
   "metadata": {
    "execution": {
     "iopub.execute_input": "2022-07-07T02:26:11.706551Z",
     "iopub.status.busy": "2022-07-07T02:26:11.706012Z",
     "iopub.status.idle": "2022-07-07T02:26:11.711034Z",
     "shell.execute_reply": "2022-07-07T02:26:11.710062Z"
    },
    "papermill": {
     "duration": 0.013212,
     "end_time": "2022-07-07T02:26:11.713019",
     "exception": false,
     "start_time": "2022-07-07T02:26:11.699807",
     "status": "completed"
    },
    "tags": []
   },
   "outputs": [],
   "source": [
    "import matplotlib.pyplot as plt"
   ]
  },
  {
   "cell_type": "code",
   "execution_count": 6,
   "id": "4ff740a7",
   "metadata": {
    "execution": {
     "iopub.execute_input": "2022-07-07T02:26:11.724222Z",
     "iopub.status.busy": "2022-07-07T02:26:11.723386Z",
     "iopub.status.idle": "2022-07-07T02:26:11.924627Z",
     "shell.execute_reply": "2022-07-07T02:26:11.923411Z"
    },
    "papermill": {
     "duration": 0.210004,
     "end_time": "2022-07-07T02:26:11.927341",
     "exception": false,
     "start_time": "2022-07-07T02:26:11.717337",
     "status": "completed"
    },
    "tags": []
   },
   "outputs": [
    {
     "data": {
      "text/plain": [
       "(array([4., 2., 3., 3., 3., 1., 1., 1., 1., 1.]),\n",
       " array([ 84. ,  89.6,  95.2, 100.8, 106.4, 112. , 117.6, 123.2, 128.8,\n",
       "        134.4, 140. ]),\n",
       " <BarContainer object of 10 artists>)"
      ]
     },
     "execution_count": 6,
     "metadata": {},
     "output_type": "execute_result"
    },
    {
     "data": {
      "image/png": "[encoded data removed]",
      "text/plain": [
       "<Figure size 432x288 with 1 Axes>"
      ]
     },
     "metadata": {
      "needs_background": "light"
     },
     "output_type": "display_data"
    }
   ],
   "source": [
    "plt.hist(A)"
   ]
  },
  {
   "cell_type": "markdown",
   "id": "1141d138",
   "metadata": {
    "papermill": {
     "duration": 0.00428,
     "end_time": "2022-07-07T02:26:11.936438",
     "exception": false,
     "start_time": "2022-07-07T02:26:11.932158",
     "status": "completed"
    },
    "tags": []
   },
   "source": [
    "You need to test whether the given data is normally distributed or not, combining the IQs of both the sections. You have to find out 3 graphical methods and 3 calculation methods to argue that these data are normally distributed."
   ]
  },
  {
   "cell_type": "code",
   "execution_count": 7,
   "id": "c5bde9c0",
   "metadata": {
    "execution": {
     "iopub.execute_input": "2022-07-07T02:26:11.947460Z",
     "iopub.status.busy": "2022-07-07T02:26:11.946715Z",
     "iopub.status.idle": "2022-07-07T02:26:12.102971Z",
     "shell.execute_reply": "2022-07-07T02:26:12.102041Z"
    },
    "papermill": {
     "duration": 0.16495,
     "end_time": "2022-07-07T02:26:12.105910",
     "exception": false,
     "start_time": "2022-07-07T02:26:11.940960",
     "status": "completed"
    },
    "tags": []
   },
   "outputs": [
    {
     "data": {
      "text/plain": [
       "(array([4., 2., 3., 3., 4., 3., 2., 3., 0., 1.]),\n",
       " array([ 55. ,  65.7,  76.4,  87.1,  97.8, 108.5, 119.2, 129.9, 140.6,\n",
       "        151.3, 162. ]),\n",
       " <BarContainer object of 10 artists>)"
      ]
     },
     "execution_count": 7,
     "metadata": {},
     "output_type": "execute_result"
    },
    {
     "data": {
      "image/png": "[encoded data removed]",
      "text/plain": [
       "<Figure size 432x288 with 1 Axes>"
      ]
     },
     "metadata": {
      "needs_background": "light"
     },
     "output_type": "display_data"
    }
   ],
   "source": [
    "plt.hist(B)"
   ]
  },
  {
   "cell_type": "code",
   "execution_count": null,
   "id": "8f342f65",
   "metadata": {
    "execution": {
     "iopub.execute_input": "2022-07-07T02:09:51.800474Z",
     "iopub.status.busy": "2022-07-07T02:09:51.799994Z",
     "iopub.status.idle": "2022-07-07T02:09:52.05263Z",
     "shell.execute_reply": "2022-07-07T02:09:52.050803Z",
     "shell.execute_reply.started": "2022-07-07T02:09:51.800436Z"
    },
    "papermill": {
     "duration": 0.004713,
     "end_time": "2022-07-07T02:26:12.115636",
     "exception": false,
     "start_time": "2022-07-07T02:26:12.110923",
     "status": "completed"
    },
    "tags": []
   },
   "outputs": [],
   "source": []
  },
  {
   "cell_type": "code",
   "execution_count": null,
   "id": "74044ee5",
   "metadata": {
    "execution": {
     "iopub.execute_input": "2022-07-07T02:12:35.024213Z",
     "iopub.status.busy": "2022-07-07T02:12:35.02315Z",
     "iopub.status.idle": "2022-07-07T02:12:35.241395Z",
     "shell.execute_reply": "2022-07-07T02:12:35.239502Z",
     "shell.execute_reply.started": "2022-07-07T02:12:35.024171Z"
    },
    "papermill": {
     "duration": 0.004656,
     "end_time": "2022-07-07T02:26:12.125281",
     "exception": false,
     "start_time": "2022-07-07T02:26:12.120625",
     "status": "completed"
    },
    "tags": []
   },
   "outputs": [],
   "source": []
  }
 ],
 "metadata": {
  "kernelspec": {
   "display_name": "Python 3",
   "language": "python",
   "name": "python3"
  },
  "language_info": {
   "codemirror_mode": {
    "name": "ipython",
    "version": 3
   },
   "file_extension": ".py",
   "mimetype": "text/x-python",
   "name": "python",
   "nbconvert_exporter": "python",
   "pygments_lexer": "ipython3",
   "version": "3.7.12"
  },
  "papermill": {
   "default_parameters": {},
   "duration": 11.653775,
   "end_time": "2022-07-07T02:26:12.851976",
   "environment_variables": {},
   "exception": null,
   "input_path": "__notebook__.ipynb",
   "output_path": "__notebook__.ipynb",
   "parameters": {},
   "start_time": "2022-07-07T02:26:01.198201",
   "version": "2.3.4"
  }
 },
 "nbformat": 4,
 "nbformat_minor": 5
}
