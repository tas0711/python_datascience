{
 "cells": [
  {
   "cell_type": "code",
   "execution_count": 1,
   "id": "ec0f8f2c",
   "metadata": {
    "_cell_guid": "b1076dfc-b9ad-4769-8c92-a6c4dae69d19",
    "_uuid": "8f2839f25d086af736a60e9eeb907d3b93b6e0e5",
    "execution": {
     "iopub.execute_input": "2022-07-11T00:06:00.026625Z",
     "iopub.status.busy": "2022-07-11T00:06:00.026186Z",
     "iopub.status.idle": "2022-07-11T00:06:00.039971Z",
     "shell.execute_reply": "2022-07-11T00:06:00.039012Z"
    },
    "papermill": {
     "duration": 0.022266,
     "end_time": "2022-07-11T00:06:00.042397",
     "exception": false,
     "start_time": "2022-07-11T00:06:00.020131",
     "status": "completed"
    },
    "tags": []
   },
   "outputs": [],
   "source": [
    "# This Python 3 environment comes with many helpful analytics libraries installed\n",
    "# It is defined by the kaggle/python Docker image: https://github.com/kaggle/docker-python\n",
    "# For example, here's several helpful packages to load\n",
    "\n",
    "import numpy as np # linear algebra\n",
    "import pandas as pd # data processing, CSV file I/O (e.g. pd.read_csv)\n",
    "\n",
    "# Input data files are available in the read-only \"../input/\" directory\n",
    "# For example, running this (by clicking run or pressing Shift+Enter) will list all files under the input directory\n",
    "\n",
    "import os\n",
    "for dirname, _, filenames in os.walk('/kaggle/input'):\n",
    "    for filename in filenames:\n",
    "        print(os.path.join(dirname, filename))\n",
    "\n",
    "# You can write up to 20GB to the current directory (/kaggle/working/) that gets preserved as output when you create a version using \"Save & Run All\" \n",
    "# You can also write temporary files to /kaggle/temp/, but they won't be saved outside of the current session"
   ]
  },
  {
   "cell_type": "code",
   "execution_count": 2,
   "id": "8a3a8292",
   "metadata": {
    "execution": {
     "iopub.execute_input": "2022-07-11T00:06:00.051254Z",
     "iopub.status.busy": "2022-07-11T00:06:00.050886Z",
     "iopub.status.idle": "2022-07-11T00:06:00.056142Z",
     "shell.execute_reply": "2022-07-11T00:06:00.054877Z"
    },
    "papermill": {
     "duration": 0.012291,
     "end_time": "2022-07-11T00:06:00.058392",
     "exception": false,
     "start_time": "2022-07-11T00:06:00.046101",
     "status": "completed"
    },
    "tags": []
   },
   "outputs": [],
   "source": [
    "my_dict = {'key1':'value1','key2':'value2'}"
   ]
  },
  {
   "cell_type": "code",
   "execution_count": 3,
   "id": "d19f231b",
   "metadata": {
    "execution": {
     "iopub.execute_input": "2022-07-11T00:06:00.067001Z",
     "iopub.status.busy": "2022-07-11T00:06:00.066660Z",
     "iopub.status.idle": "2022-07-11T00:06:00.074849Z",
     "shell.execute_reply": "2022-07-11T00:06:00.074054Z"
    },
    "papermill": {
     "duration": 0.015228,
     "end_time": "2022-07-11T00:06:00.077176",
     "exception": false,
     "start_time": "2022-07-11T00:06:00.061948",
     "status": "completed"
    },
    "tags": []
   },
   "outputs": [
    {
     "data": {
      "text/plain": [
       "{'key1': 'value1', 'key2': 'value2'}"
      ]
     },
     "execution_count": 3,
     "metadata": {},
     "output_type": "execute_result"
    }
   ],
   "source": [
    "my_dict"
   ]
  },
  {
   "cell_type": "code",
   "execution_count": 4,
   "id": "e1681b65",
   "metadata": {
    "execution": {
     "iopub.execute_input": "2022-07-11T00:06:00.087030Z",
     "iopub.status.busy": "2022-07-11T00:06:00.086230Z",
     "iopub.status.idle": "2022-07-11T00:06:00.092275Z",
     "shell.execute_reply": "2022-07-11T00:06:00.091230Z"
    },
    "papermill": {
     "duration": 0.013373,
     "end_time": "2022-07-11T00:06:00.094337",
     "exception": false,
     "start_time": "2022-07-11T00:06:00.080964",
     "status": "completed"
    },
    "tags": []
   },
   "outputs": [
    {
     "data": {
      "text/plain": [
       "'value1'"
      ]
     },
     "execution_count": 4,
     "metadata": {},
     "output_type": "execute_result"
    }
   ],
   "source": [
    "my_dict['key1']"
   ]
  },
  {
   "cell_type": "code",
   "execution_count": 5,
   "id": "f1a5b4ec",
   "metadata": {
    "execution": {
     "iopub.execute_input": "2022-07-11T00:06:00.104164Z",
     "iopub.status.busy": "2022-07-11T00:06:00.103498Z",
     "iopub.status.idle": "2022-07-11T00:06:00.107764Z",
     "shell.execute_reply": "2022-07-11T00:06:00.106910Z"
    },
    "papermill": {
     "duration": 0.011332,
     "end_time": "2022-07-11T00:06:00.109635",
     "exception": false,
     "start_time": "2022-07-11T00:06:00.098303",
     "status": "completed"
    },
    "tags": []
   },
   "outputs": [],
   "source": [
    "prices_lookup = {'apple':2.99,'orranges':1.99,'milk':5.80}"
   ]
  },
  {
   "cell_type": "code",
   "execution_count": 6,
   "id": "ec5cc06a",
   "metadata": {
    "execution": {
     "iopub.execute_input": "2022-07-11T00:06:00.119049Z",
     "iopub.status.busy": "2022-07-11T00:06:00.118419Z",
     "iopub.status.idle": "2022-07-11T00:06:00.123847Z",
     "shell.execute_reply": "2022-07-11T00:06:00.123092Z"
    },
    "papermill": {
     "duration": 0.012283,
     "end_time": "2022-07-11T00:06:00.125721",
     "exception": false,
     "start_time": "2022-07-11T00:06:00.113438",
     "status": "completed"
    },
    "tags": []
   },
   "outputs": [
    {
     "data": {
      "text/plain": [
       "2.99"
      ]
     },
     "execution_count": 6,
     "metadata": {},
     "output_type": "execute_result"
    }
   ],
   "source": [
    "prices_lookup['apple']"
   ]
  },
  {
   "cell_type": "code",
   "execution_count": 7,
   "id": "ae669e7e",
   "metadata": {
    "execution": {
     "iopub.execute_input": "2022-07-11T00:06:00.135715Z",
     "iopub.status.busy": "2022-07-11T00:06:00.135024Z",
     "iopub.status.idle": "2022-07-11T00:06:00.139795Z",
     "shell.execute_reply": "2022-07-11T00:06:00.138816Z"
    },
    "papermill": {
     "duration": 0.012043,
     "end_time": "2022-07-11T00:06:00.141787",
     "exception": false,
     "start_time": "2022-07-11T00:06:00.129744",
     "status": "completed"
    },
    "tags": []
   },
   "outputs": [],
   "source": [
    "d = {'k1':123,'k2':[0,1,2],'k3':{'insidekey':100}}"
   ]
  },
  {
   "cell_type": "code",
   "execution_count": 8,
   "id": "d88e4f5f",
   "metadata": {
    "execution": {
     "iopub.execute_input": "2022-07-11T00:06:00.151582Z",
     "iopub.status.busy": "2022-07-11T00:06:00.150930Z",
     "iopub.status.idle": "2022-07-11T00:06:00.156606Z",
     "shell.execute_reply": "2022-07-11T00:06:00.155567Z"
    },
    "papermill": {
     "duration": 0.012879,
     "end_time": "2022-07-11T00:06:00.158568",
     "exception": false,
     "start_time": "2022-07-11T00:06:00.145689",
     "status": "completed"
    },
    "tags": []
   },
   "outputs": [
    {
     "data": {
      "text/plain": [
       "[0, 1, 2]"
      ]
     },
     "execution_count": 8,
     "metadata": {},
     "output_type": "execute_result"
    }
   ],
   "source": [
    "d['k2']"
   ]
  },
  {
   "cell_type": "code",
   "execution_count": 9,
   "id": "4b4bea07",
   "metadata": {
    "execution": {
     "iopub.execute_input": "2022-07-11T00:06:00.168981Z",
     "iopub.status.busy": "2022-07-11T00:06:00.168318Z",
     "iopub.status.idle": "2022-07-11T00:06:00.173830Z",
     "shell.execute_reply": "2022-07-11T00:06:00.173134Z"
    },
    "papermill": {
     "duration": 0.012991,
     "end_time": "2022-07-11T00:06:00.175713",
     "exception": false,
     "start_time": "2022-07-11T00:06:00.162722",
     "status": "completed"
    },
    "tags": []
   },
   "outputs": [
    {
     "data": {
      "text/plain": [
       "100"
      ]
     },
     "execution_count": 9,
     "metadata": {},
     "output_type": "execute_result"
    }
   ],
   "source": [
    "d['k3']['insidekey']"
   ]
  },
  {
   "cell_type": "code",
   "execution_count": null,
   "id": "3671af50",
   "metadata": {
    "papermill": {
     "duration": 0.003817,
     "end_time": "2022-07-11T00:06:00.183765",
     "exception": false,
     "start_time": "2022-07-11T00:06:00.179948",
     "status": "completed"
    },
    "tags": []
   },
   "outputs": [],
   "source": []
  }
 ],
 "metadata": {
  "kernelspec": {
   "display_name": "Python 3",
   "language": "python",
   "name": "python3"
  },
  "language_info": {
   "codemirror_mode": {
    "name": "ipython",
    "version": 3
   },
   "file_extension": ".py",
   "mimetype": "text/x-python",
   "name": "python",
   "nbconvert_exporter": "python",
   "pygments_lexer": "ipython3",
   "version": "3.7.12"
  },
  "papermill": {
   "default_parameters": {},
   "duration": 10.652032,
   "end_time": "2022-07-11T00:06:00.809448",
   "environment_variables": {},
   "exception": null,
   "input_path": "__notebook__.ipynb",
   "output_path": "__notebook__.ipynb",
   "parameters": {},
   "start_time": "2022-07-11T00:05:50.157416",
   "version": "2.3.4"
  }
 },
 "nbformat": 4,
 "nbformat_minor": 5
}
