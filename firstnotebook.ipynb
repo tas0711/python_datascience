{
 "cells": [
  {
   "cell_type": "code",
   "execution_count": 1,
   "id": "721450e4",
   "metadata": {
    "_cell_guid": "b1076dfc-b9ad-4769-8c92-a6c4dae69d19",
    "_uuid": "8f2839f25d086af736a60e9eeb907d3b93b6e0e5",
    "execution": {
     "iopub.execute_input": "2022-06-25T13:41:41.944967Z",
     "iopub.status.busy": "2022-06-25T13:41:41.943734Z",
     "iopub.status.idle": "2022-06-25T13:41:41.957961Z",
     "shell.execute_reply": "2022-06-25T13:41:41.957099Z"
    },
    "papermill": {
     "duration": 0.024216,
     "end_time": "2022-06-25T13:41:41.960852",
     "exception": false,
     "start_time": "2022-06-25T13:41:41.936636",
     "status": "completed"
    },
    "tags": []
   },
   "outputs": [],
   "source": [
    "# This Python 3 environment comes with many helpful analytics libraries installed\n",
    "# It is defined by the kaggle/python Docker image: https://github.com/kaggle/docker-python\n",
    "# For example, here's several helpful packages to load\n",
    "\n",
    "import numpy as np # linear algebra\n",
    "import pandas as pd # data processing, CSV file I/O (e.g. pd.read_csv)\n",
    "\n",
    "# Input data files are available in the read-only \"../input/\" directory\n",
    "# For example, running this (by clicking run or pressing Shift+Enter) will list all files under the input directory\n",
    "\n",
    "import os\n",
    "for dirname, _, filenames in os.walk('/kaggle/input'):\n",
    "    for filename in filenames:\n",
    "        print(os.path.join(dirname, filename))\n",
    "\n",
    "# You can write up to 20GB to the current directory (/kaggle/working/) that gets preserved as output when you create a version using \"Save & Run All\" \n",
    "# You can also write temporary files to /kaggle/temp/, but they won't be saved outside of the current session"
   ]
  },
  {
   "cell_type": "code",
   "execution_count": 2,
   "id": "90d92077",
   "metadata": {
    "execution": {
     "iopub.execute_input": "2022-06-25T13:41:41.970193Z",
     "iopub.status.busy": "2022-06-25T13:41:41.969353Z",
     "iopub.status.idle": "2022-06-25T13:41:41.974237Z",
     "shell.execute_reply": "2022-06-25T13:41:41.973254Z"
    },
    "papermill": {
     "duration": 0.011901,
     "end_time": "2022-06-25T13:41:41.976485",
     "exception": false,
     "start_time": "2022-06-25T13:41:41.964584",
     "status": "completed"
    },
    "tags": []
   },
   "outputs": [],
   "source": [
    "print =\"Hello world\""
   ]
  },
  {
   "cell_type": "code",
   "execution_count": 3,
   "id": "e33113bf",
   "metadata": {
    "execution": {
     "iopub.execute_input": "2022-06-25T13:41:41.983212Z",
     "iopub.status.busy": "2022-06-25T13:41:41.982294Z",
     "iopub.status.idle": "2022-06-25T13:41:41.991310Z",
     "shell.execute_reply": "2022-06-25T13:41:41.990338Z"
    },
    "papermill": {
     "duration": 0.01513,
     "end_time": "2022-06-25T13:41:41.994189",
     "exception": false,
     "start_time": "2022-06-25T13:41:41.979059",
     "status": "completed"
    },
    "tags": []
   },
   "outputs": [
    {
     "data": {
      "text/plain": [
       "2"
      ]
     },
     "execution_count": 3,
     "metadata": {},
     "output_type": "execute_result"
    }
   ],
   "source": [
    "1+1"
   ]
  },
  {
   "cell_type": "code",
   "execution_count": 4,
   "id": "be0886da",
   "metadata": {
    "execution": {
     "iopub.execute_input": "2022-06-25T13:41:42.004194Z",
     "iopub.status.busy": "2022-06-25T13:41:42.003680Z",
     "iopub.status.idle": "2022-06-25T13:41:42.007818Z",
     "shell.execute_reply": "2022-06-25T13:41:42.006980Z"
    },
    "papermill": {
     "duration": 0.011639,
     "end_time": "2022-06-25T13:41:42.010004",
     "exception": false,
     "start_time": "2022-06-25T13:41:41.998365",
     "status": "completed"
    },
    "tags": []
   },
   "outputs": [],
   "source": [
    "list_1 = [1,5,9]"
   ]
  },
  {
   "cell_type": "code",
   "execution_count": 5,
   "id": "083f541b",
   "metadata": {
    "execution": {
     "iopub.execute_input": "2022-06-25T13:41:42.018917Z",
     "iopub.status.busy": "2022-06-25T13:41:42.018486Z",
     "iopub.status.idle": "2022-06-25T13:41:42.023636Z",
     "shell.execute_reply": "2022-06-25T13:41:42.022044Z"
    },
    "papermill": {
     "duration": 0.01254,
     "end_time": "2022-06-25T13:41:42.026173",
     "exception": false,
     "start_time": "2022-06-25T13:41:42.013633",
     "status": "completed"
    },
    "tags": []
   },
   "outputs": [],
   "source": [
    "list_2 = list_1"
   ]
  },
  {
   "cell_type": "code",
   "execution_count": 6,
   "id": "3804cb2b",
   "metadata": {
    "execution": {
     "iopub.execute_input": "2022-06-25T13:41:42.037340Z",
     "iopub.status.busy": "2022-06-25T13:41:42.036976Z",
     "iopub.status.idle": "2022-06-25T13:41:42.041674Z",
     "shell.execute_reply": "2022-06-25T13:41:42.041087Z"
    },
    "papermill": {
     "duration": 0.013579,
     "end_time": "2022-06-25T13:41:42.043639",
     "exception": false,
     "start_time": "2022-06-25T13:41:42.030060",
     "status": "completed"
    },
    "tags": []
   },
   "outputs": [
    {
     "data": {
      "text/plain": [
       "[1, 5, 9]"
      ]
     },
     "execution_count": 6,
     "metadata": {},
     "output_type": "execute_result"
    }
   ],
   "source": [
    "list_2"
   ]
  },
  {
   "cell_type": "code",
   "execution_count": null,
   "id": "0443734a",
   "metadata": {
    "papermill": {
     "duration": 0.002331,
     "end_time": "2022-06-25T13:41:42.048796",
     "exception": false,
     "start_time": "2022-06-25T13:41:42.046465",
     "status": "completed"
    },
    "tags": []
   },
   "outputs": [],
   "source": []
  },
  {
   "cell_type": "code",
   "execution_count": null,
   "id": "e84f2b4b",
   "metadata": {
    "papermill": {
     "duration": 0.002491,
     "end_time": "2022-06-25T13:41:42.053956",
     "exception": false,
     "start_time": "2022-06-25T13:41:42.051465",
     "status": "completed"
    },
    "tags": []
   },
   "outputs": [],
   "source": []
  }
 ],
 "metadata": {
  "kernelspec": {
   "display_name": "Python 3",
   "language": "python",
   "name": "python3"
  },
  "language_info": {
   "codemirror_mode": {
    "name": "ipython",
    "version": 3
   },
   "file_extension": ".py",
   "mimetype": "text/x-python",
   "name": "python",
   "nbconvert_exporter": "python",
   "pygments_lexer": "ipython3",
   "version": "3.7.12"
  },
  "papermill": {
   "default_parameters": {},
   "duration": 8.802262,
   "end_time": "2022-06-25T13:41:42.676637",
   "environment_variables": {},
   "exception": null,
   "input_path": "__notebook__.ipynb",
   "output_path": "__notebook__.ipynb",
   "parameters": {},
   "start_time": "2022-06-25T13:41:33.874375",
   "version": "2.3.4"
  }
 },
 "nbformat": 4,
 "nbformat_minor": 5
}
