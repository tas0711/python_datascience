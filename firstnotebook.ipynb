{
 "cells": [
  {
   "cell_type": "code",
   "execution_count": 1,
   "id": "ffe03986",
   "metadata": {
    "_cell_guid": "b1076dfc-b9ad-4769-8c92-a6c4dae69d19",
    "_uuid": "8f2839f25d086af736a60e9eeb907d3b93b6e0e5",
    "execution": {
     "iopub.execute_input": "2022-06-30T00:17:42.538442Z",
     "iopub.status.busy": "2022-06-30T00:17:42.538028Z",
     "iopub.status.idle": "2022-06-30T00:17:42.549773Z",
     "shell.execute_reply": "2022-06-30T00:17:42.549025Z"
    },
    "papermill": {
     "duration": 0.019978,
     "end_time": "2022-06-30T00:17:42.551861",
     "exception": false,
     "start_time": "2022-06-30T00:17:42.531883",
     "status": "completed"
    },
    "tags": []
   },
   "outputs": [],
   "source": [
    "# This Python 3 environment comes with many helpful analytics libraries installed\n",
    "# It is defined by the kaggle/python Docker image: https://github.com/kaggle/docker-python\n",
    "# For example, here's several helpful packages to load\n",
    "\n",
    "import numpy as np # linear algebra\n",
    "import pandas as pd # data processing, CSV file I/O (e.g. pd.read_csv)\n",
    "\n",
    "# Input data files are available in the read-only \"../input/\" directory\n",
    "# For example, running this (by clicking run or pressing Shift+Enter) will list all files under the input directory\n",
    "\n",
    "import os\n",
    "for dirname, _, filenames in os.walk('/kaggle/input'):\n",
    "    for filename in filenames:\n",
    "        print(os.path.join(dirname, filename))\n",
    "\n",
    "# You can write up to 20GB to the current directory (/kaggle/working/) that gets preserved as output when you create a version using \"Save & Run All\" \n",
    "# You can also write temporary files to /kaggle/temp/, but they won't be saved outside of the current session"
   ]
  },
  {
   "cell_type": "code",
   "execution_count": 2,
   "id": "ffffae44",
   "metadata": {
    "execution": {
     "iopub.execute_input": "2022-06-30T00:17:42.561268Z",
     "iopub.status.busy": "2022-06-30T00:17:42.560508Z",
     "iopub.status.idle": "2022-06-30T00:17:42.565256Z",
     "shell.execute_reply": "2022-06-30T00:17:42.564392Z"
    },
    "papermill": {
     "duration": 0.011576,
     "end_time": "2022-06-30T00:17:42.567302",
     "exception": false,
     "start_time": "2022-06-30T00:17:42.555726",
     "status": "completed"
    },
    "tags": []
   },
   "outputs": [],
   "source": [
    "print =\"Hello world\""
   ]
  },
  {
   "cell_type": "code",
   "execution_count": 3,
   "id": "b5c313e0",
   "metadata": {
    "execution": {
     "iopub.execute_input": "2022-06-30T00:17:42.576563Z",
     "iopub.status.busy": "2022-06-30T00:17:42.575812Z",
     "iopub.status.idle": "2022-06-30T00:17:42.584478Z",
     "shell.execute_reply": "2022-06-30T00:17:42.583354Z"
    },
    "papermill": {
     "duration": 0.015996,
     "end_time": "2022-06-30T00:17:42.586795",
     "exception": false,
     "start_time": "2022-06-30T00:17:42.570799",
     "status": "completed"
    },
    "tags": []
   },
   "outputs": [
    {
     "data": {
      "text/plain": [
       "2"
      ]
     },
     "execution_count": 3,
     "metadata": {},
     "output_type": "execute_result"
    }
   ],
   "source": [
    "1+1"
   ]
  },
  {
   "cell_type": "code",
   "execution_count": 4,
   "id": "359e27e1",
   "metadata": {
    "execution": {
     "iopub.execute_input": "2022-06-30T00:17:42.596448Z",
     "iopub.status.busy": "2022-06-30T00:17:42.595704Z",
     "iopub.status.idle": "2022-06-30T00:17:42.600513Z",
     "shell.execute_reply": "2022-06-30T00:17:42.599620Z"
    },
    "papermill": {
     "duration": 0.012183,
     "end_time": "2022-06-30T00:17:42.602725",
     "exception": false,
     "start_time": "2022-06-30T00:17:42.590542",
     "status": "completed"
    },
    "tags": []
   },
   "outputs": [],
   "source": [
    "list_1 = [1,5,9]"
   ]
  },
  {
   "cell_type": "code",
   "execution_count": 5,
   "id": "b4de6637",
   "metadata": {
    "execution": {
     "iopub.execute_input": "2022-06-30T00:17:42.612732Z",
     "iopub.status.busy": "2022-06-30T00:17:42.612042Z",
     "iopub.status.idle": "2022-06-30T00:17:42.616655Z",
     "shell.execute_reply": "2022-06-30T00:17:42.615890Z"
    },
    "papermill": {
     "duration": 0.012178,
     "end_time": "2022-06-30T00:17:42.618817",
     "exception": false,
     "start_time": "2022-06-30T00:17:42.606639",
     "status": "completed"
    },
    "tags": []
   },
   "outputs": [],
   "source": [
    "list_2 = list_1"
   ]
  },
  {
   "cell_type": "code",
   "execution_count": 6,
   "id": "d37fb0dd",
   "metadata": {
    "execution": {
     "iopub.execute_input": "2022-06-30T00:17:42.628219Z",
     "iopub.status.busy": "2022-06-30T00:17:42.627470Z",
     "iopub.status.idle": "2022-06-30T00:17:42.633790Z",
     "shell.execute_reply": "2022-06-30T00:17:42.633034Z"
    },
    "papermill": {
     "duration": 0.01329,
     "end_time": "2022-06-30T00:17:42.635748",
     "exception": false,
     "start_time": "2022-06-30T00:17:42.622458",
     "status": "completed"
    },
    "tags": []
   },
   "outputs": [
    {
     "data": {
      "text/plain": [
       "[1, 5, 9]"
      ]
     },
     "execution_count": 6,
     "metadata": {},
     "output_type": "execute_result"
    }
   ],
   "source": [
    "list_2"
   ]
  },
  {
   "cell_type": "code",
   "execution_count": 7,
   "id": "bf39eeac",
   "metadata": {
    "execution": {
     "iopub.execute_input": "2022-06-30T00:17:42.645291Z",
     "iopub.status.busy": "2022-06-30T00:17:42.644345Z",
     "iopub.status.idle": "2022-06-30T00:17:42.649869Z",
     "shell.execute_reply": "2022-06-30T00:17:42.648787Z"
    },
    "papermill": {
     "duration": 0.012549,
     "end_time": "2022-06-30T00:17:42.651973",
     "exception": false,
     "start_time": "2022-06-30T00:17:42.639424",
     "status": "completed"
    },
    "tags": []
   },
   "outputs": [],
   "source": [
    "t = (1,2,3)"
   ]
  },
  {
   "cell_type": "code",
   "execution_count": 8,
   "id": "968ec174",
   "metadata": {
    "execution": {
     "iopub.execute_input": "2022-06-30T00:17:42.661589Z",
     "iopub.status.busy": "2022-06-30T00:17:42.660830Z",
     "iopub.status.idle": "2022-06-30T00:17:42.665702Z",
     "shell.execute_reply": "2022-06-30T00:17:42.664732Z"
    },
    "papermill": {
     "duration": 0.012036,
     "end_time": "2022-06-30T00:17:42.667746",
     "exception": false,
     "start_time": "2022-06-30T00:17:42.655710",
     "status": "completed"
    },
    "tags": []
   },
   "outputs": [],
   "source": [
    "mylist = [1,2,3]"
   ]
  },
  {
   "cell_type": "code",
   "execution_count": 9,
   "id": "3f8c25e0",
   "metadata": {
    "execution": {
     "iopub.execute_input": "2022-06-30T00:17:42.677461Z",
     "iopub.status.busy": "2022-06-30T00:17:42.676600Z",
     "iopub.status.idle": "2022-06-30T00:17:42.682968Z",
     "shell.execute_reply": "2022-06-30T00:17:42.682183Z"
    },
    "papermill": {
     "duration": 0.013694,
     "end_time": "2022-06-30T00:17:42.685083",
     "exception": false,
     "start_time": "2022-06-30T00:17:42.671389",
     "status": "completed"
    },
    "tags": []
   },
   "outputs": [
    {
     "data": {
      "text/plain": [
       "tuple"
      ]
     },
     "execution_count": 9,
     "metadata": {},
     "output_type": "execute_result"
    }
   ],
   "source": [
    "type(t)"
   ]
  },
  {
   "cell_type": "code",
   "execution_count": 10,
   "id": "feab9263",
   "metadata": {
    "execution": {
     "iopub.execute_input": "2022-06-30T00:17:42.694845Z",
     "iopub.status.busy": "2022-06-30T00:17:42.694138Z",
     "iopub.status.idle": "2022-06-30T00:17:42.700334Z",
     "shell.execute_reply": "2022-06-30T00:17:42.699451Z"
    },
    "papermill": {
     "duration": 0.01318,
     "end_time": "2022-06-30T00:17:42.702312",
     "exception": false,
     "start_time": "2022-06-30T00:17:42.689132",
     "status": "completed"
    },
    "tags": []
   },
   "outputs": [
    {
     "data": {
      "text/plain": [
       "list"
      ]
     },
     "execution_count": 10,
     "metadata": {},
     "output_type": "execute_result"
    }
   ],
   "source": [
    "type(mylist)"
   ]
  },
  {
   "cell_type": "code",
   "execution_count": 11,
   "id": "6d248349",
   "metadata": {
    "execution": {
     "iopub.execute_input": "2022-06-30T00:17:42.712465Z",
     "iopub.status.busy": "2022-06-30T00:17:42.711727Z",
     "iopub.status.idle": "2022-06-30T00:17:42.718424Z",
     "shell.execute_reply": "2022-06-30T00:17:42.717630Z"
    },
    "papermill": {
     "duration": 0.014337,
     "end_time": "2022-06-30T00:17:42.720496",
     "exception": false,
     "start_time": "2022-06-30T00:17:42.706159",
     "status": "completed"
    },
    "tags": []
   },
   "outputs": [
    {
     "data": {
      "text/plain": [
       "3"
      ]
     },
     "execution_count": 11,
     "metadata": {},
     "output_type": "execute_result"
    }
   ],
   "source": [
    "len(t)"
   ]
  },
  {
   "cell_type": "code",
   "execution_count": 12,
   "id": "a14d72b2",
   "metadata": {
    "execution": {
     "iopub.execute_input": "2022-06-30T00:17:42.730353Z",
     "iopub.status.busy": "2022-06-30T00:17:42.729700Z",
     "iopub.status.idle": "2022-06-30T00:17:42.735853Z",
     "shell.execute_reply": "2022-06-30T00:17:42.734934Z"
    },
    "papermill": {
     "duration": 0.013474,
     "end_time": "2022-06-30T00:17:42.737928",
     "exception": false,
     "start_time": "2022-06-30T00:17:42.724454",
     "status": "completed"
    },
    "tags": []
   },
   "outputs": [
    {
     "data": {
      "text/plain": [
       "(1, 2, 3)"
      ]
     },
     "execution_count": 12,
     "metadata": {},
     "output_type": "execute_result"
    }
   ],
   "source": [
    "t"
   ]
  },
  {
   "cell_type": "code",
   "execution_count": 13,
   "id": "39c30210",
   "metadata": {
    "execution": {
     "iopub.execute_input": "2022-06-30T00:17:42.747894Z",
     "iopub.status.busy": "2022-06-30T00:17:42.747192Z",
     "iopub.status.idle": "2022-06-30T00:17:42.751691Z",
     "shell.execute_reply": "2022-06-30T00:17:42.750977Z"
    },
    "papermill": {
     "duration": 0.011772,
     "end_time": "2022-06-30T00:17:42.753648",
     "exception": false,
     "start_time": "2022-06-30T00:17:42.741876",
     "status": "completed"
    },
    "tags": []
   },
   "outputs": [],
   "source": [
    "t = ['one',2]"
   ]
  },
  {
   "cell_type": "code",
   "execution_count": 14,
   "id": "ab5a0eff",
   "metadata": {
    "execution": {
     "iopub.execute_input": "2022-06-30T00:17:42.763680Z",
     "iopub.status.busy": "2022-06-30T00:17:42.762947Z",
     "iopub.status.idle": "2022-06-30T00:17:42.769213Z",
     "shell.execute_reply": "2022-06-30T00:17:42.768417Z"
    },
    "papermill": {
     "duration": 0.013611,
     "end_time": "2022-06-30T00:17:42.771189",
     "exception": false,
     "start_time": "2022-06-30T00:17:42.757578",
     "status": "completed"
    },
    "tags": []
   },
   "outputs": [
    {
     "data": {
      "text/plain": [
       "'one'"
      ]
     },
     "execution_count": 14,
     "metadata": {},
     "output_type": "execute_result"
    }
   ],
   "source": [
    "t[0]"
   ]
  },
  {
   "cell_type": "code",
   "execution_count": null,
   "id": "55352059",
   "metadata": {
    "papermill": {
     "duration": 0.003837,
     "end_time": "2022-06-30T00:17:42.779045",
     "exception": false,
     "start_time": "2022-06-30T00:17:42.775208",
     "status": "completed"
    },
    "tags": []
   },
   "outputs": [],
   "source": []
  }
 ],
 "metadata": {
  "kernelspec": {
   "display_name": "Python 3",
   "language": "python",
   "name": "python3"
  },
  "language_info": {
   "codemirror_mode": {
    "name": "ipython",
    "version": 3
   },
   "file_extension": ".py",
   "mimetype": "text/x-python",
   "name": "python",
   "nbconvert_exporter": "python",
   "pygments_lexer": "ipython3",
   "version": "3.7.12"
  },
  "papermill": {
   "default_parameters": {},
   "duration": 10.035472,
   "end_time": "2022-06-30T00:17:43.404191",
   "environment_variables": {},
   "exception": null,
   "input_path": "__notebook__.ipynb",
   "output_path": "__notebook__.ipynb",
   "parameters": {},
   "start_time": "2022-06-30T00:17:33.368719",
   "version": "2.3.4"
  }
 },
 "nbformat": 4,
 "nbformat_minor": 5
}
