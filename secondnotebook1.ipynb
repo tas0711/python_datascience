{
 "cells": [
  {
   "cell_type": "markdown",
   "id": "095ef762",
   "metadata": {
    "_cell_guid": "b1076dfc-b9ad-4769-8c92-a6c4dae69d19",
    "_uuid": "8f2839f25d086af736a60e9eeb907d3b93b6e0e5",
    "papermill": {
     "duration": 0.003101,
     "end_time": "2022-07-05T02:32:12.532187",
     "exception": false,
     "start_time": "2022-07-05T02:32:12.529086",
     "status": "completed"
    },
    "tags": []
   },
   "source": [
    "# This Python 3 environment comes with many helpful analytics libraries installed\n",
    "# It is defined by the kaggle/python Docker image: https://github.com/kaggle/docker-python\n",
    "# For example, here's several helpful packages to load\n",
    "\n",
    "import numpy as np # linear algebra\n",
    "import pandas as pd # data processing, CSV file I/O (e.g. pd.read_csv)\n",
    "\n",
    "# Input data files are available in the read-only \"../input/\" directory\n",
    "# For example, running this (by clicking run or pressing Shift+Enter) will list all files under the input directory\n",
    "\n",
    "import os\n",
    "for dirname, _, filenames in os.walk('/kaggle/input'):\n",
    "    for filename in filenames:\n",
    "        print(os.path.join(dirname, filename))\n",
    "\n",
    "# You can write up to 20GB to the current directory (/kaggle/working/) that gets preserved as output when you create a version using \"Save & Run All\" \n",
    "# You can also write temporary files to /kaggle/temp/, but they won't be saved outside of the current session"
   ]
  },
  {
   "cell_type": "code",
   "execution_count": 1,
   "id": "b30d1b8c",
   "metadata": {
    "execution": {
     "iopub.execute_input": "2022-07-05T02:32:12.539393Z",
     "iopub.status.busy": "2022-07-05T02:32:12.538511Z",
     "iopub.status.idle": "2022-07-05T02:32:12.553254Z",
     "shell.execute_reply": "2022-07-05T02:32:12.552386Z"
    },
    "papermill": {
     "duration": 0.021272,
     "end_time": "2022-07-05T02:32:12.555874",
     "exception": false,
     "start_time": "2022-07-05T02:32:12.534602",
     "status": "completed"
    },
    "tags": []
   },
   "outputs": [],
   "source": [
    "def List2Dictionary(wordslist):\n",
    "    \n",
    "    words_dict = dict()\n",
    "    word_count = 0\n",
    "    i=0\n",
    "    \n",
    "    for word in wordslist:\n",
    "        for i in range(len(wordslist)):\n",
    "            if word.lower() == wordslist[i].lower():\n",
    "                word_count = word_count + 1\n",
    "        \n",
    "        words_dict[word.lower()] = word_count\n",
    "        word_count=0    \n",
    "        \n",
    "    print(words_dict)"
   ]
  },
  {
   "cell_type": "code",
   "execution_count": 2,
   "id": "e54cb106",
   "metadata": {
    "execution": {
     "iopub.execute_input": "2022-07-05T02:32:12.562257Z",
     "iopub.status.busy": "2022-07-05T02:32:12.561538Z",
     "iopub.status.idle": "2022-07-05T02:32:12.567093Z",
     "shell.execute_reply": "2022-07-05T02:32:12.566358Z"
    },
    "papermill": {
     "duration": 0.011663,
     "end_time": "2022-07-05T02:32:12.569763",
     "exception": false,
     "start_time": "2022-07-05T02:32:12.558100",
     "status": "completed"
    },
    "tags": []
   },
   "outputs": [
    {
     "name": "stdout",
     "output_type": "stream",
     "text": [
      "{'a': 2, 'an': 2, 'the': 1}\n"
     ]
    }
   ],
   "source": [
    "List2Dictionary(['a','an', 'a', 'an', 'the'])"
   ]
  },
  {
   "cell_type": "code",
   "execution_count": null,
   "id": "25595515",
   "metadata": {
    "papermill": {
     "duration": 0.001892,
     "end_time": "2022-07-05T02:32:12.574727",
     "exception": false,
     "start_time": "2022-07-05T02:32:12.572835",
     "status": "completed"
    },
    "tags": []
   },
   "outputs": [],
   "source": []
  }
 ],
 "metadata": {
  "kernelspec": {
   "display_name": "Python 3",
   "language": "python",
   "name": "python3"
  },
  "language_info": {
   "codemirror_mode": {
    "name": "ipython",
    "version": 3
   },
   "file_extension": ".py",
   "mimetype": "text/x-python",
   "name": "python",
   "nbconvert_exporter": "python",
   "pygments_lexer": "ipython3",
   "version": "3.7.12"
  },
  "papermill": {
   "default_parameters": {},
   "duration": 10.687855,
   "end_time": "2022-07-05T02:32:13.398299",
   "environment_variables": {},
   "exception": null,
   "input_path": "__notebook__.ipynb",
   "output_path": "__notebook__.ipynb",
   "parameters": {},
   "start_time": "2022-07-05T02:32:02.710444",
   "version": "2.3.4"
  }
 },
 "nbformat": 4,
 "nbformat_minor": 5
}
