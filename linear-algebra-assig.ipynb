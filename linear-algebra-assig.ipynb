{
 "cells": [
  {
   "cell_type": "code",
   "execution_count": 1,
   "id": "edee1fb2",
   "metadata": {
    "_cell_guid": "b1076dfc-b9ad-4769-8c92-a6c4dae69d19",
    "_uuid": "8f2839f25d086af736a60e9eeb907d3b93b6e0e5",
    "execution": {
     "iopub.execute_input": "2022-07-16T01:05:13.760870Z",
     "iopub.status.busy": "2022-07-16T01:05:13.759330Z",
     "iopub.status.idle": "2022-07-16T01:05:13.779108Z",
     "shell.execute_reply": "2022-07-16T01:05:13.777711Z"
    },
    "papermill": {
     "duration": 0.028403,
     "end_time": "2022-07-16T01:05:13.782034",
     "exception": false,
     "start_time": "2022-07-16T01:05:13.753631",
     "status": "completed"
    },
    "tags": []
   },
   "outputs": [],
   "source": [
    "# This Python 3 environment comes with many helpful analytics libraries installed\n",
    "# It is defined by the kaggle/python Docker image: https://github.com/kaggle/docker-python\n",
    "# For example, here's several helpful packages to load\n",
    "\n",
    "import numpy as np # linear algebra\n",
    "import pandas as pd # data processing, CSV file I/O (e.g. pd.read_csv)\n",
    "\n",
    "# Input data files are available in the read-only \"../input/\" directory\n",
    "# For example, running this (by clicking run or pressing Shift+Enter) will list all files under the input directory\n",
    "\n",
    "import os\n",
    "for dirname, _, filenames in os.walk('/kaggle/input'):\n",
    "    for filename in filenames:\n",
    "        print(os.path.join(dirname, filename))\n",
    "\n",
    "# You can write up to 20GB to the current directory (/kaggle/working/) that gets preserved as output when you create a version using \"Save & Run All\" \n",
    "# You can also write temporary files to /kaggle/temp/, but they won't be saved outside of the current session"
   ]
  },
  {
   "cell_type": "code",
   "execution_count": 2,
   "id": "47d22d44",
   "metadata": {
    "execution": {
     "iopub.execute_input": "2022-07-16T01:05:13.789893Z",
     "iopub.status.busy": "2022-07-16T01:05:13.789001Z",
     "iopub.status.idle": "2022-07-16T01:05:15.013822Z",
     "shell.execute_reply": "2022-07-16T01:05:15.012820Z"
    },
    "papermill": {
     "duration": 1.231466,
     "end_time": "2022-07-16T01:05:15.016455",
     "exception": false,
     "start_time": "2022-07-16T01:05:13.784989",
     "status": "completed"
    },
    "tags": []
   },
   "outputs": [],
   "source": [
    " import numpy as np\n",
    "import matplotlib.pyplot as plt\n",
    " import seaborn as sns"
   ]
  },
  {
   "cell_type": "code",
   "execution_count": 3,
   "id": "ebf37264",
   "metadata": {
    "execution": {
     "iopub.execute_input": "2022-07-16T01:05:15.023841Z",
     "iopub.status.busy": "2022-07-16T01:05:15.023439Z",
     "iopub.status.idle": "2022-07-16T01:05:15.266163Z",
     "shell.execute_reply": "2022-07-16T01:05:15.264779Z"
    },
    "papermill": {
     "duration": 0.251008,
     "end_time": "2022-07-16T01:05:15.270243",
     "exception": false,
     "start_time": "2022-07-16T01:05:15.019235",
     "status": "completed"
    },
    "tags": []
   },
   "outputs": [
    {
     "data": {
      "image/png": "[encoded data removed]",
      "text/plain": [
       "<Figure size 432x288 with 1 Axes>"
      ]
     },
     "metadata": {
      "needs_background": "light"
     },
     "output_type": "display_data"
    }
   ],
   "source": [
    "plt.quiver(0,0,4,5)\n",
    "plt.show()"
   ]
  },
  {
   "cell_type": "code",
   "execution_count": 4,
   "id": "a5873055",
   "metadata": {
    "execution": {
     "iopub.execute_input": "2022-07-16T01:05:15.284238Z",
     "iopub.status.busy": "2022-07-16T01:05:15.283281Z",
     "iopub.status.idle": "2022-07-16T01:05:15.524492Z",
     "shell.execute_reply": "2022-07-16T01:05:15.523068Z"
    },
    "papermill": {
     "duration": 0.253028,
     "end_time": "2022-07-16T01:05:15.528924",
     "exception": false,
     "start_time": "2022-07-16T01:05:15.275896",
     "status": "completed"
    },
    "tags": []
   },
   "outputs": [
    {
     "data": {
      "image/png": "[encoded data removed]",
      "text/plain": [
       "<Figure size 432x288 with 1 Axes>"
      ]
     },
     "metadata": {
      "needs_background": "light"
     },
     "output_type": "display_data"
    }
   ],
   "source": [
    "plt.quiver(0,0,4,5, scale_units='xy', angles='xy', scale=1)\n",
    "plt.xlim(-8,8)\n",
    "plt.ylim(-8,8)\n",
    "plt.show()"
   ]
  },
  {
   "cell_type": "code",
   "execution_count": 5,
   "id": "e8830995",
   "metadata": {
    "execution": {
     "iopub.execute_input": "2022-07-16T01:05:15.543373Z",
     "iopub.status.busy": "2022-07-16T01:05:15.542423Z",
     "iopub.status.idle": "2022-07-16T01:05:15.778477Z",
     "shell.execute_reply": "2022-07-16T01:05:15.777147Z"
    },
    "papermill": {
     "duration": 0.247879,
     "end_time": "2022-07-16T01:05:15.782458",
     "exception": false,
     "start_time": "2022-07-16T01:05:15.534579",
     "status": "completed"
    },
    "tags": []
   },
   "outputs": [
    {
     "data": {
      "image/png": "[encoded data removed]",
      "text/plain": [
       "<Figure size 432x288 with 1 Axes>"
      ]
     },
     "metadata": {
      "needs_background": "light"
     },
     "output_type": "display_data"
    }
   ],
   "source": [
    "plt.quiver(0,0,4,5, scale_units='xy', angles='xy', scale=1, color='b')\n",
    "plt.xlim(-8,8)\n",
    "plt.ylim(-8,8)\n",
    "plt.show()"
   ]
  },
  {
   "cell_type": "code",
   "execution_count": null,
   "id": "1a08be92",
   "metadata": {
    "papermill": {
     "duration": 0.005526,
     "end_time": "2022-07-16T01:05:15.794081",
     "exception": false,
     "start_time": "2022-07-16T01:05:15.788555",
     "status": "completed"
    },
    "tags": []
   },
   "outputs": [],
   "source": []
  }
 ],
 "metadata": {
  "kernelspec": {
   "display_name": "Python 3",
   "language": "python",
   "name": "python3"
  },
  "language_info": {
   "codemirror_mode": {
    "name": "ipython",
    "version": 3
   },
   "file_extension": ".py",
   "mimetype": "text/x-python",
   "name": "python",
   "nbconvert_exporter": "python",
   "pygments_lexer": "ipython3",
   "version": "3.7.12"
  },
  "papermill": {
   "default_parameters": {},
   "duration": 13.703431,
   "end_time": "2022-07-16T01:05:16.522109",
   "environment_variables": {},
   "exception": null,
   "input_path": "__notebook__.ipynb",
   "output_path": "__notebook__.ipynb",
   "parameters": {},
   "start_time": "2022-07-16T01:05:02.818678",
   "version": "2.3.4"
  }
 },
 "nbformat": 4,
 "nbformat_minor": 5
}
