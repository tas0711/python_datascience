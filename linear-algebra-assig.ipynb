{
 "cells": [
  {
   "cell_type": "code",
   "execution_count": 1,
   "id": "17c7c243",
   "metadata": {
    "_cell_guid": "b1076dfc-b9ad-4769-8c92-a6c4dae69d19",
    "_uuid": "8f2839f25d086af736a60e9eeb907d3b93b6e0e5",
    "execution": {
     "iopub.execute_input": "2022-07-16T00:53:12.241023Z",
     "iopub.status.busy": "2022-07-16T00:53:12.240579Z",
     "iopub.status.idle": "2022-07-16T00:53:12.254418Z",
     "shell.execute_reply": "2022-07-16T00:53:12.253568Z"
    },
    "papermill": {
     "duration": 0.021259,
     "end_time": "2022-07-16T00:53:12.256757",
     "exception": false,
     "start_time": "2022-07-16T00:53:12.235498",
     "status": "completed"
    },
    "tags": []
   },
   "outputs": [],
   "source": [
    "# This Python 3 environment comes with many helpful analytics libraries installed\n",
    "# It is defined by the kaggle/python Docker image: https://github.com/kaggle/docker-python\n",
    "# For example, here's several helpful packages to load\n",
    "\n",
    "import numpy as np # linear algebra\n",
    "import pandas as pd # data processing, CSV file I/O (e.g. pd.read_csv)\n",
    "\n",
    "# Input data files are available in the read-only \"../input/\" directory\n",
    "# For example, running this (by clicking run or pressing Shift+Enter) will list all files under the input directory\n",
    "\n",
    "import os\n",
    "for dirname, _, filenames in os.walk('/kaggle/input'):\n",
    "    for filename in filenames:\n",
    "        print(os.path.join(dirname, filename))\n",
    "\n",
    "# You can write up to 20GB to the current directory (/kaggle/working/) that gets preserved as output when you create a version using \"Save & Run All\" \n",
    "# You can also write temporary files to /kaggle/temp/, but they won't be saved outside of the current session"
   ]
  },
  {
   "cell_type": "code",
   "execution_count": 2,
   "id": "751e1545",
   "metadata": {
    "execution": {
     "iopub.execute_input": "2022-07-16T00:53:12.263300Z",
     "iopub.status.busy": "2022-07-16T00:53:12.262635Z",
     "iopub.status.idle": "2022-07-16T00:53:13.418604Z",
     "shell.execute_reply": "2022-07-16T00:53:13.417265Z"
    },
    "papermill": {
     "duration": 1.16225,
     "end_time": "2022-07-16T00:53:13.421425",
     "exception": false,
     "start_time": "2022-07-16T00:53:12.259175",
     "status": "completed"
    },
    "tags": []
   },
   "outputs": [],
   "source": [
    " import numpy as np\n",
    "import matplotlib.pyplot as plt\n",
    " import seaborn as sns"
   ]
  },
  {
   "cell_type": "code",
   "execution_count": 3,
   "id": "b5911f47",
   "metadata": {
    "execution": {
     "iopub.execute_input": "2022-07-16T00:53:13.427560Z",
     "iopub.status.busy": "2022-07-16T00:53:13.427126Z",
     "iopub.status.idle": "2022-07-16T00:53:13.658893Z",
     "shell.execute_reply": "2022-07-16T00:53:13.657389Z"
    },
    "papermill": {
     "duration": 0.239044,
     "end_time": "2022-07-16T00:53:13.662785",
     "exception": false,
     "start_time": "2022-07-16T00:53:13.423741",
     "status": "completed"
    },
    "tags": []
   },
   "outputs": [
    {
     "data": {
      "image/png": "[encoded data removed]",
      "text/plain": [
       "<Figure size 432x288 with 1 Axes>"
      ]
     },
     "metadata": {
      "needs_background": "light"
     },
     "output_type": "display_data"
    }
   ],
   "source": [
    "plt.quiver(0,0,4,5)\n",
    "plt.show()"
   ]
  },
  {
   "cell_type": "code",
   "execution_count": null,
   "id": "8abb77cc",
   "metadata": {
    "papermill": {
     "duration": 0.003652,
     "end_time": "2022-07-16T00:53:13.670774",
     "exception": false,
     "start_time": "2022-07-16T00:53:13.667122",
     "status": "completed"
    },
    "tags": []
   },
   "outputs": [],
   "source": []
  }
 ],
 "metadata": {
  "kernelspec": {
   "display_name": "Python 3",
   "language": "python",
   "name": "python3"
  },
  "language_info": {
   "codemirror_mode": {
    "name": "ipython",
    "version": 3
   },
   "file_extension": ".py",
   "mimetype": "text/x-python",
   "name": "python",
   "nbconvert_exporter": "python",
   "pygments_lexer": "ipython3",
   "version": "3.7.12"
  },
  "papermill": {
   "default_parameters": {},
   "duration": 12.536857,
   "end_time": "2022-07-16T00:53:14.399306",
   "environment_variables": {},
   "exception": null,
   "input_path": "__notebook__.ipynb",
   "output_path": "__notebook__.ipynb",
   "parameters": {},
   "start_time": "2022-07-16T00:53:01.862449",
   "version": "2.3.4"
  }
 },
 "nbformat": 4,
 "nbformat_minor": 5
}
