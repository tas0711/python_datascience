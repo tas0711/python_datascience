{
 "cells": [
  {
   "cell_type": "code",
   "execution_count": 1,
   "id": "01464285",
   "metadata": {
    "_cell_guid": "b1076dfc-b9ad-4769-8c92-a6c4dae69d19",
    "_uuid": "8f2839f25d086af736a60e9eeb907d3b93b6e0e5",
    "execution": {
     "iopub.execute_input": "2022-07-26T00:46:55.575337Z",
     "iopub.status.busy": "2022-07-26T00:46:55.574795Z",
     "iopub.status.idle": "2022-07-26T00:46:55.588892Z",
     "shell.execute_reply": "2022-07-26T00:46:55.587766Z"
    },
    "papermill": {
     "duration": 0.021596,
     "end_time": "2022-07-26T00:46:55.591478",
     "exception": false,
     "start_time": "2022-07-26T00:46:55.569882",
     "status": "completed"
    },
    "tags": []
   },
   "outputs": [],
   "source": [
    "# This Python 3 environment comes with many helpful analytics libraries installed\n",
    "# It is defined by the kaggle/python Docker image: https://github.com/kaggle/docker-python\n",
    "# For example, here's several helpful packages to load\n",
    "\n",
    "import numpy as np # linear algebra\n",
    "import pandas as pd # data processing, CSV file I/O (e.g. pd.read_csv)\n",
    "\n",
    "# Input data files are available in the read-only \"../input/\" directory\n",
    "# For example, running this (by clicking run or pressing Shift+Enter) will list all files under the input directory\n",
    "\n",
    "import os\n",
    "for dirname, _, filenames in os.walk('/kaggle/input'):\n",
    "    for filename in filenames:\n",
    "        print(os.path.join(dirname, filename))\n",
    "\n",
    "# You can write up to 20GB to the current directory (/kaggle/working/) that gets preserved as output when you create a version using \"Save & Run All\" \n",
    "# You can also write temporary files to /kaggle/temp/, but they won't be saved outside of the current session"
   ]
  },
  {
   "cell_type": "code",
   "execution_count": 2,
   "id": "64f0f6c1",
   "metadata": {
    "execution": {
     "iopub.execute_input": "2022-07-26T00:46:55.599591Z",
     "iopub.status.busy": "2022-07-26T00:46:55.598789Z",
     "iopub.status.idle": "2022-07-26T00:46:55.605039Z",
     "shell.execute_reply": "2022-07-26T00:46:55.603835Z"
    },
    "papermill": {
     "duration": 0.013395,
     "end_time": "2022-07-26T00:46:55.607532",
     "exception": false,
     "start_time": "2022-07-26T00:46:55.594137",
     "status": "completed"
    },
    "tags": []
   },
   "outputs": [
    {
     "name": "stdout",
     "output_type": "stream",
     "text": [
      "end of my script\n"
     ]
    }
   ],
   "source": [
    "x = [1,2,3]\n",
    "\n",
    "for item in x:\n",
    "    # comment\n",
    "    pass\n",
    "\n",
    "print('end of my script')"
   ]
  },
  {
   "cell_type": "code",
   "execution_count": 3,
   "id": "e3578012",
   "metadata": {
    "execution": {
     "iopub.execute_input": "2022-07-26T00:46:55.615500Z",
     "iopub.status.busy": "2022-07-26T00:46:55.614207Z",
     "iopub.status.idle": "2022-07-26T00:46:55.620865Z",
     "shell.execute_reply": "2022-07-26T00:46:55.619474Z"
    },
    "papermill": {
     "duration": 0.014126,
     "end_time": "2022-07-26T00:46:55.624122",
     "exception": false,
     "start_time": "2022-07-26T00:46:55.609996",
     "status": "completed"
    },
    "tags": []
   },
   "outputs": [],
   "source": [
    "mystring = 'Sammy'\n"
   ]
  },
  {
   "cell_type": "code",
   "execution_count": 4,
   "id": "78c83231",
   "metadata": {
    "execution": {
     "iopub.execute_input": "2022-07-26T00:46:55.632712Z",
     "iopub.status.busy": "2022-07-26T00:46:55.631452Z",
     "iopub.status.idle": "2022-07-26T00:46:55.638728Z",
     "shell.execute_reply": "2022-07-26T00:46:55.637778Z"
    },
    "papermill": {
     "duration": 0.014204,
     "end_time": "2022-07-26T00:46:55.641216",
     "exception": false,
     "start_time": "2022-07-26T00:46:55.627012",
     "status": "completed"
    },
    "tags": []
   },
   "outputs": [
    {
     "name": "stdout",
     "output_type": "stream",
     "text": [
      "S\n",
      "a\n",
      "m\n",
      "m\n",
      "y\n"
     ]
    }
   ],
   "source": [
    "for letter in mystring:\n",
    "    print(letter)"
   ]
  },
  {
   "cell_type": "code",
   "execution_count": 5,
   "id": "69d0a64a",
   "metadata": {
    "execution": {
     "iopub.execute_input": "2022-07-26T00:46:55.649444Z",
     "iopub.status.busy": "2022-07-26T00:46:55.647522Z",
     "iopub.status.idle": "2022-07-26T00:46:55.656474Z",
     "shell.execute_reply": "2022-07-26T00:46:55.654709Z"
    },
    "papermill": {
     "duration": 0.015198,
     "end_time": "2022-07-26T00:46:55.659028",
     "exception": false,
     "start_time": "2022-07-26T00:46:55.643830",
     "status": "completed"
    },
    "tags": []
   },
   "outputs": [
    {
     "name": "stdout",
     "output_type": "stream",
     "text": [
      "S\n",
      "m\n",
      "m\n",
      "y\n"
     ]
    }
   ],
   "source": [
    "for letter in mystring:\n",
    "    if letter == 'a':\n",
    "        continue\n",
    "    print(letter)"
   ]
  },
  {
   "cell_type": "code",
   "execution_count": null,
   "id": "5a65f4f7",
   "metadata": {
    "papermill": {
     "duration": 0.002139,
     "end_time": "2022-07-26T00:46:55.663856",
     "exception": false,
     "start_time": "2022-07-26T00:46:55.661717",
     "status": "completed"
    },
    "tags": []
   },
   "outputs": [],
   "source": []
  }
 ],
 "metadata": {
  "kernelspec": {
   "display_name": "Python 3",
   "language": "python",
   "name": "python3"
  },
  "language_info": {
   "codemirror_mode": {
    "name": "ipython",
    "version": 3
   },
   "file_extension": ".py",
   "mimetype": "text/x-python",
   "name": "python",
   "nbconvert_exporter": "python",
   "pygments_lexer": "ipython3",
   "version": "3.7.12"
  },
  "papermill": {
   "default_parameters": {},
   "duration": 11.365378,
   "end_time": "2022-07-26T00:46:56.389269",
   "environment_variables": {},
   "exception": null,
   "input_path": "__notebook__.ipynb",
   "output_path": "__notebook__.ipynb",
   "parameters": {},
   "start_time": "2022-07-26T00:46:45.023891",
   "version": "2.3.4"
  }
 },
 "nbformat": 4,
 "nbformat_minor": 5
}
