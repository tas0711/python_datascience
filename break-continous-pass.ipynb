{
 "cells": [
  {
   "cell_type": "code",
   "execution_count": 1,
   "id": "376fe567",
   "metadata": {
    "_cell_guid": "b1076dfc-b9ad-4769-8c92-a6c4dae69d19",
    "_uuid": "8f2839f25d086af736a60e9eeb907d3b93b6e0e5",
    "execution": {
     "iopub.execute_input": "2022-07-26T00:51:42.304115Z",
     "iopub.status.busy": "2022-07-26T00:51:42.303557Z",
     "iopub.status.idle": "2022-07-26T00:51:42.320577Z",
     "shell.execute_reply": "2022-07-26T00:51:42.319530Z"
    },
    "papermill": {
     "duration": 0.02504,
     "end_time": "2022-07-26T00:51:42.322885",
     "exception": false,
     "start_time": "2022-07-26T00:51:42.297845",
     "status": "completed"
    },
    "tags": []
   },
   "outputs": [],
   "source": [
    "# This Python 3 environment comes with many helpful analytics libraries installed\n",
    "# It is defined by the kaggle/python Docker image: https://github.com/kaggle/docker-python\n",
    "# For example, here's several helpful packages to load\n",
    "\n",
    "import numpy as np # linear algebra\n",
    "import pandas as pd # data processing, CSV file I/O (e.g. pd.read_csv)\n",
    "\n",
    "# Input data files are available in the read-only \"../input/\" directory\n",
    "# For example, running this (by clicking run or pressing Shift+Enter) will list all files under the input directory\n",
    "\n",
    "import os\n",
    "for dirname, _, filenames in os.walk('/kaggle/input'):\n",
    "    for filename in filenames:\n",
    "        print(os.path.join(dirname, filename))\n",
    "\n",
    "# You can write up to 20GB to the current directory (/kaggle/working/) that gets preserved as output when you create a version using \"Save & Run All\" \n",
    "# You can also write temporary files to /kaggle/temp/, but they won't be saved outside of the current session"
   ]
  },
  {
   "cell_type": "code",
   "execution_count": 2,
   "id": "13b98cc9",
   "metadata": {
    "execution": {
     "iopub.execute_input": "2022-07-26T00:51:42.329668Z",
     "iopub.status.busy": "2022-07-26T00:51:42.329340Z",
     "iopub.status.idle": "2022-07-26T00:51:42.335927Z",
     "shell.execute_reply": "2022-07-26T00:51:42.334264Z"
    },
    "papermill": {
     "duration": 0.012185,
     "end_time": "2022-07-26T00:51:42.337826",
     "exception": false,
     "start_time": "2022-07-26T00:51:42.325641",
     "status": "completed"
    },
    "tags": []
   },
   "outputs": [
    {
     "name": "stdout",
     "output_type": "stream",
     "text": [
      "end of my script\n"
     ]
    }
   ],
   "source": [
    "x = [1,2,3]\n",
    "\n",
    "for item in x:\n",
    "    # comment\n",
    "    pass\n",
    "\n",
    "print('end of my script')"
   ]
  },
  {
   "cell_type": "code",
   "execution_count": 3,
   "id": "ab30777a",
   "metadata": {
    "execution": {
     "iopub.execute_input": "2022-07-26T00:51:42.345425Z",
     "iopub.status.busy": "2022-07-26T00:51:42.344425Z",
     "iopub.status.idle": "2022-07-26T00:51:42.349905Z",
     "shell.execute_reply": "2022-07-26T00:51:42.349064Z"
    },
    "papermill": {
     "duration": 0.010911,
     "end_time": "2022-07-26T00:51:42.351607",
     "exception": false,
     "start_time": "2022-07-26T00:51:42.340696",
     "status": "completed"
    },
    "tags": []
   },
   "outputs": [],
   "source": [
    "mystring = 'Sammy'\n"
   ]
  },
  {
   "cell_type": "code",
   "execution_count": 4,
   "id": "10b731e2",
   "metadata": {
    "execution": {
     "iopub.execute_input": "2022-07-26T00:51:42.358470Z",
     "iopub.status.busy": "2022-07-26T00:51:42.357681Z",
     "iopub.status.idle": "2022-07-26T00:51:42.364472Z",
     "shell.execute_reply": "2022-07-26T00:51:42.362256Z"
    },
    "papermill": {
     "duration": 0.013774,
     "end_time": "2022-07-26T00:51:42.367927",
     "exception": false,
     "start_time": "2022-07-26T00:51:42.354153",
     "status": "completed"
    },
    "tags": []
   },
   "outputs": [
    {
     "name": "stdout",
     "output_type": "stream",
     "text": [
      "S\n",
      "a\n",
      "m\n",
      "m\n",
      "y\n"
     ]
    }
   ],
   "source": [
    "for letter in mystring:\n",
    "    print(letter)"
   ]
  },
  {
   "cell_type": "code",
   "execution_count": 5,
   "id": "5d48d21f",
   "metadata": {
    "execution": {
     "iopub.execute_input": "2022-07-26T00:51:42.375542Z",
     "iopub.status.busy": "2022-07-26T00:51:42.374853Z",
     "iopub.status.idle": "2022-07-26T00:51:42.380744Z",
     "shell.execute_reply": "2022-07-26T00:51:42.379651Z"
    },
    "papermill": {
     "duration": 0.011804,
     "end_time": "2022-07-26T00:51:42.382709",
     "exception": false,
     "start_time": "2022-07-26T00:51:42.370905",
     "status": "completed"
    },
    "tags": []
   },
   "outputs": [
    {
     "name": "stdout",
     "output_type": "stream",
     "text": [
      "S\n",
      "m\n",
      "m\n",
      "y\n"
     ]
    }
   ],
   "source": [
    "for letter in mystring:\n",
    "    if letter == 'a':\n",
    "        continue\n",
    "    print(letter)"
   ]
  },
  {
   "cell_type": "code",
   "execution_count": 6,
   "id": "d7c43edb",
   "metadata": {
    "execution": {
     "iopub.execute_input": "2022-07-26T00:51:42.390641Z",
     "iopub.status.busy": "2022-07-26T00:51:42.389967Z",
     "iopub.status.idle": "2022-07-26T00:51:42.396252Z",
     "shell.execute_reply": "2022-07-26T00:51:42.394700Z"
    },
    "papermill": {
     "duration": 0.013568,
     "end_time": "2022-07-26T00:51:42.399511",
     "exception": false,
     "start_time": "2022-07-26T00:51:42.385943",
     "status": "completed"
    },
    "tags": []
   },
   "outputs": [
    {
     "name": "stdout",
     "output_type": "stream",
     "text": [
      "S\n"
     ]
    }
   ],
   "source": [
    "for letter in mystring:\n",
    "    if letter == 'a':\n",
    "        break\n",
    "    print(letter)"
   ]
  },
  {
   "cell_type": "code",
   "execution_count": 7,
   "id": "d6e3388a",
   "metadata": {
    "execution": {
     "iopub.execute_input": "2022-07-26T00:51:42.407258Z",
     "iopub.status.busy": "2022-07-26T00:51:42.406553Z",
     "iopub.status.idle": "2022-07-26T00:51:42.412671Z",
     "shell.execute_reply": "2022-07-26T00:51:42.411827Z"
    },
    "papermill": {
     "duration": 0.011917,
     "end_time": "2022-07-26T00:51:42.414474",
     "exception": false,
     "start_time": "2022-07-26T00:51:42.402557",
     "status": "completed"
    },
    "tags": []
   },
   "outputs": [
    {
     "name": "stdout",
     "output_type": "stream",
     "text": [
      "0\n",
      "1\n",
      "2\n",
      "3\n",
      "4\n"
     ]
    }
   ],
   "source": [
    "x = 0\n",
    "\n",
    "while x < 5:\n",
    "    print(x)\n",
    "    x += 1"
   ]
  },
  {
   "cell_type": "code",
   "execution_count": 8,
   "id": "77b896da",
   "metadata": {
    "execution": {
     "iopub.execute_input": "2022-07-26T00:51:42.421543Z",
     "iopub.status.busy": "2022-07-26T00:51:42.421184Z",
     "iopub.status.idle": "2022-07-26T00:51:42.427255Z",
     "shell.execute_reply": "2022-07-26T00:51:42.426171Z"
    },
    "papermill": {
     "duration": 0.012577,
     "end_time": "2022-07-26T00:51:42.429827",
     "exception": false,
     "start_time": "2022-07-26T00:51:42.417250",
     "status": "completed"
    },
    "tags": []
   },
   "outputs": [
    {
     "name": "stdout",
     "output_type": "stream",
     "text": [
      "0\n",
      "1\n"
     ]
    }
   ],
   "source": [
    "x = 0\n",
    "\n",
    "while x < 5:\n",
    "    \n",
    "    if x == 2:\n",
    "        break\n",
    "    print(x)\n",
    "    x += 1"
   ]
  },
  {
   "cell_type": "code",
   "execution_count": null,
   "id": "1f2bd8b8",
   "metadata": {
    "papermill": {
     "duration": 0.002461,
     "end_time": "2022-07-26T00:51:42.435695",
     "exception": false,
     "start_time": "2022-07-26T00:51:42.433234",
     "status": "completed"
    },
    "tags": []
   },
   "outputs": [],
   "source": []
  }
 ],
 "metadata": {
  "kernelspec": {
   "display_name": "Python 3",
   "language": "python",
   "name": "python3"
  },
  "language_info": {
   "codemirror_mode": {
    "name": "ipython",
    "version": 3
   },
   "file_extension": ".py",
   "mimetype": "text/x-python",
   "name": "python",
   "nbconvert_exporter": "python",
   "pygments_lexer": "ipython3",
   "version": "3.7.12"
  },
  "papermill": {
   "default_parameters": {},
   "duration": 12.188003,
   "end_time": "2022-07-26T00:51:43.059560",
   "environment_variables": {},
   "exception": null,
   "input_path": "__notebook__.ipynb",
   "output_path": "__notebook__.ipynb",
   "parameters": {},
   "start_time": "2022-07-26T00:51:30.871557",
   "version": "2.3.4"
  }
 },
 "nbformat": 4,
 "nbformat_minor": 5
}
