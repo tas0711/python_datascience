{
 "cells": [
  {
   "cell_type": "code",
   "execution_count": 1,
   "id": "3c21fed2",
   "metadata": {
    "_cell_guid": "b1076dfc-b9ad-4769-8c92-a6c4dae69d19",
    "_uuid": "8f2839f25d086af736a60e9eeb907d3b93b6e0e5",
    "execution": {
     "iopub.execute_input": "2022-07-26T00:48:34.433810Z",
     "iopub.status.busy": "2022-07-26T00:48:34.433375Z",
     "iopub.status.idle": "2022-07-26T00:48:34.444285Z",
     "shell.execute_reply": "2022-07-26T00:48:34.443519Z"
    },
    "papermill": {
     "duration": 0.017609,
     "end_time": "2022-07-26T00:48:34.446173",
     "exception": false,
     "start_time": "2022-07-26T00:48:34.428564",
     "status": "completed"
    },
    "tags": []
   },
   "outputs": [],
   "source": [
    "# This Python 3 environment comes with many helpful analytics libraries installed\n",
    "# It is defined by the kaggle/python Docker image: https://github.com/kaggle/docker-python\n",
    "# For example, here's several helpful packages to load\n",
    "\n",
    "import numpy as np # linear algebra\n",
    "import pandas as pd # data processing, CSV file I/O (e.g. pd.read_csv)\n",
    "\n",
    "# Input data files are available in the read-only \"../input/\" directory\n",
    "# For example, running this (by clicking run or pressing Shift+Enter) will list all files under the input directory\n",
    "\n",
    "import os\n",
    "for dirname, _, filenames in os.walk('/kaggle/input'):\n",
    "    for filename in filenames:\n",
    "        print(os.path.join(dirname, filename))\n",
    "\n",
    "# You can write up to 20GB to the current directory (/kaggle/working/) that gets preserved as output when you create a version using \"Save & Run All\" \n",
    "# You can also write temporary files to /kaggle/temp/, but they won't be saved outside of the current session"
   ]
  },
  {
   "cell_type": "code",
   "execution_count": 2,
   "id": "45521e66",
   "metadata": {
    "execution": {
     "iopub.execute_input": "2022-07-26T00:48:34.452428Z",
     "iopub.status.busy": "2022-07-26T00:48:34.451726Z",
     "iopub.status.idle": "2022-07-26T00:48:34.457589Z",
     "shell.execute_reply": "2022-07-26T00:48:34.456425Z"
    },
    "papermill": {
     "duration": 0.011971,
     "end_time": "2022-07-26T00:48:34.460577",
     "exception": false,
     "start_time": "2022-07-26T00:48:34.448606",
     "status": "completed"
    },
    "tags": []
   },
   "outputs": [
    {
     "name": "stdout",
     "output_type": "stream",
     "text": [
      "end of my script\n"
     ]
    }
   ],
   "source": [
    "x = [1,2,3]\n",
    "\n",
    "for item in x:\n",
    "    # comment\n",
    "    pass\n",
    "\n",
    "print('end of my script')"
   ]
  },
  {
   "cell_type": "code",
   "execution_count": 3,
   "id": "1ce6f526",
   "metadata": {
    "execution": {
     "iopub.execute_input": "2022-07-26T00:48:34.466831Z",
     "iopub.status.busy": "2022-07-26T00:48:34.466194Z",
     "iopub.status.idle": "2022-07-26T00:48:34.470733Z",
     "shell.execute_reply": "2022-07-26T00:48:34.469986Z"
    },
    "papermill": {
     "duration": 0.009911,
     "end_time": "2022-07-26T00:48:34.472788",
     "exception": false,
     "start_time": "2022-07-26T00:48:34.462877",
     "status": "completed"
    },
    "tags": []
   },
   "outputs": [],
   "source": [
    "mystring = 'Sammy'\n"
   ]
  },
  {
   "cell_type": "code",
   "execution_count": 4,
   "id": "5a397cfb",
   "metadata": {
    "execution": {
     "iopub.execute_input": "2022-07-26T00:48:34.479288Z",
     "iopub.status.busy": "2022-07-26T00:48:34.478581Z",
     "iopub.status.idle": "2022-07-26T00:48:34.484268Z",
     "shell.execute_reply": "2022-07-26T00:48:34.483145Z"
    },
    "papermill": {
     "duration": 0.011144,
     "end_time": "2022-07-26T00:48:34.486274",
     "exception": false,
     "start_time": "2022-07-26T00:48:34.475130",
     "status": "completed"
    },
    "tags": []
   },
   "outputs": [
    {
     "name": "stdout",
     "output_type": "stream",
     "text": [
      "S\n",
      "a\n",
      "m\n",
      "m\n",
      "y\n"
     ]
    }
   ],
   "source": [
    "for letter in mystring:\n",
    "    print(letter)"
   ]
  },
  {
   "cell_type": "code",
   "execution_count": 5,
   "id": "586eb169",
   "metadata": {
    "execution": {
     "iopub.execute_input": "2022-07-26T00:48:34.492360Z",
     "iopub.status.busy": "2022-07-26T00:48:34.491987Z",
     "iopub.status.idle": "2022-07-26T00:48:34.497008Z",
     "shell.execute_reply": "2022-07-26T00:48:34.495797Z"
    },
    "papermill": {
     "duration": 0.011285,
     "end_time": "2022-07-26T00:48:34.499857",
     "exception": false,
     "start_time": "2022-07-26T00:48:34.488572",
     "status": "completed"
    },
    "tags": []
   },
   "outputs": [
    {
     "name": "stdout",
     "output_type": "stream",
     "text": [
      "S\n",
      "m\n",
      "m\n",
      "y\n"
     ]
    }
   ],
   "source": [
    "for letter in mystring:\n",
    "    if letter == 'a':\n",
    "        continue\n",
    "    print(letter)"
   ]
  },
  {
   "cell_type": "code",
   "execution_count": 6,
   "id": "42a5ecd3",
   "metadata": {
    "execution": {
     "iopub.execute_input": "2022-07-26T00:48:34.506308Z",
     "iopub.status.busy": "2022-07-26T00:48:34.505663Z",
     "iopub.status.idle": "2022-07-26T00:48:34.511740Z",
     "shell.execute_reply": "2022-07-26T00:48:34.510520Z"
    },
    "papermill": {
     "duration": 0.011591,
     "end_time": "2022-07-26T00:48:34.513860",
     "exception": false,
     "start_time": "2022-07-26T00:48:34.502269",
     "status": "completed"
    },
    "tags": []
   },
   "outputs": [
    {
     "name": "stdout",
     "output_type": "stream",
     "text": [
      "S\n"
     ]
    }
   ],
   "source": [
    "for letter in mystring:\n",
    "    if letter == 'a':\n",
    "        break\n",
    "    print(letter)"
   ]
  },
  {
   "cell_type": "code",
   "execution_count": null,
   "id": "e205b432",
   "metadata": {
    "papermill": {
     "duration": 0.002108,
     "end_time": "2022-07-26T00:48:34.518453",
     "exception": false,
     "start_time": "2022-07-26T00:48:34.516345",
     "status": "completed"
    },
    "tags": []
   },
   "outputs": [],
   "source": []
  }
 ],
 "metadata": {
  "kernelspec": {
   "display_name": "Python 3",
   "language": "python",
   "name": "python3"
  },
  "language_info": {
   "codemirror_mode": {
    "name": "ipython",
    "version": 3
   },
   "file_extension": ".py",
   "mimetype": "text/x-python",
   "name": "python",
   "nbconvert_exporter": "python",
   "pygments_lexer": "ipython3",
   "version": "3.7.12"
  },
  "papermill": {
   "default_parameters": {},
   "duration": 9.621083,
   "end_time": "2022-07-26T00:48:35.140955",
   "environment_variables": {},
   "exception": null,
   "input_path": "__notebook__.ipynb",
   "output_path": "__notebook__.ipynb",
   "parameters": {},
   "start_time": "2022-07-26T00:48:25.519872",
   "version": "2.3.4"
  }
 },
 "nbformat": 4,
 "nbformat_minor": 5
}
